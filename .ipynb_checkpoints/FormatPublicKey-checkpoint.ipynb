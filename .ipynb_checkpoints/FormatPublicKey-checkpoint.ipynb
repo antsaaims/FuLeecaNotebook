{
 "cells": [
  {
   "cell_type": "markdown",
   "id": "7f2433cc-a43d-4eef-9511-52a0f66817d4",
   "metadata": {},
   "source": [
    "# Formatting the Public key file for FuLeeca"
   ]
  },
  {
   "cell_type": "code",
   "execution_count": 1,
   "id": "7f3e600d-be9d-4de8-92ae-a77fbd6fad36",
   "metadata": {},
   "outputs": [],
   "source": [
    "#importing the required library, all of the library here can be install using pip\n",
    "import numpy as np"
   ]
  },
  {
   "cell_type": "code",
   "execution_count": 64,
   "id": "1681a4b7-4e84-435f-9071-8e88246a8354",
   "metadata": {
    "tags": []
   },
   "outputs": [],
   "source": [
    "# #Run this only if you are working on Colab\n",
    "# #installing and importing pyomo\n",
    "# !pip install -q pyomo\n",
    "# from pyomo.environ import *\n",
    "# !wget -N -q \"https://matematica.unipv.it/gualandi/solvers/ipopt-linux64.zip\"\n",
    "# !unzip -o -q ipopt-linux64"
   ]
  },
  {
   "cell_type": "code",
   "execution_count": 2,
   "id": "41136639-2be3-49aa-b0b1-792e529720be",
   "metadata": {
    "tags": []
   },
   "outputs": [],
   "source": [
    "#Select the level\n",
    "level = 0 # choose 0 for toy example, 1,3,5 for each corresponding NIST security level"
   ]
  },
  {
   "cell_type": "code",
   "execution_count": 2,
   "id": "264df458-9bbd-428e-bfaa-bfd0fb9b657e",
   "metadata": {
    "tags": []
   },
   "outputs": [],
   "source": [
    "mset1 = [65363, 65364, 65365, 65366, 65367, 65368, 65369, 65370, 65371, 65372, 65373, 65374, 65375, 65376, 65377, 65378, 65379, 65380, 65381, 65382, 65383, 65384, 65385, 65386, 65387, 65388, 65389, 65390, 65391, 65392, 65393, 65394, 65395, 65396, 65397, 65398, 65399, 65400, 65401, 65402, 65403, 65404, 65405, 65406, 65407, 65408, 65409, 65410, 65411, 65412, 65413, 65414, 65415, 65416, 65417, 65418, 65419, 65420, 65421, 65422, 65423, 65424, 65425, 65426, 65427, 65428, 65429, 65430, 65431, 65432, 65433, 65434, 65435, 65436, 65437, 65438, 65439, 65440, 65441, 65442, 65443, 65444, 65445, 65446, 65447, 65448, 65449, 65450, 65451, 65452, 65453, 65454, 65455, 65456, 65457, 65458, 65459, 65460, 65461, 65462, 65463, 65463, 65464, 65464, 65465, 65465, 65466, 65466, 65467, 65467, 65468, 65468, 65469, 65469, 65470, 65470, 65471, 65471, 65472, 65472, 65473, 65473, 65474, 65474, 65475, 65475, 65476, 65476, 65477, 65477, 65478, 65478, 65479, 65479, 65480, 65480, 65481, 65481, 65482, 65482, 65482, 65483, 65483, 65483, 65484, 65484, 65484, 65485, 65485, 65485, 65486, 65486, 65486, 65487, 65487, 65487, 65488, 65488, 65488, 65489, 65489, 65489, 65490, 65490, 65490, 65491, 65491, 65491, 65492, 65492, 65492, 65493, 65493, 65493, 65494, 65494, 65494, 65495, 65495, 65495, 65495, 65496, 65496, 65496, 65496, 65497, 65497, 65497, 65497, 65498, 65498, 65498, 65498, 65499, 65499, 65499, 65499, 65500, 65500, 65500, 65500, 65501, 65501, 65501, 65501, 65502, 65502, 65502, 65502, 65503, 65503, 65503, 65503, 65504, 65504, 65504, 65504, 65505, 65505, 65505, 65505, 65506, 65506, 65506, 65506, 65506, 65507, 65507, 65507, 65507, 65507, 65508, 65508, 65508, 65508, 65508, 65509, 65509, 65509, 65509, 65509, 65510, 65510, 65510, 65510, 65510, 65511, 65511, 65511, 65511, 65511, 65512, 65512, 65512, 65512, 65512, 65513, 65513, 65513, 65513, 65513, 65514, 65514, 65514, 65514, 65514, 65514, 65515, 65515, 65515, 65515, 65515, 65515, 65516, 65516, 65516, 65516, 65516, 65516, 65517, 65517, 65517, 65517, 65517, 65517, 65518, 65518, 65518, 65518, 65518, 65518, 65519, 65519, 65519, 65519, 65519, 65519, 65520, 65520, 65520, 65520, 65520, 65520, 1, 1, 1, 1, 1, 1, 2, 2, 2, 2, 2, 2, 3, 3, 3, 3, 3, 3, 4, 4, 4, 4, 4, 4, 5, 5, 5, 5, 5, 5, 6, 6, 6, 6, 6, 6, 7, 7, 7, 7, 7, 7, 8, 8, 8, 8, 8, 9, 9, 9, 9, 9, 10, 10, 10, 10, 10, 11, 11, 11, 11, 11, 12, 12, 12, 12, 12, 13, 13, 13, 13, 13, 14, 14, 14, 14, 14, 15, 15, 15, 15, 15, 16, 16, 16, 16, 17, 17, 17, 17, 18, 18, 18, 18, 19, 19, 19, 19, 20, 20, 20, 20, 21, 21, 21, 21, 22, 22, 22, 22, 23, 23, 23, 23, 24, 24, 24, 24, 25, 25, 25, 25, 26, 26, 26, 26, 27, 27, 27, 28, 28, 28, 29, 29, 29, 30, 30, 30, 31, 31, 31, 32, 32, 32, 33, 33, 33, 34, 34, 34, 35, 35, 35, 36, 36, 36, 37, 37, 37, 38, 38, 38, 39, 39, 39, 40, 40, 41, 41, 42, 42, 43, 43, 44, 44, 45, 45, 46, 46, 47, 47, 48, 48, 49, 49, 50, 50, 51, 51, 52, 52, 53, 53, 54, 54, 55, 55, 56, 56, 57, 57, 58, 58, 59, 60, 61, 62, 63, 64, 65, 66, 67, 68, 69, 70, 71, 72, 73, 74, 75, 76, 77, 78, 79, 80, 81, 82, 83, 84, 85, 86, 87, 88, 89, 90, 91, 92, 93, 94, 95, 96, 97, 98, 99, 100, 101, 102, 103, 104, 105, 106, 107, 108, 109, 110, 111, 112, 113, 114, 115, 116, 117, 118, 119, 120, 121, 122, 123, 124, 125, 126, 127, 128, 129, 130, 131, 132, 133, 134, 135, 136, 137, 138, 139, 140, 141, 142, 143, 144, 145, 146, 147, 148, 149, 150, 151, 152, 153, 154, 155, 156, 157, 158, 0, 0, 0, 0, 0, 0, 0, 0, 0, 0, 0, 0, 0, 0, 0, 0, 0, 0, 0, 0, 0, 0, 0, 0, 0, 0, 0, 0, 0, 0, 0, 0, 0, 0, 0, 0, 0, 0, 0, 0, 0, 0, 0, 0, 0, 0, 0, 0, 0, 0, 0, 0, 0]"
   ]
  },
  {
   "cell_type": "markdown",
   "id": "b7ef4c30-cbf7-4366-9828-1ebb69213492",
   "metadata": {},
   "source": [
    "## From the array of public key $T$, generate public_key.dat"
   ]
  },
  {
   "cell_type": "code",
   "execution_count": 3,
   "id": "e91d785e-a8b6-432a-8300-8c4ce35fd5c6",
   "metadata": {
    "tags": []
   },
   "outputs": [],
   "source": [
    "#use this if you obtained the T value as a file.\n",
    "def get_T(T_csv):\n",
    "    '''Given a csv/text file containing T, output T as an numpy array'''\n",
    "    T =  np.loadtxt(T_csv, delimiter=\",\",dtype = 'uint8') \n",
    "    return(T)        "
   ]
  },
  {
   "cell_type": "code",
   "execution_count": 4,
   "id": "f2e06912-8c13-41b0-8341-793f78d0b848",
   "metadata": {
    "tags": []
   },
   "outputs": [],
   "source": [
    "#T = get_T(\"T.csv\")\n",
    "#T\n",
    "T = get_T(\"Tlevel1.csv\")"
   ]
  },
  {
   "cell_type": "code",
   "execution_count": 5,
   "id": "415da0ea-f30d-4b8b-bff2-c04e8d9ac2e7",
   "metadata": {
    "tags": []
   },
   "outputs": [],
   "source": [
    "def T_to_dat(level=0, T=T ,filename = 'toyexample'):\n",
    "    '''Given an array/list of T, create a .dat file that is compatible with pyomo'''\n",
    "        #Setting the parameters corresponding to the security level\n",
    "    if level == 0:\n",
    "        p = 5\n",
    "        halfn = 11\n",
    "        mset = [0, 0, 0, 1, 1, 2, 2, 3, 4, 4, 4]\n",
    "    elif level ==1:\n",
    "        p = 65521\n",
    "        halfn = 659\n",
    "        mset = mset1 \n",
    "    uba = (p-1)//2 #upper bound of a \n",
    "    Mset = np.array([min(abs(x - p),x) for x in mset])\n",
    "    #This code works but not optimized\n",
    "    s = 'param level:=' + str(level)\n",
    "    s = s + '; \\nparam p:= ' +str(p) \n",
    "    s = s + '; \\nparam uba:= ' +str(uba)\n",
    "    s = s + '; \\nparam halfn:= ' +str(halfn) \n",
    "    \n",
    "    # s = s + '; \\nparam Mset:'\n",
    "    # s = s+ ' '.join([str(i+1) for i in range(halfn)])  + ':=\\n'\n",
    "    s = s+ '; \\nparam: i:\\n'\n",
    "    s =s+ '       Mset:='\n",
    "    \n",
    "    for i in range(halfn):\n",
    "        s = s +  '\\n      '+str(i+1) + ' ' + str(Mset[i]) \n",
    "    \n",
    "    #s = s+ '           '+ ' '.join([str(Mset[i]) for i in range(halfn)])\n",
    "    s = s + '; \\nparam T:  '\n",
    "    s = s+' '.join([str(i+1) for i in range(halfn)])  + ':=\\n'\n",
    "    s = s+  '\\n'.join(( [ '        '+str(i+1) +' '+ str(T[i])[1:-1] for i in range(halfn)]))\n",
    "    s = s+';'  \n",
    "    #np.savetxt(filename + '.dat', s , fmt='%s')\n",
    "    with open(filename+'.dat',\"w\") as f:\n",
    "        f.write(s)\n",
    "    print('Task done, see your file at ' + filename +'.dat')\n",
    "    return(s)"
   ]
  },
  {
   "cell_type": "code",
   "execution_count": 7,
   "id": "da23441d-c96e-4712-8f1d-f247dd534b3c",
   "metadata": {
    "tags": []
   },
   "outputs": [],
   "source": [
    "#print(T_to_dat())"
   ]
  },
  {
   "cell_type": "code",
   "execution_count": 6,
   "id": "c5520b53-952f-43fe-8a2f-7f301a12838a",
   "metadata": {},
   "outputs": [
    {
     "name": "stdout",
     "output_type": "stream",
     "text": [
      "Task done, see your file at level1example.dat\n"
     ]
    }
   ],
   "source": [
    "s = T_to_dat(level = 1,T = T ,filename = 'level1example')"
   ]
  },
  {
   "cell_type": "code",
   "execution_count": 80,
   "id": "b42c3b4d-157b-4eb3-8bce-33acb50fe701",
   "metadata": {
    "tags": []
   },
   "outputs": [],
   "source": [
    "#s"
   ]
  },
  {
   "cell_type": "code",
   "execution_count": null,
   "id": "309cac63-d700-45a9-8034-12a66ae31cce",
   "metadata": {},
   "outputs": [],
   "source": []
  }
 ],
 "metadata": {
  "kernelspec": {
   "display_name": "Python 3 (ipykernel)",
   "language": "python",
   "name": "python3"
  },
  "language_info": {
   "codemirror_mode": {
    "name": "ipython",
    "version": 3
   },
   "file_extension": ".py",
   "mimetype": "text/x-python",
   "name": "python",
   "nbconvert_exporter": "python",
   "pygments_lexer": "ipython3",
   "version": "3.9.12"
  }
 },
 "nbformat": 4,
 "nbformat_minor": 5
}
