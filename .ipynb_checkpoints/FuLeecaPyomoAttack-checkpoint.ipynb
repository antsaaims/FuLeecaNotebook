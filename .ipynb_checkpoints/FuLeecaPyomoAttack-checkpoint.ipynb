{
 "cells": [
  {
   "cell_type": "markdown",
   "id": "61101cf7-01b4-476c-a148-685b41fcb69b",
   "metadata": {},
   "source": [
    "# FuLeeca Attack modeling using Pyomo\n",
    "\n",
    "In this notebook, we are modelling the FuLeeca attack in Pyomo so that we will be able to use different solvers instead of just Gurobi.\n",
    "\n",
    "Solver that did give a forgesk for toyexample.\n",
    "\n",
    "- Highs 8.5 s\n",
    "- Gurobi (needs actual licence)\n",
    "- Couenne 4838.0 s (maybe we should not use this)\n",
    "\n",
    "\n",
    "Solvers that did give error\n",
    "\n",
    "- ipopt: max iter problem\n",
    "- cbc could not run the toy example after 1 hour\n",
    "- amplgsl does not woork\n",
    "- baron does not work \n",
    "- base does not work\n",
    "- conopt did not give correct output\n",
    "- copt did not work\n",
    "-  'ilogcp' it ios for scheduling so do not use it\n",
    "- cplex did not give an output\n",
    "- gcg took too long\n",
    "- gecode: not for continuous variable\n"
   ]
  },
  {
   "cell_type": "code",
   "execution_count": 1,
   "id": "59099a70-6ab6-41b4-a0c3-3f7db7df9758",
   "metadata": {},
   "outputs": [],
   "source": [
    "#Loading the libraries to be used \n",
    "from pyomo.environ import *\n",
    "import matplotlib.pyplot as plt\n",
    "import random \n",
    "import numpy as np\n",
    "import pandas as pd\n",
    "from pyomo.common.timing import TicTocTimer\n",
    "from amplpy import modules\n",
    "\n",
    "model = AbstractModel()\n",
    "model.level = Param()\n",
    "model.halfn = Param()\n",
    "model.p = Param()\n",
    "model.uba = Param() #upper bound of a     \n",
    "model.i = Set()\n",
    "model.j = RangeSet(1, model.halfn)\n",
    "model.T = Param(model.i,model.j, within=Reals)\n",
    "model.Mset = Param(model.i, within=Reals)\n",
    "\n",
    "def initval(model,i):\n",
    "    return random.randint(-model.uba,model.uba) #initialization of the variable\n",
    "def init0(model,i):\n",
    "    return(0)\n",
    "def init1(model,i,j):\n",
    "    return(0)\n",
    "model.a = Var(model.i, bounds=(-model.uba,model.uba), within= Reals, initialize=initval)\n",
    "model.b = Var(model.i, bounds=(-model.uba,model.uba) , within= Reals, initialize=initval)\n",
    "model.q = Var(model.i, within=Integers,initialize=init0)\n",
    "model.Pa = Var(model.i,model.j,  bounds=(-1,1), within=Integers,initialize=init1) \n",
    "model.Pb = Var(model.i,model.j,  bounds=(-1,1), within=Integers,initialize=init1) \n",
    "\n",
    "def rule_baT(model,i):\n",
    "        return(np.sum([model.a[j]*model.T[j,i] for j in model.j ]) == model.q[i]*model.p + model.b[i])#b =aT    \n",
    "model.C1   = Constraint(model.i,rule=rule_baT)\n",
    "\n",
    "def rule_a(model,i):\n",
    "    return(sum([model.Mset[j]*model.Pa[j,i] for j in model.j]) == model.a[i])#building a\n",
    "model.Ca = Constraint(model.i, rule = rule_a)\n",
    "def rule_b(model,i):\n",
    "    return(sum([model.Mset[j]*model.Pb[j,i] for j in model.j]) == model.b[i])#building a\n",
    "model.Cb = Constraint(model.i, rule = rule_b)\n",
    "\n",
    "def rule_cPa(model,i):\n",
    "    return((sum([(model.Pa[j,i])**2  for j in model.j]))==1)#each column exactly one nonzero elements  \n",
    "model.cPa = Constraint(model.i, rule = rule_cPa)\n",
    "def rule_cPb(model,i):\n",
    "    return((sum([(model.Pb[j,i])**2 for j in model.j])) ==1)#each column has exactly one nonzero elements  \n",
    "model.cPb = Constraint(model.i, rule = rule_cPb)\n",
    "def rule_rPa(model,i):\n",
    "    return((sum([(model.Pa[i,j])**2 for j in model.j])) ==1)#each row exactly one nonzero elements  \n",
    "model.rPa = Constraint(model.i, rule = rule_rPa)\n",
    "def rule_rPb(model,i):\n",
    "    return((sum([(model.Pb[i,j])**2 for j in model.j])) ==1)#each row has exactly one nonzero elements  \n",
    "model.rPb = Constraint(model.i, rule = rule_rPb)\n",
    "\n",
    "def rule_OF(model):\n",
    "    return sum(model.q[i] for i in model.i)\n",
    "\n",
    "model.obj = Objective(rule=rule_OF, sense=maximize)\n",
    "#opt.options['max_iter'] = 100000\n",
    "\n",
    "#['bonmin', 'cbc', 'conopt', 'couenne', 'cplex', 'filmint', 'filter', 'ipopt', 'knitro', 'l-bfgs-b', \n",
    "#'lancelot', 'lgo', 'loqo', 'minlp', 'minos', 'minto', 'mosek', 'octeract', 'ooqp', 'path', 'raposa', 'snopt']"
   ]
  },
  {
   "cell_type": "code",
   "execution_count": 8,
   "id": "f6c0106a",
   "metadata": {},
   "outputs": [
    {
     "name": "stdout",
     "output_type": "stream",
     "text": [
      "['amplgsl', 'baron', 'base', 'cbc', 'coin', 'conopt', 'copt', 'cplex', 'gcg', 'gecode', 'gokestrel', 'gurobi', 'highs', 'ilogcp', 'knitro']\n"
     ]
    }
   ],
   "source": [
    "print(modules.installed())"
   ]
  },
  {
   "cell_type": "code",
   "execution_count": 2,
   "id": "f04f65a5-f7ac-4814-8f70-d4658000b27b",
   "metadata": {
    "tags": []
   },
   "outputs": [],
   "source": [
    "def forge_sk(filename = \"toyexample.dat\", store_at = \"forgedsk.txt\", solvername = 'highs',verbose = False):\n",
    "    opt = SolverFactory(modules.find(solvername), solve_io=\"nl\") #Couenne was good, ipopt did not give a result(always max iteration)\n",
    "    timer = TicTocTimer()\n",
    "    timer.tic('starting timer')\n",
    "    instance = model.create_instance(filename)\n",
    "    print('We just have built the instance, start solving stay tuned!')\n",
    "    results = opt.solve(instance,keepfiles=True, logfile=\"my.log\")\n",
    "\n",
    "    \n",
    "    if (results.solver.status == SolverStatus.ok) and (results.solver.termination_condition == TerminationCondition.optimal):\n",
    "        print('feasible')\n",
    "    elif (results.solver.termination_condition == TerminationCondition.infeasible):\n",
    "        print('infeasible')\n",
    "    else:\n",
    "        print ('Solver Status:',  results.solver.status)\n",
    "    print(value(instance.obj))\n",
    "    a = [int(round(instance.a[i].value,0)) for i in instance.i]\n",
    "    b = [int(round(instance.b[i].value,0)) for i in instance.i]\n",
    "    sk = a+b\n",
    "    T = [[instance.T[i,j] for j in instance.j] for i in instance.i]\n",
    "    p = instance.p.value\n",
    "    print('Verifying that indeed aT = b mod p \\n This should be 1 if the sekret keys are valid:\\n')\n",
    "    isokay = prod(np.dot(a,T) %p == np.array(b)%p)\n",
    "    print(isokay)\n",
    "    #Write a and b in a file \n",
    "    np.savetxt(store_at, sk, fmt=\"%d\", delimiter=\",\")\n",
    "    dT = timer.toc('task 1')\n",
    "    print(\"elapsed time: %0.1f s\" % dT)\n",
    "    if verbose:\n",
    "        print('Value of a' + str(a))\n",
    "        print('Value of b' + str(b))\n",
    "    return([isokay,dT])"
   ]
  },
  {
   "cell_type": "code",
   "execution_count": 14,
   "id": "55bd7234-bc91-46f1-9204-8f0b4610fd8a",
   "metadata": {
    "tags": []
   },
   "outputs": [],
   "source": [
    "#forge_sk()"
   ]
  },
  {
   "cell_type": "code",
   "execution_count": null,
   "id": "bd7a342f-e007-4427-9fd7-d4334b3bbe8a",
   "metadata": {
    "tags": []
   },
   "outputs": [
    {
     "name": "stdout",
     "output_type": "stream",
     "text": [
      "[    0.00] starting timer\n",
      "We just have built the instance, start solving stay tuned!\n",
      "Solver log file: 'my.log'\n",
      "Solver solution file: '/tmp/tmpeq19ebp5.pyomo.sol'\n",
      "Solver problem files: ('/tmp/tmpeq19ebp5.pyomo.nl',)\n"
     ]
    }
   ],
   "source": [
    "#level 1 \n",
    "#forge_sk(filename = \"level1example.dat\", store_at = \"forgedlevel1sk.txt\", verbose = False)"
   ]
  },
  {
   "cell_type": "code",
   "execution_count": 21,
   "id": "a95c9459-118f-4962-894a-ef26f27ef13b",
   "metadata": {},
   "outputs": [
    {
     "name": "stdout",
     "output_type": "stream",
     "text": [
      "[    0.00] starting timer\n",
      "We just have built the instance, start solving stay tuned!\n",
      "Solver log file: 'my.log'\n",
      "Solver solution file: '/tmp/tmp4jqwwfh2.pyomo.sol'\n",
      "Solver problem files: ('/tmp/tmp4jqwwfh2.pyomo.nl',)\n",
      "feasible\n",
      "59.00000000000001\n",
      "Verifying that indeed aT = b mod p \n",
      " This should be 1 if the sekret keys are valid:\n",
      "\n",
      "1\n",
      "[+   8.75] task 1\n",
      "elapsed time: 8.8 s\n"
     ]
    }
   ],
   "source": [
    "#Toyexample with Highs\n",
    "#forge_sk(filename = \"toyexample.dat\", store_at = \"toyhighssk.txt\", verbose = False)"
   ]
  },
  {
   "cell_type": "code",
   "execution_count": 5,
   "id": "6ca7fc73",
   "metadata": {},
   "outputs": [],
   "source": [
    "listsolver = ['highs']"
   ]
  },
  {
   "cell_type": "code",
   "execution_count": 6,
   "id": "d2dc779d-a393-41c2-80f6-a710e1e72931",
   "metadata": {},
   "outputs": [
    {
     "name": "stdout",
     "output_type": "stream",
     "text": [
      "forging the toyexample using highs\n",
      "[    0.00] starting timer\n",
      "We just have built the instance, start solving stay tuned!\n",
      "Solver log file: 'my.log'\n",
      "Solver solution file: '/tmp/tmpj4azcarl.pyomo.sol'\n",
      "Solver problem files: ('/tmp/tmpj4azcarl.pyomo.nl',)\n",
      "feasible\n",
      "59.00000000000001\n",
      "Verifying that indeed aT = b mod p \n",
      " This should be 1 if the sekret keys are valid:\n",
      "\n",
      "1\n",
      "[+  20.09] task 1\n",
      "elapsed time: 20.1 s\n"
     ]
    }
   ],
   "source": [
    "usedtime = []\n",
    "for solver in listsolver:\n",
    "    print(\"forging the toyexample using \" +solver)\n",
    "    try:\n",
    "        usedtime.append([solver]+\n",
    "                        forge_sk(filename = \"toyexample.dat\",\n",
    "                                 store_at = \"toyhighs\"+solver+\"sk.txt\",\n",
    "                                 solvername = solver, \n",
    "                                 verbose = False))\n",
    "    except:\n",
    "        continue"
   ]
  },
  {
   "cell_type": "code",
   "execution_count": 7,
   "id": "f986872b",
   "metadata": {},
   "outputs": [
    {
     "data": {
      "text/plain": [
       "[['highs', 1, 20.0866441160033]]"
      ]
     },
     "execution_count": 7,
     "metadata": {},
     "output_type": "execute_result"
    }
   ],
   "source": [
    "usedtime"
   ]
  },
  {
   "cell_type": "code",
   "execution_count": null,
   "id": "431bc990",
   "metadata": {},
   "outputs": [],
   "source": []
  }
 ],
 "metadata": {
  "kernelspec": {
   "display_name": "Python 3 (ipykernel)",
   "language": "python",
   "name": "python3"
  },
  "language_info": {
   "codemirror_mode": {
    "name": "ipython",
    "version": 3
   },
   "file_extension": ".py",
   "mimetype": "text/x-python",
   "name": "python",
   "nbconvert_exporter": "python",
   "pygments_lexer": "ipython3",
   "version": "3.9.12"
  }
 },
 "nbformat": 4,
 "nbformat_minor": 5
}
