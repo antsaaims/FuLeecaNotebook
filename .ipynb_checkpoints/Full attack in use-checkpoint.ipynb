{
 "cells": [
  {
   "cell_type": "markdown",
   "id": "97f76be4-b2f2-445e-8cab-e60af19c06d2",
   "metadata": {},
   "source": [
    "# Full attack in use\n",
    "\n",
    "This is the test filke for this Python module"
   ]
  },
  {
   "cell_type": "code",
   "execution_count": 1,
   "id": "c9a81f31-93ff-4922-b1c1-ec1d1540ab02",
   "metadata": {},
   "outputs": [],
   "source": [
    "#!pip install pyomo"
   ]
  },
  {
   "cell_type": "code",
   "execution_count": 2,
   "id": "777a4864-a411-400e-b00c-6851304c4c20",
   "metadata": {},
   "outputs": [],
   "source": [
    "#!pip install hsnf==0.3.13"
   ]
  },
  {
   "cell_type": "code",
   "execution_count": 3,
   "id": "96d71f74-9f80-4136-9c4f-90e344817c17",
   "metadata": {},
   "outputs": [],
   "source": [
    "#from pyomo import*"
   ]
  },
  {
   "cell_type": "code",
   "execution_count": 4,
   "id": "06cb6560",
   "metadata": {
    "tags": []
   },
   "outputs": [],
   "source": [
    "import attackfuleeca #importing the class\n",
    "from datetime import datetime\n",
    "import pandas as pd\n"
   ]
  },
  {
   "cell_type": "code",
   "execution_count": 5,
   "id": "3c53736c",
   "metadata": {
    "tags": []
   },
   "outputs": [],
   "source": [
    "attack = attackfuleeca.attack()"
   ]
  },
  {
   "cell_type": "code",
   "execution_count": 6,
   "id": "80287650",
   "metadata": {
    "tags": []
   },
   "outputs": [
    {
     "name": "stdout",
     "output_type": "stream",
     "text": [
      "Hello, I am the python class used to attack FuLeeca,\n",
      " I can be used to generate a key pair for FuLeeca,\n",
      " I also can load a public key from a file,\n",
      " I format the public key so that it can be used in Pyomo,\n",
      ", I use Pyomo to attack the FuLeeca cryptosystem and you got to choose which solver to use!\n"
     ]
    }
   ],
   "source": [
    "print(attack)"
   ]
  },
  {
   "cell_type": "code",
   "execution_count": 7,
   "id": "3712f694",
   "metadata": {
    "scrolled": true,
    "tags": []
   },
   "outputs": [],
   "source": [
    "#len(attack.MakeTLS(42)) #should be 42"
   ]
  },
  {
   "cell_type": "code",
   "execution_count": 8,
   "id": "a7ac68c9",
   "metadata": {},
   "outputs": [
    {
     "name": "stdout",
     "output_type": "stream",
     "text": [
      "p is5\n",
      "halfn is 11\n",
      "This should be 1 if the sekret keys are valid\n",
      "1\n"
     ]
    }
   ],
   "source": [
    "attack.generate_key(level = 0)"
   ]
  },
  {
   "cell_type": "code",
   "execution_count": 9,
   "id": "be4935b0",
   "metadata": {},
   "outputs": [],
   "source": [
    "#attack.generate_key(verbose =True)"
   ]
  },
  {
   "cell_type": "code",
   "execution_count": 10,
   "id": "0f75c125",
   "metadata": {},
   "outputs": [],
   "source": [
    "T = attack.get_T('T.csv')"
   ]
  },
  {
   "cell_type": "code",
   "execution_count": 11,
   "id": "6774989c",
   "metadata": {},
   "outputs": [
    {
     "data": {
      "text/plain": [
       "11"
      ]
     },
     "execution_count": 11,
     "metadata": {},
     "output_type": "execute_result"
    }
   ],
   "source": [
    "len(T[1])"
   ]
  },
  {
   "cell_type": "code",
   "execution_count": 12,
   "id": "04d6d517",
   "metadata": {},
   "outputs": [
    {
     "name": "stdout",
     "output_type": "stream",
     "text": [
      "Task done, see your file at toyexample.dat\n",
      "param level:=0; \n",
      "param p:= 5; \n",
      "param uba:= 2; \n",
      "param halfn:= 11; \n",
      "param: i:\n",
      "       Mset:=\n",
      "      1 0\n",
      "      2 0\n",
      "      3 0\n",
      "      4 1\n",
      "      5 1\n",
      "      6 2\n",
      "      7 2\n",
      "      8 2\n",
      "      9 1\n",
      "      10 1\n",
      "      11 1; \n",
      "param T:  1 2 3 4 5 6 7 8 9 10 11:=\n",
      "        1 4 2 1 3 2 2 1 4 3 2 2\n",
      "        2 2 4 2 1 3 2 2 1 4 3 2\n",
      "        3 2 2 4 2 1 3 2 2 1 4 3\n",
      "        4 3 2 2 4 2 1 3 2 2 1 4\n",
      "        5 4 3 2 2 4 2 1 3 2 2 1\n",
      "        6 1 4 3 2 2 4 2 1 3 2 2\n",
      "        7 2 1 4 3 2 2 4 2 1 3 2\n",
      "        8 2 2 1 4 3 2 2 4 2 1 3\n",
      "        9 3 2 2 1 4 3 2 2 4 2 1\n",
      "        10 1 3 2 2 1 4 3 2 2 4 2\n",
      "        11 2 1 3 2 2 1 4 3 2 2 4; \n",
      "param Q1:  1 2 3 4 5 6 7 8 9 10 11:=\n",
      "        1 0 3 3 0 1 2 4 2 2 4 0\n",
      "        2 0 0 3 3 0 1 2 4 2 2 4\n",
      "        3 4 0 0 3 3 0 1 2 4 2 2\n",
      "        4 2 4 0 0 3 3 0 1 2 4 2\n",
      "        5 2 2 4 0 0 3 3 0 1 2 4\n",
      "        6 4 2 2 4 0 0 3 3 0 1 2\n",
      "        7 2 4 2 2 4 0 0 3 3 0 1\n",
      "        8 1 2 4 2 2 4 0 0 3 3 0\n",
      "        9 0 1 2 4 2 2 4 0 0 3 3\n",
      "        10 3 0 1 2 4 2 2 4 0 0 3\n",
      "        11 3 3 0 1 2 4 2 2 4 0 0; \n",
      "param R1:  1 2 3 4 5 6 7 8 9 10 11:=\n",
      "        1 1 0 0 0 0 0 0 0 0 0 0\n",
      "        2 0 1 0 0 0 0 0 0 0 0 0\n",
      "        3 0 0 1 0 0 0 0 0 0 0 0\n",
      "        4 0 0 0 1 0 0 0 0 0 0 0\n",
      "        5 0 0 0 0 1 0 0 0 0 0 0\n",
      "        6 0 0 0 0 0 1 0 0 0 0 0\n",
      "        7 0 0 0 0 0 0 1 0 0 0 0\n",
      "        8 0 0 0 0 0 0 0 1 0 0 0\n",
      "        9 0 0 0 0 0 0 0 0 1 0 0\n",
      "        10 0 0 0 0 0 0 0 0 0 1 0\n",
      "        11 0 0 0 0 0 0 0 0 0 0 1; \n",
      "param Q2:  1 2 3 4 5 6 7 8 9 10 11:=\n",
      "        1 5 0 0 0 0 0 0 0 0 0 0\n",
      "        2 0 5 0 0 0 0 0 0 0 0 0\n",
      "        3 0 0 5 0 0 0 0 0 0 0 0\n",
      "        4 0 0 0 5 0 0 0 0 0 0 0\n",
      "        5 0 0 0 0 5 0 0 0 0 0 0\n",
      "        6 0 0 0 0 0 5 0 0 0 0 0\n",
      "        7 0 0 0 0 0 0 5 0 0 0 0\n",
      "        8 0 0 0 0 0 0 0 5 0 0 0\n",
      "        9 0 0 0 0 0 0 0 0 5 0 0\n",
      "        10 0 0 0 0 0 0 0 0 0 5 0\n",
      "        11 0 0 0 0 0 0 0 0 0 0 5; \n",
      "param J:  1 2 3 4 5 6 7 8 9 10 11:=\n",
      "        1 -0.0 -3.0 -3.0 -0.0 -1.0 -2.0 -4.0 -2.0 -2.0 -4.0 -0.0\n",
      "        2 -0.0 -0.0 -3.0 -3.0 -0.0 -1.0 -2.0 -4.0 -2.0 -2.0 -4.0\n",
      "        3 -4.0 -0.0 -0.0 -3.0 -3.0 -0.0 -1.0 -2.0 -4.0 -2.0 -2.0\n",
      "        4 -2.0 -4.0 -0.0 -0.0 -3.0 -3.0 -0.0 -1.0 -2.0 -4.0 -2.0\n",
      "        5 -2.0 -2.0 -4.0 -0.0 -0.0 -3.0 -3.0 -0.0 -1.0 -2.0 -4.0\n",
      "        6 -4.0 -2.0 -2.0 -4.0 -0.0 -0.0 -3.0 -3.0 -0.0 -1.0 -2.0\n",
      "        7 -2.0 -4.0 -2.0 -2.0 -4.0 -0.0 -0.0 -3.0 -3.0 -0.0 -1.0\n",
      "        8 -1.0 -2.0 -4.0 -2.0 -2.0 -4.0 -0.0 -0.0 -3.0 -3.0 -0.0\n",
      "        9 -0.0 -1.0 -2.0 -4.0 -2.0 -2.0 -4.0 -0.0 -0.0 -3.0 -3.0\n",
      "        10 -3.0 -0.0 -1.0 -2.0 -4.0 -2.0 -2.0 -4.0 -0.0 -0.0 -3.0\n",
      "        11 -3.0 -3.0 -0.0 -1.0 -2.0 -4.0 -2.0 -2.0 -4.0 -0.0 -0.0; \n",
      "param H:  1 2 3 4 5 6 7 8 9 10 11:=\n",
      "        1 5 0 0 0 0 0 0 0 0 0 0\n",
      "        2 0 5 0 0 0 0 0 0 0 0 0\n",
      "        3 0 0 5 0 0 0 0 0 0 0 0\n",
      "        4 0 0 0 5 0 0 0 0 0 0 0\n",
      "        5 0 0 0 0 5 0 0 0 0 0 0\n",
      "        6 0 0 0 0 0 5 0 0 0 0 0\n",
      "        7 0 0 0 0 0 0 5 0 0 0 0\n",
      "        8 0 0 0 0 0 0 0 5 0 0 0\n",
      "        9 0 0 0 0 0 0 0 0 5 0 0\n",
      "        10 0 0 0 0 0 0 0 0 0 5 0\n",
      "        11 0 0 0 0 0 0 0 0 0 0 5;\n"
     ]
    }
   ],
   "source": [
    "print(attack.T_to_dat(T, level = 0))"
   ]
  },
  {
   "cell_type": "code",
   "execution_count": 13,
   "id": "02b1810b",
   "metadata": {},
   "outputs": [
    {
     "name": "stdout",
     "output_type": "stream",
     "text": [
      "[    0.00] starting timer\n",
      "We just have built the instance, start solving stay tuned!\n",
      "Solver script file: '/local_scratch/pbs.1410500.pbs02/tmpk9a6lt5g.gurobi.script'\n",
      "Solver log file: 'my.log'\n",
      "Solver solution file: '/local_scratch/pbs.1410500.pbs02/tmpfxfub79g.gurobi.txt'\n",
      "Solver problem files: ('/local_scratch/pbs.1410500.pbs02/tmpz226d486.pyomo.lp',)\n",
      "feasible\n",
      "0\n",
      "Verifying that indeed aT = b mod p \n",
      " This should be 1 if the sekret keys are valid:\n",
      "\n",
      "1\n",
      "[+   1.96] task 1\n",
      "elapsed time: 2.0 s\n",
      "Value of a[2, 0, 0, 2, 2, 1, 1, 1, 1, 0, 1]\n",
      "Value of b[2, 4, 3, 0, 4, 2, 4, 0, 1, 0, 1]\n",
      "Value of aT[2 4 3 0 4 2 4 0 1 0 1]\n"
     ]
    },
    {
     "data": {
      "text/plain": [
       "[1, 1.9608331851195544]"
      ]
     },
     "execution_count": 13,
     "metadata": {},
     "output_type": "execute_result"
    }
   ],
   "source": [
    "attack.forge_lin_sk(solvername = 'gurobi', ampl = False,verbose = True)"
   ]
  },
  {
   "cell_type": "code",
   "execution_count": null,
   "id": "b986211e-6994-4d80-aa40-60dcd2441740",
   "metadata": {},
   "outputs": [],
   "source": []
  },
  {
   "cell_type": "code",
   "execution_count": null,
   "id": "23ad6f39-1873-4776-b8f0-f01a53cd2d3b",
   "metadata": {},
   "outputs": [],
   "source": []
  },
  {
   "cell_type": "code",
   "execution_count": null,
   "id": "9fc4fe74",
   "metadata": {},
   "outputs": [
    {
     "name": "stdout",
     "output_type": "stream",
     "text": [
      "p is5\n",
      "halfn is 11\n",
      "This should be 1 if the sekret keys are valid\n",
      "1\n",
      "Task done, see your file at dat_files/20231017195447dat.csv.dat\n",
      "[    0.00] starting timer\n",
      "We just have built the instance, start solving stay tuned!\n",
      "Solver script file: '/local_scratch/pbs.1410500.pbs02/tmptwcbshmd.gurobi.script'\n",
      "Solver log file: 'my.log'\n",
      "Solver solution file: '/local_scratch/pbs.1410500.pbs02/tmpotwqjomn.gurobi.txt'\n",
      "Solver problem files: ('/local_scratch/pbs.1410500.pbs02/tmph_fgvvfv.pyomo.lp',)\n",
      "feasible\n",
      "0\n",
      "Verifying that indeed aT = b mod p \n",
      " This should be 1 if the sekret keys are valid:\n",
      "\n",
      "1\n",
      "[+   1.72] task 1\n",
      "elapsed time: 1.7 s\n",
      "p is5\n",
      "halfn is 11\n",
      "This should be 1 if the sekret keys are valid\n",
      "1\n",
      "Task done, see your file at dat_files/20231017195449dat.csv.dat\n",
      "[    0.00] starting timer\n",
      "We just have built the instance, start solving stay tuned!\n",
      "Solver script file: '/local_scratch/pbs.1410500.pbs02/tmp2b_dkn46.gurobi.script'\n",
      "Solver log file: 'my.log'\n",
      "Solver solution file: '/local_scratch/pbs.1410500.pbs02/tmpe9qjqi38.gurobi.txt'\n",
      "Solver problem files: ('/local_scratch/pbs.1410500.pbs02/tmpmgobv_s3.pyomo.lp',)\n",
      "feasible\n",
      "0\n",
      "Verifying that indeed aT = b mod p \n",
      " This should be 1 if the sekret keys are valid:\n",
      "\n",
      "1\n",
      "[+   1.74] task 1\n",
      "elapsed time: 1.7 s\n",
      "p is5\n",
      "halfn is 11\n",
      "This should be 1 if the sekret keys are valid\n",
      "1\n",
      "Task done, see your file at dat_files/20231017195450dat.csv.dat\n",
      "[    0.00] starting timer\n",
      "We just have built the instance, start solving stay tuned!\n",
      "Solver script file: '/local_scratch/pbs.1410500.pbs02/tmpr52f2se0.gurobi.script'\n",
      "Solver log file: 'my.log'\n",
      "Solver solution file: '/local_scratch/pbs.1410500.pbs02/tmpf1s68g6a.gurobi.txt'\n",
      "Solver problem files: ('/local_scratch/pbs.1410500.pbs02/tmpr1q0gu2h.pyomo.lp',)\n",
      "feasible\n",
      "0\n",
      "Verifying that indeed aT = b mod p \n",
      " This should be 1 if the sekret keys are valid:\n",
      "\n",
      "1\n",
      "[+   1.78] task 1\n",
      "elapsed time: 1.8 s\n",
      "p is5\n",
      "halfn is 11\n",
      "This should be 1 if the sekret keys are valid\n",
      "1\n",
      "Task done, see your file at dat_files/20231017195452dat.csv.dat\n",
      "[    0.00] starting timer\n",
      "We just have built the instance, start solving stay tuned!\n",
      "Solver script file: '/local_scratch/pbs.1410500.pbs02/tmpdz1w0s3_.gurobi.script'\n",
      "Solver log file: 'my.log'\n",
      "Solver solution file: '/local_scratch/pbs.1410500.pbs02/tmpv6stofac.gurobi.txt'\n",
      "Solver problem files: ('/local_scratch/pbs.1410500.pbs02/tmpg3tbnvbs.pyomo.lp',)\n",
      "feasible\n",
      "0\n",
      "Verifying that indeed aT = b mod p \n",
      " This should be 1 if the sekret keys are valid:\n",
      "\n",
      "1\n",
      "[+   1.76] task 1\n",
      "elapsed time: 1.8 s\n",
      "p is5\n",
      "halfn is 11\n",
      "This should be 1 if the sekret keys are valid\n",
      "1\n",
      "Task done, see your file at dat_files/20231017195454dat.csv.dat\n",
      "[    0.00] starting timer\n",
      "We just have built the instance, start solving stay tuned!\n",
      "Solver script file: '/local_scratch/pbs.1410500.pbs02/tmpzg83moya.gurobi.script'\n",
      "Solver log file: 'my.log'\n",
      "Solver solution file: '/local_scratch/pbs.1410500.pbs02/tmpqpyabaxo.gurobi.txt'\n",
      "Solver problem files: ('/local_scratch/pbs.1410500.pbs02/tmp_6__9w8w.pyomo.lp',)\n"
     ]
    }
   ],
   "source": [
    "for i in range(10):\n",
    "    s = datetime.now()\n",
    "    now = s.strftime(\"%Y%m%d%H%M%S\")\n",
    "    level = 0\n",
    "    pkfilename = 'generatedpk/' + now +'T.csv'\n",
    "    dat_name = 'dat_files/' + now + 'dat.csv'\n",
    "    skfilename = \"originalsk/\" + now + \"toysk.txt\"\n",
    "    forgedskname = \"forgedsk/\" + now + \"forgedsk.txt\"\n",
    "    infolist = [level, pkfilename, skfilename,forgedskname]\n",
    "    #generate the key \n",
    "    attack.generate_key(level = level, pkfilename = pkfilename, skfilename = skfilename)\n",
    "    T = attack.get_T(pkfilename)\n",
    "    #format the key\n",
    "    attack.T_to_dat(T, level=level, filename = dat_name)\n",
    "    #perform the attack\n",
    "    successlist = list(attack.forge_lin_sk(solvername = 'gurobi', ampl = False))\n",
    "    for k in successlist:\n",
    "        infolist.append(k)\n",
    "    attackdf = pd.DataFrame([infolist], columns =['Level', 'PKFilename',\n",
    "                                                'SKorigfilename', 'ForgeSKFilename', \n",
    "                                                'Succes','ElapsedTime'])\n",
    "#     if i == 0:\n",
    "#         attackdf.to_csv(\"attackdf.csv\",index=False,header=True,mode=\"a\") # Only make header = True at the first try, after that use False\n",
    "#     else:\n",
    "    attackdf.to_csv(\"attackdf.csv\",index=False,header=False,mode=\"a\") # Only make header = True at the first try, after that use False"
   ]
  },
  {
   "cell_type": "code",
   "execution_count": null,
   "id": "4a5beb3f",
   "metadata": {},
   "outputs": [],
   "source": []
  },
  {
   "cell_type": "code",
   "execution_count": null,
   "id": "484fa659",
   "metadata": {},
   "outputs": [],
   "source": []
  }
 ],
 "metadata": {
  "kernelspec": {
   "display_name": "Python 3 (ipykernel)",
   "language": "python",
   "name": "python3"
  },
  "language_info": {
   "codemirror_mode": {
    "name": "ipython",
    "version": 3
   },
   "file_extension": ".py",
   "mimetype": "text/x-python",
   "name": "python",
   "nbconvert_exporter": "python",
   "pygments_lexer": "ipython3",
   "version": "3.9.12"
  }
 },
 "nbformat": 4,
 "nbformat_minor": 5
}
