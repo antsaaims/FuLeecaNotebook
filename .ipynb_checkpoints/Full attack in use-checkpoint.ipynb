{
 "cells": [
  {
   "cell_type": "code",
   "execution_count": 1,
   "id": "06cb6560",
   "metadata": {
    "tags": []
   },
   "outputs": [
    {
     "name": "stdout",
     "output_type": "stream",
     "text": [
      "Solver you already have\n",
      "['base', 'cbc', 'coin', 'gurobi', 'highs']\n"
     ]
    }
   ],
   "source": [
    "import attackfuleeca #importing the class\n",
    "from datetime import datetime\n",
    "import pandas as pd\n"
   ]
  },
  {
   "cell_type": "code",
   "execution_count": 2,
   "id": "3c53736c",
   "metadata": {
    "tags": []
   },
   "outputs": [],
   "source": [
    "attack = attackfuleeca.attack()"
   ]
  },
  {
   "cell_type": "code",
   "execution_count": 3,
   "id": "80287650",
   "metadata": {
    "tags": []
   },
   "outputs": [
    {
     "name": "stdout",
     "output_type": "stream",
     "text": [
      "Hello, I am the python class used to attack FuLeeca,\n",
      " I can be used to generate a key pair for FuLeeca,\n",
      " I also can load a public key from a file,\n",
      " I format the public key so that it can be used in Pyomo,\n",
      ", I use Pyomo to attack the FuLeeca cryptosystem and you got to choose which solver to use!\n"
     ]
    }
   ],
   "source": [
    "print(attack)"
   ]
  },
  {
   "cell_type": "code",
   "execution_count": 4,
   "id": "3712f694",
   "metadata": {
    "scrolled": true,
    "tags": []
   },
   "outputs": [
    {
     "data": {
      "text/plain": [
       "55"
      ]
     },
     "execution_count": 4,
     "metadata": {},
     "output_type": "execute_result"
    }
   ],
   "source": [
    "len(attack.MakeTLS(42)) #should be 42"
   ]
  },
  {
   "cell_type": "code",
   "execution_count": 5,
   "id": "a7ac68c9",
   "metadata": {},
   "outputs": [
    {
     "name": "stdout",
     "output_type": "stream",
     "text": [
      "p is65521\n",
      "halfn is 659\n",
      "This should be 1 if the sekret keys are valid\n",
      "1\n"
     ]
    }
   ],
   "source": [
    "attack.generate_key(level = 1)"
   ]
  },
  {
   "cell_type": "code",
   "execution_count": 29,
   "id": "be4935b0",
   "metadata": {},
   "outputs": [],
   "source": [
    "#attack.generate_key(verbose =True)"
   ]
  },
  {
   "cell_type": "code",
   "execution_count": 6,
   "id": "0f75c125",
   "metadata": {},
   "outputs": [],
   "source": [
    "T = attack.get_T('T.csv')"
   ]
  },
  {
   "cell_type": "code",
   "execution_count": 7,
   "id": "6774989c",
   "metadata": {},
   "outputs": [
    {
     "data": {
      "text/plain": [
       "55"
      ]
     },
     "execution_count": 7,
     "metadata": {},
     "output_type": "execute_result"
    }
   ],
   "source": [
    "len(T[1])"
   ]
  },
  {
   "cell_type": "code",
   "execution_count": 7,
   "id": "c1411df5",
   "metadata": {},
   "outputs": [
    {
     "data": {
      "text/plain": [
       "5"
      ]
     },
     "execution_count": 7,
     "metadata": {},
     "output_type": "execute_result"
    }
   ],
   "source": [
    "int(round(5.5-0.1, 0))"
   ]
  },
  {
   "cell_type": "code",
   "execution_count": 8,
   "id": "07a19cb2",
   "metadata": {},
   "outputs": [
    {
     "data": {
      "text/plain": [
       "array([51623, 48322, 27015, 37108, 46992,  5075, 60989, 31817,   813,\n",
       "       40766, 36947, 12426, 14326,  3962, 22531, 57507,  3005, 32013,\n",
       "       33766, 50592,  9213, 47932, 43404,  5001, 28148, 55277, 30864,\n",
       "       32065,  6695, 53927, 47019, 49761, 58675, 59689,  5923,  5824,\n",
       "       44562,    86, 14101,  7815, 53922,  7165, 26756, 53962, 37171,\n",
       "        3085,  9695, 36131, 61131, 14180, 24757, 20626, 61303, 29188,\n",
       "       53183])"
      ]
     },
     "execution_count": 8,
     "metadata": {},
     "output_type": "execute_result"
    }
   ],
   "source": [
    "import numpy as np\n",
    "np.array(T[0])"
   ]
  },
  {
   "cell_type": "code",
   "execution_count": 22,
   "id": "7b7b336c",
   "metadata": {},
   "outputs": [
    {
     "data": {
      "text/plain": [
       "'[23617 34922 30406 51739 44232 44450 28127  5066 42223 24521 24360 21178\\n 43905 15859 35188 20067 30104 18167 14788 59519 60250 52111 19971 55062\\n  4626 51716 37736 62871  9203 12404 63501 52834 17499  3185 22851 42887\\n 50040 62394 61973   280 40777 57618 23757 18484 37449 45442 54043 42499\\n 47745 33548 41759 27092 20034 56752 14080]'"
      ]
     },
     "execution_count": 22,
     "metadata": {},
     "output_type": "execute_result"
    }
   ],
   "source": [
    "str(np.array(T[0]))"
   ]
  },
  {
   "cell_type": "code",
   "execution_count": 23,
   "id": "0bb6a316",
   "metadata": {},
   "outputs": [],
   "source": [
    "def to_str(a):\n",
    "    '''Given an array, make it into a string'''\n",
    "    return(','.join(str(x) for x in a))"
   ]
  },
  {
   "cell_type": "code",
   "execution_count": 24,
   "id": "4b14f0a4",
   "metadata": {},
   "outputs": [
    {
     "data": {
      "text/plain": [
       "'23617,34922,30406,51739,44232,44450,28127,5066,42223,24521,24360,21178,43905,15859,35188,20067,30104,18167,14788,59519,60250,52111,19971,55062,4626,51716,37736,62871,9203,12404,63501,52834,17499,3185,22851,42887,50040,62394,61973,280,40777,57618,23757,18484,37449,45442,54043,42499,47745,33548,41759,27092,20034,56752,14080'"
      ]
     },
     "execution_count": 24,
     "metadata": {},
     "output_type": "execute_result"
    }
   ],
   "source": [
    "to_str(T[0])"
   ]
  },
  {
   "cell_type": "code",
   "execution_count": 1,
   "id": "04d6d517",
   "metadata": {
    "tags": []
   },
   "outputs": [],
   "source": [
    "#print(attack.T_to_dat(T, level = 1))"
   ]
  },
  {
   "cell_type": "code",
   "execution_count": 3,
   "id": "02b1810b",
   "metadata": {},
   "outputs": [
    {
     "name": "stdout",
     "output_type": "stream",
     "text": [
      "[    0.00] starting timer\n",
      "We just have built the instance, start solving stay tuned!\n",
      "Solver script file: 'C:\\Users\\18645\\AppData\\Local\\Temp\\tmpwc1a_ni6.gurobi.script'\n",
      "Solver log file: 'my.log'\n",
      "Solver solution file: 'C:\\Users\\18645\\AppData\\Local\\Temp\\tmpgztdm7_5.gurobi.txt'\n",
      "Solver problem files: ('C:\\\\Users\\\\18645\\\\AppData\\\\Local\\\\Temp\\\\tmp5re6yuon.pyomo.lp',)\n",
      "feasible\n",
      "53.0\n",
      "Verifying that indeed aT = b mod p \n",
      " This should be 1 if the sekret keys are valid:\n",
      "\n",
      "1\n",
      "[+  12.83] task 1\n",
      "elapsed time: 12.8 s\n"
     ]
    },
    {
     "data": {
      "text/plain": [
       "[1, 12.831060800000003]"
      ]
     },
     "execution_count": 3,
     "metadata": {},
     "output_type": "execute_result"
    }
   ],
   "source": [
    "attack.forge_lin_sk(solvername = 'gurobi', ampl = False,)"
   ]
  },
  {
   "cell_type": "code",
   "execution_count": 46,
   "id": "9fc4fe74",
   "metadata": {},
   "outputs": [
    {
     "name": "stdout",
     "output_type": "stream",
     "text": [
      "This should be 1 if the sekret keys are valid\n",
      "1\n",
      "Task done, see your file at dat_files/20231007181445dat.csv.dat\n",
      "[    0.00] starting timer\n",
      "We just have built the instance, start solving stay tuned!\n",
      "Solver script file: 'C:\\Users\\18645\\AppData\\Local\\Temp\\tmpfpoof3qm.gurobi.script'\n",
      "Solver log file: 'my.log'\n",
      "Solver solution file: 'C:\\Users\\18645\\AppData\\Local\\Temp\\tmp2chxxsfo.gurobi.txt'\n",
      "Solver problem files: ('C:\\\\Users\\\\18645\\\\AppData\\\\Local\\\\Temp\\\\tmp1ab9_8h4.pyomo.lp',)\n",
      "feasible\n",
      "53.0\n",
      "Verifying that indeed aT = b mod p \n",
      " This should be 1 if the sekret keys are valid:\n",
      "\n",
      "1\n",
      "[+  12.84] task 1\n",
      "elapsed time: 12.8 s\n",
      "This should be 1 if the sekret keys are valid\n",
      "1\n",
      "Task done, see your file at dat_files/20231007181458dat.csv.dat\n",
      "[    0.00] starting timer\n",
      "We just have built the instance, start solving stay tuned!\n",
      "Solver script file: 'C:\\Users\\18645\\AppData\\Local\\Temp\\tmpxytpz3hr.gurobi.script'\n",
      "Solver log file: 'my.log'\n",
      "Solver solution file: 'C:\\Users\\18645\\AppData\\Local\\Temp\\tmpqq36v_9j.gurobi.txt'\n",
      "Solver problem files: ('C:\\\\Users\\\\18645\\\\AppData\\\\Local\\\\Temp\\\\tmpez4snbh8.pyomo.lp',)\n",
      "feasible\n",
      "53.0\n",
      "Verifying that indeed aT = b mod p \n",
      " This should be 1 if the sekret keys are valid:\n",
      "\n",
      "1\n",
      "[+  10.63] task 1\n",
      "elapsed time: 10.6 s\n",
      "This should be 1 if the sekret keys are valid\n",
      "1\n",
      "Task done, see your file at dat_files/20231007181508dat.csv.dat\n",
      "[    0.00] starting timer\n",
      "We just have built the instance, start solving stay tuned!\n",
      "Solver script file: 'C:\\Users\\18645\\AppData\\Local\\Temp\\tmp__pdq131.gurobi.script'\n",
      "Solver log file: 'my.log'\n",
      "Solver solution file: 'C:\\Users\\18645\\AppData\\Local\\Temp\\tmp_wrybb7g.gurobi.txt'\n",
      "Solver problem files: ('C:\\\\Users\\\\18645\\\\AppData\\\\Local\\\\Temp\\\\tmprq66xmgw.pyomo.lp',)\n",
      "feasible\n",
      "53.0\n",
      "Verifying that indeed aT = b mod p \n",
      " This should be 1 if the sekret keys are valid:\n",
      "\n",
      "1\n",
      "[+  10.55] task 1\n",
      "elapsed time: 10.5 s\n",
      "This should be 1 if the sekret keys are valid\n",
      "1\n",
      "Task done, see your file at dat_files/20231007181519dat.csv.dat\n",
      "[    0.00] starting timer\n",
      "We just have built the instance, start solving stay tuned!\n",
      "Solver script file: 'C:\\Users\\18645\\AppData\\Local\\Temp\\tmp00ksb130.gurobi.script'\n",
      "Solver log file: 'my.log'\n",
      "Solver solution file: 'C:\\Users\\18645\\AppData\\Local\\Temp\\tmpil8rch59.gurobi.txt'\n",
      "Solver problem files: ('C:\\\\Users\\\\18645\\\\AppData\\\\Local\\\\Temp\\\\tmps1ry8svy.pyomo.lp',)\n",
      "feasible\n",
      "53.0\n",
      "Verifying that indeed aT = b mod p \n",
      " This should be 1 if the sekret keys are valid:\n",
      "\n",
      "1\n",
      "[+  10.80] task 1\n",
      "elapsed time: 10.8 s\n",
      "This should be 1 if the sekret keys are valid\n",
      "1\n",
      "Task done, see your file at dat_files/20231007181530dat.csv.dat\n",
      "[    0.00] starting timer\n",
      "We just have built the instance, start solving stay tuned!\n",
      "Solver script file: 'C:\\Users\\18645\\AppData\\Local\\Temp\\tmps33c8ipl.gurobi.script'\n",
      "Solver log file: 'my.log'\n",
      "Solver solution file: 'C:\\Users\\18645\\AppData\\Local\\Temp\\tmp7gf7qqw0.gurobi.txt'\n",
      "Solver problem files: ('C:\\\\Users\\\\18645\\\\AppData\\\\Local\\\\Temp\\\\tmpwg9zebg1.pyomo.lp',)\n",
      "feasible\n",
      "53.0\n",
      "Verifying that indeed aT = b mod p \n",
      " This should be 1 if the sekret keys are valid:\n",
      "\n",
      "1\n",
      "[+  10.30] task 1\n",
      "elapsed time: 10.3 s\n",
      "This should be 1 if the sekret keys are valid\n",
      "1\n",
      "Task done, see your file at dat_files/20231007181540dat.csv.dat\n",
      "[    0.00] starting timer\n",
      "We just have built the instance, start solving stay tuned!\n",
      "Solver script file: 'C:\\Users\\18645\\AppData\\Local\\Temp\\tmp5hdfuyl1.gurobi.script'\n",
      "Solver log file: 'my.log'\n",
      "Solver solution file: 'C:\\Users\\18645\\AppData\\Local\\Temp\\tmpu4fn7pey.gurobi.txt'\n",
      "Solver problem files: ('C:\\\\Users\\\\18645\\\\AppData\\\\Local\\\\Temp\\\\tmpof7dizga.pyomo.lp',)\n",
      "feasible\n",
      "53.0\n",
      "Verifying that indeed aT = b mod p \n",
      " This should be 1 if the sekret keys are valid:\n",
      "\n",
      "1\n",
      "[+  10.14] task 1\n",
      "elapsed time: 10.1 s\n",
      "This should be 1 if the sekret keys are valid\n",
      "1\n",
      "Task done, see your file at dat_files/20231007181550dat.csv.dat\n",
      "[    0.00] starting timer\n",
      "We just have built the instance, start solving stay tuned!\n",
      "Solver script file: 'C:\\Users\\18645\\AppData\\Local\\Temp\\tmp3t9s3uvt.gurobi.script'\n",
      "Solver log file: 'my.log'\n",
      "Solver solution file: 'C:\\Users\\18645\\AppData\\Local\\Temp\\tmpm_45gim6.gurobi.txt'\n",
      "Solver problem files: ('C:\\\\Users\\\\18645\\\\AppData\\\\Local\\\\Temp\\\\tmpmrww_f6u.pyomo.lp',)\n",
      "feasible\n",
      "53.0\n",
      "Verifying that indeed aT = b mod p \n",
      " This should be 1 if the sekret keys are valid:\n",
      "\n",
      "1\n",
      "[+  10.25] task 1\n",
      "elapsed time: 10.2 s\n",
      "This should be 1 if the sekret keys are valid\n",
      "1\n",
      "Task done, see your file at dat_files/20231007181601dat.csv.dat\n",
      "[    0.00] starting timer\n",
      "We just have built the instance, start solving stay tuned!\n",
      "Solver script file: 'C:\\Users\\18645\\AppData\\Local\\Temp\\tmpqytre5q5.gurobi.script'\n",
      "Solver log file: 'my.log'\n",
      "Solver solution file: 'C:\\Users\\18645\\AppData\\Local\\Temp\\tmpqvjyc62a.gurobi.txt'\n",
      "Solver problem files: ('C:\\\\Users\\\\18645\\\\AppData\\\\Local\\\\Temp\\\\tmpadae530c.pyomo.lp',)\n",
      "feasible\n",
      "53.0\n",
      "Verifying that indeed aT = b mod p \n",
      " This should be 1 if the sekret keys are valid:\n",
      "\n",
      "1\n",
      "[+  10.23] task 1\n",
      "elapsed time: 10.2 s\n",
      "This should be 1 if the sekret keys are valid\n",
      "1\n",
      "Task done, see your file at dat_files/20231007181611dat.csv.dat\n",
      "[    0.00] starting timer\n",
      "We just have built the instance, start solving stay tuned!\n",
      "Solver script file: 'C:\\Users\\18645\\AppData\\Local\\Temp\\tmp9azt2rqc.gurobi.script'\n",
      "Solver log file: 'my.log'\n",
      "Solver solution file: 'C:\\Users\\18645\\AppData\\Local\\Temp\\tmpj8ofxsv9.gurobi.txt'\n",
      "Solver problem files: ('C:\\\\Users\\\\18645\\\\AppData\\\\Local\\\\Temp\\\\tmpmcyqywjr.pyomo.lp',)\n",
      "feasible\n",
      "53.0\n",
      "Verifying that indeed aT = b mod p \n",
      " This should be 1 if the sekret keys are valid:\n",
      "\n",
      "1\n",
      "[+  10.19] task 1\n",
      "elapsed time: 10.2 s\n",
      "This should be 1 if the sekret keys are valid\n",
      "1\n",
      "Task done, see your file at dat_files/20231007181621dat.csv.dat\n",
      "[    0.00] starting timer\n",
      "We just have built the instance, start solving stay tuned!\n",
      "Solver script file: 'C:\\Users\\18645\\AppData\\Local\\Temp\\tmp5k7rx7ct.gurobi.script'\n",
      "Solver log file: 'my.log'\n",
      "Solver solution file: 'C:\\Users\\18645\\AppData\\Local\\Temp\\tmpj76avk3v.gurobi.txt'\n",
      "Solver problem files: ('C:\\\\Users\\\\18645\\\\AppData\\\\Local\\\\Temp\\\\tmpfjawa6gy.pyomo.lp',)\n",
      "feasible\n",
      "53.0\n",
      "Verifying that indeed aT = b mod p \n",
      " This should be 1 if the sekret keys are valid:\n",
      "\n",
      "1\n",
      "[+  10.19] task 1\n",
      "elapsed time: 10.2 s\n"
     ]
    }
   ],
   "source": [
    "for i in range(10):\n",
    "    s = datetime.now()\n",
    "    now = s.strftime(\"%Y%m%d%H%M%S\")\n",
    "    level = 0\n",
    "    pkfilename = 'generatedpk/' + now +'T.csv'\n",
    "    dat_name = 'dat_files/' + now + 'dat.csv'\n",
    "    skfilename = \"originalsk/\" + now + \"toysk.txt\"\n",
    "    forgedskname = \"forgedsk/\" + now + \"forgedsk.txt\"\n",
    "    infolist = [level, pkfilename, skfilename,forgedskname]\n",
    "    #generate the key \n",
    "    attack.generate_key(level = level, pkfilename = pkfilename, skfilename = skfilename)\n",
    "    T = attack.get_T(pkfilename)\n",
    "    #format the key\n",
    "    attack.T_to_dat(T, level=level, filename = dat_name)\n",
    "    #perform the attack\n",
    "    successlist = list(attack.forge_lin_sk(solvername = 'gurobi', ampl = False))\n",
    "    for k in successlist:\n",
    "        infolist.append(k)\n",
    "    attackdf = pd.DataFrame([infolist], columns =['Level', 'PKFilename',\n",
    "                                                'SKorigfilename', 'ForgeSKFilename', \n",
    "                                                'Succes','ElapsedTime'])\n",
    "#     if i == 0:\n",
    "#         attackdf.to_csv(\"attackdf.csv\",index=False,header=True,mode=\"a\") # Only make header = True at the first try, after that use False\n",
    "#     else:\n",
    "    attackdf.to_csv(\"attackdf.csv\",index=False,header=False,mode=\"a\") # Only make header = True at the first try, after that use False"
   ]
  },
  {
   "cell_type": "code",
   "execution_count": 42,
   "id": "4a5beb3f",
   "metadata": {},
   "outputs": [],
   "source": []
  },
  {
   "cell_type": "code",
   "execution_count": 2,
   "id": "484fa659",
   "metadata": {
    "tags": []
   },
   "outputs": [
    {
     "name": "stderr",
     "output_type": "stream",
     "text": [
      "WARNING: Retrying (Retry(total=2, connect=None, read=None, redirect=None, status=None)) after connection broken by 'ReadTimeoutError(\"HTTPSConnectionPool(host='pypi.org', port=443): Read timed out. (read timeout=15)\")': /simple/hsnf/\n",
      "ERROR: Could not find a version that satisfies the requirement hsnf==0.3.13 (from versions: none)\n",
      "ERROR: No matching distribution found for hsnf==0.3.13\n",
      "\n",
      "[notice] A new release of pip is available: 23.2.1 -> 23.3\n",
      "[notice] To update, run: C:\\Users\\18645\\AppData\\Local\\Microsoft\\WindowsApps\\PythonSoftwareFoundation.Python.3.7_qbz5n2kfra8p0\\python.exe -m pip install --upgrade pip\n"
     ]
    }
   ],
   "source": [
    "!pip install hsnf==0.3.13\n"
   ]
  },
  {
   "cell_type": "code",
   "execution_count": 10,
   "id": "2ada7dac-d4f7-4401-880c-3584e3288413",
   "metadata": {
    "tags": []
   },
   "outputs": [
    {
     "name": "stderr",
     "output_type": "stream",
     "text": [
      "WARNING: pip is being invoked by an old script wrapper. This will fail in a future version of pip.\n",
      "Please see https://github.com/pypa/pip/issues/5599 for advice on fixing the underlying issue.\n",
      "To avoid this problem you can invoke Python with '-m pip' instead of running pip directly.\n"
     ]
    },
    {
     "data": {
      "text/html": [
       "<pre style=\"white-space:pre;overflow-x:auto;line-height:normal;font-family:Menlo,'DejaVu Sans Mono',consolas,'Courier New',monospace\"><span style=\"color: #800000; text-decoration-color: #800000\">ERROR: Ignored the following versions that require a different python version: 0.3.12 Requires-Python &gt;=3.8.0; 0.3.13 Requires-Python &gt;=3.8.0; 0.3.14 Requires-Python &gt;=3.8.0; 0.3.15 Requires-Python &gt;=3.8.0; 0.3.16 Requires-Python &gt;=3.8.0; 0.3.8 Requires-Python &gt;=3.8.0\n",
       "</span></pre>\n"
      ],
      "text/plain": [
       "\u001b[31mERROR: Ignored the following versions that require a different python version: 0.3.12 Requires-Python >=3.8.0; 0.3.13 Requires-Python >=3.8.0; 0.3.14 Requires-Python >=3.8.0; 0.3.15 Requires-Python >=3.8.0; 0.3.16 Requires-Python >=3.8.0; 0.3.8 Requires-Python >=3.8.0\u001b[0m\u001b[31m\n",
       "\u001b[0m"
      ]
     },
     "metadata": {},
     "output_type": "display_data"
    },
    {
     "data": {
      "text/html": [
       "<pre style=\"white-space:pre;overflow-x:auto;line-height:normal;font-family:Menlo,'DejaVu Sans Mono',consolas,'Courier New',monospace\"><span style=\"color: #800000; text-decoration-color: #800000\">ERROR: Could not find a version that satisfies the requirement hsnf==0.3.13 (from versions: 0.3.7)\n",
       "</span></pre>\n"
      ],
      "text/plain": [
       "\u001b[31mERROR: Could not find a version that satisfies the requirement hsnf==0.3.13 (from versions: 0.3.7)\u001b[0m\u001b[31m\n",
       "\u001b[0m"
      ]
     },
     "metadata": {},
     "output_type": "display_data"
    },
    {
     "data": {
      "text/html": [
       "<pre style=\"white-space:pre;overflow-x:auto;line-height:normal;font-family:Menlo,'DejaVu Sans Mono',consolas,'Courier New',monospace\"><span style=\"color: #800000; text-decoration-color: #800000\">ERROR: No matching distribution found for hsnf==0.3.13\n",
       "</span></pre>\n"
      ],
      "text/plain": [
       "\u001b[31mERROR: No matching distribution found for hsnf==0.3.13\u001b[0m\u001b[31m\n",
       "\u001b[0m"
      ]
     },
     "metadata": {},
     "output_type": "display_data"
    },
    {
     "data": {
      "text/html": [
       "<pre style=\"white-space:pre;overflow-x:auto;line-height:normal;font-family:Menlo,'DejaVu Sans Mono',consolas,'Courier New',monospace\">\n",
       "<span style=\"font-weight: bold\">[</span><span style=\"color: #000080; text-decoration-color: #000080; background-color: #ffffff\">notice</span><span style=\"color: #000000; text-decoration-color: #000000; background-color: #ffffff; font-weight: bold\">]</span><span style=\"color: #000000; text-decoration-color: #000000; background-color: #ffffff\"> A new release of pip is available: </span><span style=\"color: #800000; text-decoration-color: #800000; background-color: #ffffff\">23.2.1</span><span style=\"color: #000000; text-decoration-color: #000000; background-color: #ffffff\"> -&gt; </span><span style=\"color: #008000; text-decoration-color: #008000; background-color: #ffffff\">23.3</span>\n",
       "<span style=\"font-weight: bold\">[</span><span style=\"color: #000080; text-decoration-color: #000080; background-color: #ffffff\">notice</span><span style=\"color: #000000; text-decoration-color: #000000; background-color: #ffffff; font-weight: bold\">]</span><span style=\"color: #000000; text-decoration-color: #000000; background-color: #ffffff\"> To update, run: </span><span style=\"color: #008000; text-decoration-color: #008000; background-color: #ffffff\">C:\\Users\\18645\\AppData\\Local\\Microsoft\\WindowsApps\\PythonSoftwareFoundation.Python.3.7_qbz5n2kfra8p0\\python.exe -m pip install --upgrade pip</span>\n",
       "</pre>\n"
      ],
      "text/plain": [
       "\n",
       "\u001b[1m[\u001b[0m\u001b[34;49mnotice\u001b[0m\u001b[1;39;49m]\u001b[0m\u001b[39;49m A new release of pip is available: \u001b[0m\u001b[31;49m23.2.1\u001b[0m\u001b[39;49m -> \u001b[0m\u001b[32;49m23.3\u001b[0m\n",
       "\u001b[1m[\u001b[0m\u001b[34;49mnotice\u001b[0m\u001b[1;39;49m]\u001b[0m\u001b[39;49m To update, run: \u001b[0m\u001b[32;49mC:\\Users\\18645\\AppData\\Local\\Microsoft\\WindowsApps\\PythonSoftwareFoundation.Python.3.7_qbz5n2kfra8p0\\python.exe -m pip install --upgrade pip\u001b[0m\n"
      ]
     },
     "metadata": {},
     "output_type": "display_data"
    }
   ],
   "source": [
    "import pip\n",
    "\n",
    "def install(package):\n",
    "    if hasattr(pip, 'main'):\n",
    "        pip.main(['install', package])\n",
    "    else:\n",
    "        pip._internal.main(['install', package])\n",
    "install('hsnf==0.3.13')"
   ]
  },
  {
   "cell_type": "code",
   "execution_count": 7,
   "id": "218e3b80-0f07-4bbe-bc6f-7d5e598ee2e4",
   "metadata": {
    "tags": []
   },
   "outputs": [],
   "source": [
    "import numpy as np\n",
    "P = np.array([[0,1,3,5,0,0],[1,2,4,0,5,0],[3,1,6,0,0,5],[1,0,0,0,0,0],[0,1,0,0,0,0],[0,0,1,0,0,0]])"
   ]
  },
  {
   "cell_type": "code",
   "execution_count": 13,
   "id": "fb4aae60-d70d-4cd6-b7c3-260059d5267e",
   "metadata": {
    "tags": []
   },
   "outputs": [
    {
     "name": "stdout",
     "output_type": "stream",
     "text": [
      "3.7.9\n"
     ]
    }
   ],
   "source": [
    "from platform import python_version\n",
    "\n",
    "print(python_version())\n"
   ]
  },
  {
   "cell_type": "code",
   "execution_count": 9,
   "id": "23d0623a-7446-43c8-a34a-af90fdc098d5",
   "metadata": {
    "tags": []
   },
   "outputs": [
    {
     "ename": "LookupError",
     "evalue": "setuptools-scm was unable to detect version for C:\\Users\\18645\\AppData\\Local\\Packages\\PythonSoftwareFoundation.Python.3.7_qbz5n2kfra8p0\\LocalCache\\local-packages\\Python37\\site-packages.\n\nMake sure you're either building from a fully intact git repository or PyPI tarballs. Most other sources (such as GitHub's tarballs, a git checkout without the .git folder) don't contain the necessary metadata and will not work.\n\nFor example, if you're using pip, instead of https://github.com/user/proj/archive/master.zip use git+https://github.com/user/proj.git#egg=proj",
     "output_type": "error",
     "traceback": [
      "\u001b[1;31m---------------------------------------------------------------------------\u001b[0m",
      "\u001b[1;31mLookupError\u001b[0m                               Traceback (most recent call last)",
      "\u001b[1;32m~\\AppData\\Local\\Temp\\ipykernel_15588\\1344014482.py\u001b[0m in \u001b[0;36m<module>\u001b[1;34m\u001b[0m\n\u001b[1;32m----> 1\u001b[1;33m \u001b[1;32mfrom\u001b[0m \u001b[0mhsnf\u001b[0m \u001b[1;32mimport\u001b[0m \u001b[0mcolumn_style_hermite_normal_form\u001b[0m\u001b[1;33m,\u001b[0m \u001b[0mrow_style_hermite_normal_form\u001b[0m\u001b[1;33m,\u001b[0m \u001b[0msmith_normal_form\u001b[0m\u001b[1;33m\u001b[0m\u001b[1;33m\u001b[0m\u001b[0m\n\u001b[0m\u001b[0;32m      2\u001b[0m \u001b[1;33m\u001b[0m\u001b[0m\n\u001b[0;32m      3\u001b[0m \u001b[0mH\u001b[0m\u001b[1;33m,\u001b[0m \u001b[0mR\u001b[0m \u001b[1;33m=\u001b[0m \u001b[0mcolumn_style_hermite_normal_form\u001b[0m\u001b[1;33m(\u001b[0m\u001b[0mP\u001b[0m\u001b[1;33m)\u001b[0m\u001b[1;33m\u001b[0m\u001b[1;33m\u001b[0m\u001b[0m\n",
      "\u001b[1;32m~\\AppData\\Local\\Packages\\PythonSoftwareFoundation.Python.3.7_qbz5n2kfra8p0\\LocalCache\\local-packages\\Python37\\site-packages\\hsnf\\__init__.py\u001b[0m in \u001b[0;36m<module>\u001b[1;34m\u001b[0m\n\u001b[0;32m      7\u001b[0m )\n\u001b[0;32m      8\u001b[0m \u001b[1;33m\u001b[0m\u001b[0m\n\u001b[1;32m----> 9\u001b[1;33m \u001b[0m__version__\u001b[0m \u001b[1;33m=\u001b[0m \u001b[0mget_version\u001b[0m\u001b[1;33m(\u001b[0m\u001b[0mroot\u001b[0m\u001b[1;33m=\u001b[0m\u001b[1;34m\"..\"\u001b[0m\u001b[1;33m,\u001b[0m \u001b[0mrelative_to\u001b[0m\u001b[1;33m=\u001b[0m\u001b[0m__file__\u001b[0m\u001b[1;33m)\u001b[0m\u001b[1;33m\u001b[0m\u001b[1;33m\u001b[0m\u001b[0m\n\u001b[0m",
      "\u001b[1;32m~\\AppData\\Local\\Packages\\PythonSoftwareFoundation.Python.3.7_qbz5n2kfra8p0\\LocalCache\\local-packages\\Python37\\site-packages\\setuptools_scm\\__init__.py\u001b[0m in \u001b[0;36mget_version\u001b[1;34m(root, version_scheme, local_scheme, write_to, write_to_template, relative_to, tag_regex, parentdir_prefix_version, fallback_version, fallback_root, parse, git_describe_command, dist_name, version_cls, normalize, search_parent_directories)\u001b[0m\n\u001b[0;32m    146\u001b[0m     \u001b[0mmaybe_version\u001b[0m \u001b[1;33m=\u001b[0m \u001b[0m_get_version\u001b[0m\u001b[1;33m(\u001b[0m\u001b[0mconfig\u001b[0m\u001b[1;33m)\u001b[0m\u001b[1;33m\u001b[0m\u001b[1;33m\u001b[0m\u001b[0m\n\u001b[0;32m    147\u001b[0m     \u001b[1;32mif\u001b[0m \u001b[0mmaybe_version\u001b[0m \u001b[1;32mis\u001b[0m \u001b[1;32mNone\u001b[0m\u001b[1;33m:\u001b[0m\u001b[1;33m\u001b[0m\u001b[1;33m\u001b[0m\u001b[0m\n\u001b[1;32m--> 148\u001b[1;33m         \u001b[0m_version_missing\u001b[0m\u001b[1;33m(\u001b[0m\u001b[0mconfig\u001b[0m\u001b[1;33m)\u001b[0m\u001b[1;33m\u001b[0m\u001b[1;33m\u001b[0m\u001b[0m\n\u001b[0m\u001b[0;32m    149\u001b[0m     \u001b[1;32mreturn\u001b[0m \u001b[0mmaybe_version\u001b[0m\u001b[1;33m\u001b[0m\u001b[1;33m\u001b[0m\u001b[0m\n\u001b[0;32m    150\u001b[0m \u001b[1;33m\u001b[0m\u001b[0m\n",
      "\u001b[1;32m~\\AppData\\Local\\Packages\\PythonSoftwareFoundation.Python.3.7_qbz5n2kfra8p0\\LocalCache\\local-packages\\Python37\\site-packages\\setuptools_scm\\__init__.py\u001b[0m in \u001b[0;36m_version_missing\u001b[1;34m(config)\u001b[0m\n\u001b[0;32m    107\u001b[0m \u001b[1;32mdef\u001b[0m \u001b[0m_version_missing\u001b[0m\u001b[1;33m(\u001b[0m\u001b[0mconfig\u001b[0m\u001b[1;33m:\u001b[0m \u001b[0mConfiguration\u001b[0m\u001b[1;33m)\u001b[0m \u001b[1;33m->\u001b[0m \u001b[0mNoReturn\u001b[0m\u001b[1;33m:\u001b[0m\u001b[1;33m\u001b[0m\u001b[1;33m\u001b[0m\u001b[0m\n\u001b[0;32m    108\u001b[0m     raise LookupError(\n\u001b[1;32m--> 109\u001b[1;33m         \u001b[1;34mf\"setuptools-scm was unable to detect version for {config.absolute_root}.\\n\\n\"\u001b[0m\u001b[1;33m\u001b[0m\u001b[1;33m\u001b[0m\u001b[0m\n\u001b[0m\u001b[0;32m    110\u001b[0m         \u001b[1;34m\"Make sure you're either building from a fully intact git repository \"\u001b[0m\u001b[1;33m\u001b[0m\u001b[1;33m\u001b[0m\u001b[0m\n\u001b[0;32m    111\u001b[0m         \u001b[1;34m\"or PyPI tarballs. Most other sources (such as GitHub's tarballs, a \"\u001b[0m\u001b[1;33m\u001b[0m\u001b[1;33m\u001b[0m\u001b[0m\n",
      "\u001b[1;31mLookupError\u001b[0m: setuptools-scm was unable to detect version for C:\\Users\\18645\\AppData\\Local\\Packages\\PythonSoftwareFoundation.Python.3.7_qbz5n2kfra8p0\\LocalCache\\local-packages\\Python37\\site-packages.\n\nMake sure you're either building from a fully intact git repository or PyPI tarballs. Most other sources (such as GitHub's tarballs, a git checkout without the .git folder) don't contain the necessary metadata and will not work.\n\nFor example, if you're using pip, instead of https://github.com/user/proj/archive/master.zip use git+https://github.com/user/proj.git#egg=proj"
     ]
    }
   ],
   "source": [
    "from hsnf import column_style_hermite_normal_form, row_style_hermite_normal_form, smith_normal_form\n",
    "\n",
    "H, R = column_style_hermite_normal_form(P)"
   ]
  },
  {
   "cell_type": "code",
   "execution_count": null,
   "id": "6e761074-d5f7-4384-8cfb-4333f4ef4128",
   "metadata": {},
   "outputs": [],
   "source": []
  }
 ],
 "metadata": {
  "kernelspec": {
   "display_name": "Python 3 (ipykernel)",
   "language": "python",
   "name": "python3"
  },
  "language_info": {
   "codemirror_mode": {
    "name": "ipython",
    "version": 3
   },
   "file_extension": ".py",
   "mimetype": "text/x-python",
   "name": "python",
   "nbconvert_exporter": "python",
   "pygments_lexer": "ipython3",
   "version": "3.7.9"
  }
 },
 "nbformat": 4,
 "nbformat_minor": 5
}
