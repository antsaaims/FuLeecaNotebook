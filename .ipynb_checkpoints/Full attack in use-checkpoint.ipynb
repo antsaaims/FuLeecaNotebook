{
 "cells": [
  {
   "cell_type": "code",
   "execution_count": 1,
   "id": "06cb6560",
   "metadata": {},
   "outputs": [
    {
     "name": "stdout",
     "output_type": "stream",
     "text": [
      "Solver you already have\n",
      "['base', 'cbc', 'coin', 'gurobi', 'highs']\n"
     ]
    }
   ],
   "source": [
    "import attackfuleeca #importing the class\n",
    "from datetime import datetime\n",
    "import pandas as pd\n"
   ]
  },
  {
   "cell_type": "code",
   "execution_count": 2,
   "id": "3c53736c",
   "metadata": {},
   "outputs": [],
   "source": [
    "attack = attackfuleeca.attack()"
   ]
  },
  {
   "cell_type": "code",
   "execution_count": 3,
   "id": "80287650",
   "metadata": {},
   "outputs": [
    {
     "name": "stdout",
     "output_type": "stream",
     "text": [
      "Hello, I am the python class used to attack FuLeeca,\n",
      " I can be used to generate a key pair for FuLeeca,\n",
      " I also can load a public key from a file,\n",
      " I format the public key so that it can be used in Pyomo,\n",
      ", I use Pyomo to attack the FuLeeca cryptosystem and you got to choose which solver to use!\n"
     ]
    }
   ],
   "source": [
    "print(attack)"
   ]
  },
  {
   "cell_type": "code",
   "execution_count": 29,
   "id": "be4935b0",
   "metadata": {},
   "outputs": [],
   "source": [
    "#attack.generate_key(verbose =True)"
   ]
  },
  {
   "cell_type": "code",
   "execution_count": 6,
   "id": "0f75c125",
   "metadata": {},
   "outputs": [],
   "source": [
    "T = attack.get_T('T.csv')"
   ]
  },
  {
   "cell_type": "code",
   "execution_count": 7,
   "id": "07a19cb2",
   "metadata": {},
   "outputs": [
    {
     "data": {
      "text/plain": [
       "array([[4, 0, 4, 1, 0, 0, 4, 3, 0, 4, 4],\n",
       "       [4, 4, 0, 4, 1, 0, 0, 4, 3, 0, 4],\n",
       "       [4, 4, 4, 0, 4, 1, 0, 0, 4, 3, 0],\n",
       "       [0, 4, 4, 4, 0, 4, 1, 0, 0, 4, 3],\n",
       "       [3, 0, 4, 4, 4, 0, 4, 1, 0, 0, 4],\n",
       "       [4, 3, 0, 4, 4, 4, 0, 4, 1, 0, 0],\n",
       "       [0, 4, 3, 0, 4, 4, 4, 0, 4, 1, 0],\n",
       "       [0, 0, 4, 3, 0, 4, 4, 4, 0, 4, 1],\n",
       "       [1, 0, 0, 4, 3, 0, 4, 4, 4, 0, 4],\n",
       "       [4, 1, 0, 0, 4, 3, 0, 4, 4, 4, 0],\n",
       "       [0, 4, 1, 0, 0, 4, 3, 0, 4, 4, 4]], dtype=uint8)"
      ]
     },
     "execution_count": 7,
     "metadata": {},
     "output_type": "execute_result"
    }
   ],
   "source": [
    "T"
   ]
  },
  {
   "cell_type": "code",
   "execution_count": 8,
   "id": "04d6d517",
   "metadata": {},
   "outputs": [
    {
     "name": "stdout",
     "output_type": "stream",
     "text": [
      "Task done, see your file at toyexample.dat\n"
     ]
    },
    {
     "data": {
      "text/plain": [
       "'param level:=0; \\nparam p:= 5; \\nparam uba:= 2; \\nparam halfn:= 11; \\nparam: i:\\n       Mset:=\\n      1 0\\n      2 0\\n      3 0\\n      4 1\\n      5 1\\n      6 2\\n      7 2\\n      8 2\\n      9 1\\n      10 1\\n      11 1; \\nparam T:  1 2 3 4 5 6 7 8 9 10 11:=\\n        1 4 0 4 1 0 0 4 3 0 4 4\\n        2 4 4 0 4 1 0 0 4 3 0 4\\n        3 4 4 4 0 4 1 0 0 4 3 0\\n        4 0 4 4 4 0 4 1 0 0 4 3\\n        5 3 0 4 4 4 0 4 1 0 0 4\\n        6 4 3 0 4 4 4 0 4 1 0 0\\n        7 0 4 3 0 4 4 4 0 4 1 0\\n        8 0 0 4 3 0 4 4 4 0 4 1\\n        9 1 0 0 4 3 0 4 4 4 0 4\\n        10 4 1 0 0 4 3 0 4 4 4 0\\n        11 0 4 1 0 0 4 3 0 4 4 4;'"
      ]
     },
     "execution_count": 8,
     "metadata": {},
     "output_type": "execute_result"
    }
   ],
   "source": [
    "attack.T_to_dat(T)"
   ]
  },
  {
   "cell_type": "code",
   "execution_count": 3,
   "id": "fba92387",
   "metadata": {
    "scrolled": false
   },
   "outputs": [
    {
     "name": "stdout",
     "output_type": "stream",
     "text": [
      "[    0.00] starting timer\n",
      "We just have built the instance, start solving stay tuned!\n",
      "Solver script file: 'C:\\Users\\18645\\AppData\\Local\\Temp\\tmpwc1a_ni6.gurobi.script'\n",
      "Solver log file: 'my.log'\n",
      "Solver solution file: 'C:\\Users\\18645\\AppData\\Local\\Temp\\tmpgztdm7_5.gurobi.txt'\n",
      "Solver problem files: ('C:\\\\Users\\\\18645\\\\AppData\\\\Local\\\\Temp\\\\tmp5re6yuon.pyomo.lp',)\n",
      "feasible\n",
      "53.0\n",
      "Verifying that indeed aT = b mod p \n",
      " This should be 1 if the sekret keys are valid:\n",
      "\n",
      "1\n",
      "[+  12.83] task 1\n",
      "elapsed time: 12.8 s\n"
     ]
    },
    {
     "data": {
      "text/plain": [
       "[1, 12.831060800000003]"
      ]
     },
     "execution_count": 3,
     "metadata": {},
     "output_type": "execute_result"
    }
   ],
   "source": [
    "attack.forge_lin_sk(solvername = 'gurobi', ampl = False,)"
   ]
  },
  {
   "cell_type": "code",
   "execution_count": 45,
   "id": "68fc24c3",
   "metadata": {},
   "outputs": [
    {
     "name": "stdout",
     "output_type": "stream",
     "text": [
      "This should be 1 if the sekret keys are valid\n",
      "1\n",
      "Task done, see your file at dat_files/20231007180558dat.csv.dat\n",
      "[    0.00] starting timer\n",
      "We just have built the instance, start solving stay tuned!\n",
      "Solver script file: 'C:\\Users\\18645\\AppData\\Local\\Temp\\tmpd6awvoii.gurobi.script'\n",
      "Solver log file: 'my.log'\n",
      "Solver solution file: 'C:\\Users\\18645\\AppData\\Local\\Temp\\tmp2_eihzbl.gurobi.txt'\n",
      "Solver problem files: ('C:\\\\Users\\\\18645\\\\AppData\\\\Local\\\\Temp\\\\tmpcy5nv7o3.pyomo.lp',)\n",
      "feasible\n",
      "53.0\n",
      "Verifying that indeed aT = b mod p \n",
      " This should be 1 if the sekret keys are valid:\n",
      "\n",
      "1\n",
      "[+  12.53] task 1\n",
      "elapsed time: 12.5 s\n",
      "This should be 1 if the sekret keys are valid\n",
      "1\n",
      "Task done, see your file at dat_files/20231007180611dat.csv.dat\n",
      "[    0.00] starting timer\n",
      "We just have built the instance, start solving stay tuned!\n",
      "Solver script file: 'C:\\Users\\18645\\AppData\\Local\\Temp\\tmp3_4li87l.gurobi.script'\n",
      "Solver log file: 'my.log'\n",
      "Solver solution file: 'C:\\Users\\18645\\AppData\\Local\\Temp\\tmplfhahue8.gurobi.txt'\n",
      "Solver problem files: ('C:\\\\Users\\\\18645\\\\AppData\\\\Local\\\\Temp\\\\tmpq11fiqzo.pyomo.lp',)\n",
      "feasible\n",
      "53.0\n",
      "Verifying that indeed aT = b mod p \n",
      " This should be 1 if the sekret keys are valid:\n",
      "\n",
      "1\n",
      "[+  10.48] task 1\n",
      "elapsed time: 10.5 s\n",
      "This should be 1 if the sekret keys are valid\n",
      "1\n",
      "Task done, see your file at dat_files/20231007180621dat.csv.dat\n",
      "[    0.00] starting timer\n",
      "We just have built the instance, start solving stay tuned!\n",
      "Solver script file: 'C:\\Users\\18645\\AppData\\Local\\Temp\\tmp1q7yoaxk.gurobi.script'\n",
      "Solver log file: 'my.log'\n",
      "Solver solution file: 'C:\\Users\\18645\\AppData\\Local\\Temp\\tmp5hj_d3gc.gurobi.txt'\n",
      "Solver problem files: ('C:\\\\Users\\\\18645\\\\AppData\\\\Local\\\\Temp\\\\tmpwxkajoep.pyomo.lp',)\n",
      "feasible\n",
      "53.0\n",
      "Verifying that indeed aT = b mod p \n",
      " This should be 1 if the sekret keys are valid:\n",
      "\n",
      "1\n",
      "[+  10.47] task 1\n",
      "elapsed time: 10.5 s\n",
      "This should be 1 if the sekret keys are valid\n",
      "1\n",
      "Task done, see your file at dat_files/20231007180632dat.csv.dat\n",
      "[    0.00] starting timer\n",
      "We just have built the instance, start solving stay tuned!\n",
      "Solver script file: 'C:\\Users\\18645\\AppData\\Local\\Temp\\tmpdla408ap.gurobi.script'\n",
      "Solver log file: 'my.log'\n",
      "Solver solution file: 'C:\\Users\\18645\\AppData\\Local\\Temp\\tmp7inhf5nh.gurobi.txt'\n",
      "Solver problem files: ('C:\\\\Users\\\\18645\\\\AppData\\\\Local\\\\Temp\\\\tmpeaiaox3u.pyomo.lp',)\n",
      "feasible\n",
      "53.0\n",
      "Verifying that indeed aT = b mod p \n",
      " This should be 1 if the sekret keys are valid:\n",
      "\n",
      "1\n",
      "[+  10.44] task 1\n",
      "elapsed time: 10.4 s\n",
      "This should be 1 if the sekret keys are valid\n",
      "1\n",
      "Task done, see your file at dat_files/20231007180642dat.csv.dat\n",
      "[    0.00] starting timer\n",
      "We just have built the instance, start solving stay tuned!\n",
      "Solver script file: 'C:\\Users\\18645\\AppData\\Local\\Temp\\tmp2x4lvgtp.gurobi.script'\n",
      "Solver log file: 'my.log'\n",
      "Solver solution file: 'C:\\Users\\18645\\AppData\\Local\\Temp\\tmp6_20bmtb.gurobi.txt'\n",
      "Solver problem files: ('C:\\\\Users\\\\18645\\\\AppData\\\\Local\\\\Temp\\\\tmppm50rkkp.pyomo.lp',)\n",
      "feasible\n",
      "53.0\n",
      "Verifying that indeed aT = b mod p \n",
      " This should be 1 if the sekret keys are valid:\n",
      "\n",
      "1\n",
      "[+  10.62] task 1\n",
      "elapsed time: 10.6 s\n",
      "This should be 1 if the sekret keys are valid\n",
      "1\n",
      "Task done, see your file at dat_files/20231007180653dat.csv.dat\n",
      "[    0.00] starting timer\n",
      "We just have built the instance, start solving stay tuned!\n",
      "Solver script file: 'C:\\Users\\18645\\AppData\\Local\\Temp\\tmp03sbpnh2.gurobi.script'\n",
      "Solver log file: 'my.log'\n",
      "Solver solution file: 'C:\\Users\\18645\\AppData\\Local\\Temp\\tmpgzbva9pe.gurobi.txt'\n",
      "Solver problem files: ('C:\\\\Users\\\\18645\\\\AppData\\\\Local\\\\Temp\\\\tmp4t4f3ikb.pyomo.lp',)\n",
      "feasible\n",
      "53.0\n",
      "Verifying that indeed aT = b mod p \n",
      " This should be 1 if the sekret keys are valid:\n",
      "\n",
      "1\n",
      "[+  11.26] task 1\n",
      "elapsed time: 11.3 s\n",
      "This should be 1 if the sekret keys are valid\n",
      "1\n",
      "Task done, see your file at dat_files/20231007180704dat.csv.dat\n",
      "[    0.00] starting timer\n",
      "We just have built the instance, start solving stay tuned!\n",
      "Solver script file: 'C:\\Users\\18645\\AppData\\Local\\Temp\\tmpcrub83t5.gurobi.script'\n",
      "Solver log file: 'my.log'\n",
      "Solver solution file: 'C:\\Users\\18645\\AppData\\Local\\Temp\\tmpwb0cwflz.gurobi.txt'\n",
      "Solver problem files: ('C:\\\\Users\\\\18645\\\\AppData\\\\Local\\\\Temp\\\\tmpq3ckua0i.pyomo.lp',)\n",
      "feasible\n",
      "53.0\n",
      "Verifying that indeed aT = b mod p \n",
      " This should be 1 if the sekret keys are valid:\n",
      "\n",
      "1\n",
      "[+  10.24] task 1\n",
      "elapsed time: 10.2 s\n",
      "This should be 1 if the sekret keys are valid\n",
      "1\n",
      "Task done, see your file at dat_files/20231007180714dat.csv.dat\n",
      "[    0.00] starting timer\n",
      "We just have built the instance, start solving stay tuned!\n",
      "Solver script file: 'C:\\Users\\18645\\AppData\\Local\\Temp\\tmpx5ntlu8b.gurobi.script'\n",
      "Solver log file: 'my.log'\n",
      "Solver solution file: 'C:\\Users\\18645\\AppData\\Local\\Temp\\tmp9oek_r4b.gurobi.txt'\n",
      "Solver problem files: ('C:\\\\Users\\\\18645\\\\AppData\\\\Local\\\\Temp\\\\tmp68bjraf8.pyomo.lp',)\n",
      "feasible\n",
      "53.0\n",
      "Verifying that indeed aT = b mod p \n",
      " This should be 1 if the sekret keys are valid:\n",
      "\n",
      "1\n",
      "[+  10.32] task 1\n",
      "elapsed time: 10.3 s\n",
      "This should be 1 if the sekret keys are valid\n",
      "1\n",
      "Task done, see your file at dat_files/20231007180725dat.csv.dat\n",
      "[    0.00] starting timer\n",
      "We just have built the instance, start solving stay tuned!\n",
      "Solver script file: 'C:\\Users\\18645\\AppData\\Local\\Temp\\tmpo71iz7fd.gurobi.script'\n",
      "Solver log file: 'my.log'\n",
      "Solver solution file: 'C:\\Users\\18645\\AppData\\Local\\Temp\\tmp0__lde2v.gurobi.txt'\n",
      "Solver problem files: ('C:\\\\Users\\\\18645\\\\AppData\\\\Local\\\\Temp\\\\tmpb2pccfd8.pyomo.lp',)\n",
      "feasible\n",
      "53.0\n",
      "Verifying that indeed aT = b mod p \n",
      " This should be 1 if the sekret keys are valid:\n",
      "\n",
      "1\n",
      "[+  10.36] task 1\n",
      "elapsed time: 10.4 s\n",
      "This should be 1 if the sekret keys are valid\n",
      "1\n",
      "Task done, see your file at dat_files/20231007180735dat.csv.dat\n",
      "[    0.00] starting timer\n",
      "We just have built the instance, start solving stay tuned!\n",
      "Solver script file: 'C:\\Users\\18645\\AppData\\Local\\Temp\\tmpb2kuan5m.gurobi.script'\n",
      "Solver log file: 'my.log'\n",
      "Solver solution file: 'C:\\Users\\18645\\AppData\\Local\\Temp\\tmp3ee51jsi.gurobi.txt'\n",
      "Solver problem files: ('C:\\\\Users\\\\18645\\\\AppData\\\\Local\\\\Temp\\\\tmpa584tcvo.pyomo.lp',)\n",
      "feasible\n",
      "53.0\n",
      "Verifying that indeed aT = b mod p \n",
      " This should be 1 if the sekret keys are valid:\n",
      "\n",
      "1\n",
      "[+  10.31] task 1\n",
      "elapsed time: 10.3 s\n"
     ]
    }
   ],
   "source": [
    "for i in range(10):\n",
    "    s = datetime.now()\n",
    "    now = s.strftime(\"%Y%m%d%H%M%S\")\n",
    "    level = 0\n",
    "    pkfilename = 'generatedpk/' + now +'T.csv'\n",
    "    dat_name = 'dat_files/' + now + 'dat.csv'\n",
    "    skfilename = \"originalsk/\" + now + \"toysk.txt\"\n",
    "    forgedskname = \"forgedsk/\" + now + \"forgedsk.txt\"\n",
    "    infolist = [level, pkfilename, skfilename,forgedskname]\n",
    "    #generate the key \n",
    "    attack.generate_key(level = level, pkfilename = pkfilename, skfilename = skfilename)\n",
    "    T = attack.get_T(pkfilename)\n",
    "    #format the key\n",
    "    attack.T_to_dat(T, level=level, filename = dat_name)\n",
    "    #perform the attack\n",
    "    successlist = list(attack.forge_lin_sk(solvername = 'gurobi', ampl = False))\n",
    "    for k in successlist:\n",
    "        infolist.append(k)\n",
    "    attackdf = pd.DataFrame([infolist], columns =['Level', 'PKFilename',\n",
    "                                                'SKorigfilename', 'ForgeSKFilename', \n",
    "                                                'Succes','ElapsedTime'])\n",
    "    if i == 0:\n",
    "        attackdf.to_csv(\"attackdf.csv\",index=True,header=True,mode=\"a\") # Only make header = True at the first try, after that use False\n",
    "    else:\n",
    "        attackdf.to_csv(\"attackdf.csv\",index=True,header=False,mode=\"a\") # Only make header = True at the first try, after that use False"
   ]
  },
  {
   "cell_type": "code",
   "execution_count": 42,
   "id": "aef733ad",
   "metadata": {},
   "outputs": [],
   "source": []
  },
  {
   "cell_type": "code",
   "execution_count": null,
   "id": "e77990e8",
   "metadata": {},
   "outputs": [],
   "source": []
  }
 ],
 "metadata": {
  "kernelspec": {
   "display_name": "Python 3 (ipykernel)",
   "language": "python",
   "name": "python3"
  },
  "language_info": {
   "codemirror_mode": {
    "name": "ipython",
    "version": 3
   },
   "file_extension": ".py",
   "mimetype": "text/x-python",
   "name": "python",
   "nbconvert_exporter": "python",
   "pygments_lexer": "ipython3",
   "version": "3.7.9"
  }
 },
 "nbformat": 4,
 "nbformat_minor": 5
}
