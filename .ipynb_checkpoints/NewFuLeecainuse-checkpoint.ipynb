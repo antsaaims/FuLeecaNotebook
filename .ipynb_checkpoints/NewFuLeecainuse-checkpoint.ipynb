{
 "cells": [
  {
   "cell_type": "markdown",
   "id": "23ccb4e1-6dee-43f2-a777-76887d655bed",
   "metadata": {},
   "source": [
    " # Full attack in use\n",
    "    \n",
    "    This is the test file for this Python module"
   ]
  },
  {
   "cell_type": "code",
   "execution_count": 1,
   "id": "053ff4ee-69ff-4e45-97a9-03a557364742",
   "metadata": {},
   "outputs": [],
   "source": [
    "#!pip install pyomo\n",
    "#!pip install hsnf==0.3.13"
   ]
  },
  {
   "cell_type": "code",
   "execution_count": 2,
   "id": "f5368a4e-710c-4412-a9af-cdce32d13e27",
   "metadata": {},
   "outputs": [
    {
     "name": "stdout",
     "output_type": "stream",
     "text": [
      "Solver you already have\n",
      "['base', 'gurobi', 'highs']\n"
     ]
    }
   ],
   "source": [
    "import attackfuleeca\n",
    "from datetime import datetime\n",
    "import pandas as pd"
   ]
  },
  {
   "cell_type": "code",
   "execution_count": 3,
   "id": "ad30ca98-d5ba-49b9-8956-a54a1426f9ca",
   "metadata": {},
   "outputs": [],
   "source": [
    "attack = attackfuleeca.attack()"
   ]
  },
  {
   "cell_type": "code",
   "execution_count": 4,
   "id": "e5d3b407-4019-4a73-9a68-827e34641cae",
   "metadata": {},
   "outputs": [
    {
     "name": "stdout",
     "output_type": "stream",
     "text": [
      "Hello, I am the python class used to attack FuLeeca,\n",
      " I can be used to generate a key pair for FuLeeca,\n",
      " I also can load a public key from a file,\n",
      " I format the public key so that it can be used in Pyomo,\n",
      ", I use Pyomo to attack the FuLeeca cryptosystem and you got to choose which solver to use!\n"
     ]
    }
   ],
   "source": [
    "print(attack)"
   ]
  },
  {
   "cell_type": "code",
   "execution_count": 5,
   "id": "c45e3b9b-bec6-4241-b0df-08761599d03f",
   "metadata": {},
   "outputs": [
    {
     "name": "stdout",
     "output_type": "stream",
     "text": [
      "p is5\n",
      "halfn is 11\n",
      "Alice's a value: [ 1 -2  0 -2 -1  1  0 -2  1  0  1]\n",
      "Alice's b value: [-1  0  2  1  0 -1  0 -1  2  1  2]\n",
      "Alice's T value: \n",
      "[[2 0 1 1 3 3 2 1 0 0 2]\n",
      " [2 2 0 1 1 3 3 2 1 0 0]\n",
      " [0 2 2 0 1 1 3 3 2 1 0]\n",
      " [0 0 2 2 0 1 1 3 3 2 1]\n",
      " [1 0 0 2 2 0 1 1 3 3 2]\n",
      " [2 1 0 0 2 2 0 1 1 3 3]\n",
      " [3 2 1 0 0 2 2 0 1 1 3]\n",
      " [3 3 2 1 0 0 2 2 0 1 1]\n",
      " [1 3 3 2 1 0 0 2 2 0 1]\n",
      " [1 1 3 3 2 1 0 0 2 2 0]\n",
      " [0 1 1 3 3 2 1 0 0 2 2]]\n",
      "This should be 1 if the sekret keys are valid\n",
      "1\n"
     ]
    }
   ],
   "source": [
    "attack.generate_key(verbose =True)"
   ]
  },
  {
   "cell_type": "code",
   "execution_count": 6,
   "id": "be14a97b-ced4-49af-8e5d-7126acd961ac",
   "metadata": {},
   "outputs": [],
   "source": [
    "T = attack.get_T('T.csv')"
   ]
  },
  {
   "cell_type": "code",
   "execution_count": 7,
   "id": "1e3a8562-135e-487c-af6d-2062cb68349f",
   "metadata": {},
   "outputs": [
    {
     "name": "stdout",
     "output_type": "stream",
     "text": [
      "Task done, see your file at toyexample.dat\n",
      "param level:=0; \n",
      "param p:= 5; \n",
      "param uba:= 2; \n",
      "param halfn:= 11; \n",
      "param: i:\n",
      "       Mset:=\n",
      "      1 0\n",
      "      2 0\n",
      "      3 0\n",
      "      4 1\n",
      "      5 1\n",
      "      6 2\n",
      "      7 2\n",
      "      8 2\n",
      "      9 1\n",
      "      10 1\n",
      "      11 1; \n",
      "param T:  1 2 3 4 5 6 7 8 9 10 11:=\n",
      "        1 2 0 1 1 3 3 2 1 0 0 2\n",
      "        2 2 2 0 1 1 3 3 2 1 0 0\n",
      "        3 0 2 2 0 1 1 3 3 2 1 0\n",
      "        4 0 0 2 2 0 1 1 3 3 2 1\n",
      "        5 1 0 0 2 2 0 1 1 3 3 2\n",
      "        6 2 1 0 0 2 2 0 1 1 3 3\n",
      "        7 3 2 1 0 0 2 2 0 1 1 3\n",
      "        8 3 3 2 1 0 0 2 2 0 1 1\n",
      "        9 1 3 3 2 1 0 0 2 2 0 1\n",
      "        10 1 1 3 3 2 1 0 0 2 2 0\n",
      "        11 0 1 1 3 3 2 1 0 0 2 2; \n",
      "param Q1:  1 2 3 4 5 6 7 8 9 10 11:=\n",
      "        1 0 0 0 0 0 0 0 0 0 0 0\n",
      "        2 3 1 0 3 4 0 1 1 1 1 0\n",
      "        3 2 3 0 2 1 3 0 1 1 1 0\n",
      "        4 2 1 2 2 0 0 3 0 1 1 0\n",
      "        5 2 1 1 4 0 4 0 3 0 1 0\n",
      "        6 3 3 0 3 2 4 4 0 3 0 0\n",
      "        7 3 3 2 4 2 2 0 0 1 4 0\n",
      "        8 3 0 0 1 4 3 4 2 2 3 0\n",
      "        9 1 1 1 4 2 1 1 2 0 0 0\n",
      "        10 3 1 2 0 3 2 2 2 3 1 0\n",
      "        11 1 3 1 4 3 2 2 2 2 3 0; \n",
      "param R1:  1 2 3 4 5 6 7 8 9 10 11:=\n",
      "        1 1 0 0 0 0 0 0 0 0 0 0\n",
      "        2 0 1 0 0 0 0 0 0 0 0 0\n",
      "        3 0 0 1 0 0 0 0 0 0 0 0\n",
      "        4 0 0 0 1 0 0 0 0 0 0 0\n",
      "        5 0 0 0 0 1 0 0 0 0 0 0\n",
      "        6 0 0 0 0 0 1 0 0 0 0 0\n",
      "        7 0 0 0 0 0 0 1 0 0 0 0\n",
      "        8 0 0 0 0 0 0 0 1 0 0 0\n",
      "        9 0 0 0 0 0 0 0 0 1 0 0\n",
      "        10 0 0 0 0 0 0 0 0 0 1 0\n",
      "        11 4 4 4 4 4 4 4 4 4 4 5; \n",
      "param Q2:  1 2 3 4 5 6 7 8 9 10 11:=\n",
      "        1 1 0 0 0 0 0 0 0 0 0 0\n",
      "        2 1 5 0 0 0 0 0 0 0 0 0\n",
      "        3 1 0 5 0 0 0 0 0 0 0 0\n",
      "        4 1 0 0 5 0 0 0 0 0 0 0\n",
      "        5 1 0 0 0 5 0 0 0 0 0 0\n",
      "        6 1 0 0 0 0 5 0 0 0 0 0\n",
      "        7 1 0 0 0 0 0 5 0 0 0 0\n",
      "        8 1 0 0 0 0 0 0 5 0 0 0\n",
      "        9 1 0 0 0 0 0 0 0 5 0 0\n",
      "        10 1 0 0 0 0 0 0 0 0 5 0\n",
      "        11 1 0 0 0 0 0 0 0 0 0 5; \n",
      "param J:  1 2 3 4 5 6 7 8 9 10 11:=\n",
      "        1 -0.0 -0.0 -0.0 -0.0 -0.0 -0.0 -0.0 -0.0 -0.0 -0.0 -0.0\n",
      "        2 -3.0 -1.0 -0.0 -3.0 -4.0 -0.0 -1.0 -1.0 -1.0 -1.0 -0.0\n",
      "        3 -2.0 -3.0 -0.0 -2.0 -1.0 -3.0 -0.0 -1.0 -1.0 -1.0 -0.0\n",
      "        4 -2.0 -1.0 -2.0 -2.0 -0.0 -0.0 -3.0 -0.0 -1.0 -1.0 -0.0\n",
      "        5 -2.0 -1.0 -1.0 -4.0 -0.0 -4.0 -0.0 -3.0 -0.0 -1.0 -0.0\n",
      "        6 -3.0 -3.0 -0.0 -3.0 -2.0 -4.0 -4.0 -0.0 -3.0 -0.0 -0.0\n",
      "        7 -3.0 -3.0 -2.0 -4.0 -2.0 -2.0 -0.0 -0.0 -1.0 -4.0 -0.0\n",
      "        8 -3.0 -0.0 -0.0 -1.0 -4.0 -3.0 -4.0 -2.0 -2.0 -3.0 -0.0\n",
      "        9 -1.0 -1.0 -1.0 -4.0 -2.0 -1.0 -1.0 -2.0 -0.0 -0.0 -0.0\n",
      "        10 -3.0 -1.0 -2.0 -0.0 -3.0 -2.0 -2.0 -2.0 -3.0 -1.0 -0.0\n",
      "        11 -1.0 -3.0 -1.0 -4.0 -3.0 -2.0 -2.0 -2.0 -2.0 -3.0 -0.0; \n",
      "param H:  1 2 3 4 5 6 7 8 9 10 11:=\n",
      "        1 1 0 0 0 0 0 0 0 0 0 0\n",
      "        2 1 5 0 0 0 0 0 0 0 0 0\n",
      "        3 1 0 5 0 0 0 0 0 0 0 0\n",
      "        4 1 0 0 5 0 0 0 0 0 0 0\n",
      "        5 1 0 0 0 5 0 0 0 0 0 0\n",
      "        6 1 0 0 0 0 5 0 0 0 0 0\n",
      "        7 1 0 0 0 0 0 5 0 0 0 0\n",
      "        8 1 0 0 0 0 0 0 5 0 0 0\n",
      "        9 1 0 0 0 0 0 0 0 5 0 0\n",
      "        10 1 0 0 0 0 0 0 0 0 5 0\n",
      "        11 1 0 0 0 0 0 0 0 0 0 5;\n"
     ]
    }
   ],
   "source": [
    "print(attack.T_to_dat(T, level = 0))"
   ]
  },
  {
   "cell_type": "code",
   "execution_count": 8,
   "id": "9cc702a8-622d-4520-ba88-ba68f049dca3",
   "metadata": {},
   "outputs": [
    {
     "name": "stdout",
     "output_type": "stream",
     "text": [
      "[    0.00] starting timer\n",
      "We just have built the instance, start solving stay tuned!\n",
      "Solver script file: '/local_scratch/pbs.1413564.pbs02/tmpnos152d5.gurobi.script'\n",
      "Solver log file: 'my.log'\n",
      "Solver solution file: '/local_scratch/pbs.1413564.pbs02/tmpe78vsqkh.gurobi.txt'\n",
      "Solver problem files: ('/local_scratch/pbs.1413564.pbs02/tmpcabfof0u.pyomo.lp',)\n",
      "feasible\n",
      "0\n",
      "Verifying that indeed aT = b mod p \n",
      " This should be 1 if the sekret keys are valid:\n",
      "\n",
      "1\n",
      "[+  30.83] task 1\n",
      "elapsed time: 30.8 s\n",
      "Value of a[1, 1, 0, 2, 0, 1, 2, 1, 1, 2, 0]\n",
      "Value of b[3, 0, 3, 0, 1, 1, 3, 4, 1, 4, 0]\n",
      "Value of aT[3 0 3 0 1 1 3 4 1 4 0]\n"
     ]
    },
    {
     "data": {
      "text/plain": [
       "[1, 30.829138132743537]"
      ]
     },
     "execution_count": 8,
     "metadata": {},
     "output_type": "execute_result"
    }
   ],
   "source": [
    "attack.forge_lin_sk(solvername = 'gurobi', ampl = False,verbose = True)"
   ]
  },
  {
   "cell_type": "code",
   "execution_count": 9,
   "id": "fd3f3790-0cd0-43ff-ba36-3b767bf7c327",
   "metadata": {},
   "outputs": [],
   "source": [
    "#LEVEL 1\n",
    "names = [\"level1ex\"+str(i) for i in range(10)]"
   ]
  },
  {
   "cell_type": "code",
   "execution_count": 10,
   "id": "d55c6ac9-bc21-4498-af62-6c85256eafb2",
   "metadata": {},
   "outputs": [
    {
     "data": {
      "text/plain": [
       "['level1ex0',\n",
       " 'level1ex1',\n",
       " 'level1ex2',\n",
       " 'level1ex3',\n",
       " 'level1ex4',\n",
       " 'level1ex5',\n",
       " 'level1ex6',\n",
       " 'level1ex7',\n",
       " 'level1ex8',\n",
       " 'level1ex9']"
      ]
     },
     "execution_count": 10,
     "metadata": {},
     "output_type": "execute_result"
    }
   ],
   "source": [
    "names"
   ]
  },
  {
   "cell_type": "code",
   "execution_count": 11,
   "id": "e29a2e12-3787-4c40-9963-920fe6636078",
   "metadata": {},
   "outputs": [],
   "source": [
    "def generate_instance(name):\n",
    "    level = 1\n",
    "    pkfilename = 'generatedpk/' + name +'T.csv'\n",
    "    dat_name = 'dat_files/' + name\n",
    "    skfilename = \"originalsk/\" + name + \"level1sk.txt\"\n",
    "    forgedskname = \"forgedsk/\" + name + \"level1sk.txt\"\n",
    "    infolist = [level, pkfilename, skfilename,forgedskname]\n",
    "    #generate the key \n",
    "    attack.generate_key(level = level, pkfilename = pkfilename, skfilename = skfilename)\n",
    "    T = attack.get_T(pkfilename)\n",
    "    #format the key\n",
    "    attack.T_to_dat(T, level=level, filename = dat_name)"
   ]
  },
  {
   "cell_type": "code",
   "execution_count": null,
   "id": "aec84071-21a5-40d3-82ad-570bd20eb4a2",
   "metadata": {},
   "outputs": [
    {
     "name": "stdout",
     "output_type": "stream",
     "text": [
      "p is65521\n",
      "halfn is 659\n",
      "This should be 1 if the sekret keys are valid\n",
      "1\n"
     ]
    }
   ],
   "source": [
    "for name in names:\n",
    "    generate_instance(name)"
   ]
  },
  {
   "cell_type": "code",
   "execution_count": null,
   "id": "9f800cea-26c3-46ce-a959-520657078a2c",
   "metadata": {},
   "outputs": [],
   "source": []
  }
 ],
 "metadata": {
  "kernelspec": {
   "display_name": "Python 3 (ipykernel)",
   "language": "python",
   "name": "python3"
  },
  "language_info": {
   "codemirror_mode": {
    "name": "ipython",
    "version": 3
   },
   "file_extension": ".py",
   "mimetype": "text/x-python",
   "name": "python",
   "nbconvert_exporter": "python",
   "pygments_lexer": "ipython3",
   "version": "3.9.12"
  }
 },
 "nbformat": 4,
 "nbformat_minor": 5
}
