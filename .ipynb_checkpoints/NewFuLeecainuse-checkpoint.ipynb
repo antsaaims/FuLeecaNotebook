{
 "cells": [
  {
   "cell_type": "markdown",
   "id": "23ccb4e1-6dee-43f2-a777-76887d655bed",
   "metadata": {},
   "source": [
    " # Full attack in use\n",
    "    \n",
    "    This is the test file for this Python module"
   ]
  },
  {
   "cell_type": "code",
   "execution_count": 1,
   "id": "053ff4ee-69ff-4e45-97a9-03a557364742",
   "metadata": {},
   "outputs": [],
   "source": [
    "#!pip install pyomo\n",
    "#!pip install hsnf==0.3.13"
   ]
  },
  {
   "cell_type": "code",
   "execution_count": 2,
   "id": "f5368a4e-710c-4412-a9af-cdce32d13e27",
   "metadata": {},
   "outputs": [
    {
     "name": "stdout",
     "output_type": "stream",
     "text": [
      "Solver you already have\n",
      "['base', 'gurobi', 'highs']\n"
     ]
    }
   ],
   "source": [
    "import attackfuleeca\n",
    "from datetime import datetime\n",
    "import pandas as pd"
   ]
  },
  {
   "cell_type": "code",
   "execution_count": 3,
   "id": "ad30ca98-d5ba-49b9-8956-a54a1426f9ca",
   "metadata": {},
   "outputs": [],
   "source": [
    "attack = attackfuleeca.attack()"
   ]
  },
  {
   "cell_type": "code",
   "execution_count": 4,
   "id": "e5d3b407-4019-4a73-9a68-827e34641cae",
   "metadata": {},
   "outputs": [
    {
     "name": "stdout",
     "output_type": "stream",
     "text": [
      "Hello, I am the python class used to attack FuLeeca,\n",
      " I can be used to generate a key pair for FuLeeca,\n",
      " I also can load a public key from a file,\n",
      " I format the public key so that it can be used in Pyomo,\n",
      ", I use Pyomo to attack the FuLeeca cryptosystem and you got to choose which solver to use!\n"
     ]
    }
   ],
   "source": [
    "print(attack)"
   ]
  },
  {
   "cell_type": "code",
   "execution_count": 5,
   "id": "c45e3b9b-bec6-4241-b0df-08761599d03f",
   "metadata": {},
   "outputs": [
    {
     "name": "stdout",
     "output_type": "stream",
     "text": [
      "p is5\n",
      "halfn is 11\n",
      "Alice's a value: [-1  1 -2  2  1  2  0 -1  1  0  0]\n",
      "Alice's b value: [-2  2  2 -1  1 -1  0  1 -1  0  0]\n",
      "Alice's T value: \n",
      "[[4 1 3 0 3 2 1 3 2 4 4]\n",
      " [4 4 1 3 0 3 2 1 3 2 4]\n",
      " [4 4 4 1 3 0 3 2 1 3 2]\n",
      " [2 4 4 4 1 3 0 3 2 1 3]\n",
      " [3 2 4 4 4 1 3 0 3 2 1]\n",
      " [1 3 2 4 4 4 1 3 0 3 2]\n",
      " [2 1 3 2 4 4 4 1 3 0 3]\n",
      " [3 2 1 3 2 4 4 4 1 3 0]\n",
      " [0 3 2 1 3 2 4 4 4 1 3]\n",
      " [3 0 3 2 1 3 2 4 4 4 1]\n",
      " [1 3 0 3 2 1 3 2 4 4 4]]\n",
      "This should be 1 if the sekret keys are valid\n",
      "1\n"
     ]
    }
   ],
   "source": [
    "attack.generate_key(verbose =True)"
   ]
  },
  {
   "cell_type": "code",
   "execution_count": 6,
   "id": "be14a97b-ced4-49af-8e5d-7126acd961ac",
   "metadata": {},
   "outputs": [],
   "source": [
    "T = attack.get_T('T.csv')"
   ]
  },
  {
   "cell_type": "code",
   "execution_count": 7,
   "id": "1e3a8562-135e-487c-af6d-2062cb68349f",
   "metadata": {},
   "outputs": [
    {
     "name": "stdout",
     "output_type": "stream",
     "text": [
      "Task done, see your file at toyexample.dat\n",
      "param level:=0; \n",
      "param p:= 5; \n",
      "param uba:= 2; \n",
      "param halfn:= 11; \n",
      "param: i:\n",
      "       Mset:=\n",
      "      1 0\n",
      "      2 0\n",
      "      3 0\n",
      "      4 1\n",
      "      5 1\n",
      "      6 2\n",
      "      7 2\n",
      "      8 2\n",
      "      9 1\n",
      "      10 1\n",
      "      11 1; \n",
      "param T:  1 2 3 4 5 6 7 8 9 10 11:=\n",
      "        1 4 1 3 0 3 2 1 3 2 4 4\n",
      "        2 4 4 1 3 0 3 2 1 3 2 4\n",
      "        3 4 4 4 1 3 0 3 2 1 3 2\n",
      "        4 2 4 4 4 1 3 0 3 2 1 3\n",
      "        5 3 2 4 4 4 1 3 0 3 2 1\n",
      "        6 1 3 2 4 4 4 1 3 0 3 2\n",
      "        7 2 1 3 2 4 4 4 1 3 0 3\n",
      "        8 3 2 1 3 2 4 4 4 1 3 0\n",
      "        9 0 3 2 1 3 2 4 4 4 1 3\n",
      "        10 3 0 3 2 1 3 2 4 4 4 1\n",
      "        11 1 3 0 3 2 1 3 2 4 4 4; \n",
      "param Q1:  1 2 3 4 5 6 7 8 9 10 11:=\n",
      "        1 0 0 4 2 4 4 3 3 0 4 4\n",
      "        2 4 0 0 4 2 4 4 3 3 0 4\n",
      "        3 4 4 0 0 4 2 4 4 3 3 0\n",
      "        4 0 4 4 0 0 4 2 4 4 3 3\n",
      "        5 3 0 4 4 0 0 4 2 4 4 3\n",
      "        6 3 3 0 4 4 0 0 4 2 4 4\n",
      "        7 4 3 3 0 4 4 0 0 4 2 4\n",
      "        8 4 4 3 3 0 4 4 0 0 4 2\n",
      "        9 2 4 4 3 3 0 4 4 0 0 4\n",
      "        10 4 2 4 4 3 3 0 4 4 0 0\n",
      "        11 0 4 2 4 4 3 3 0 4 4 0; \n",
      "param R1:  1 2 3 4 5 6 7 8 9 10 11:=\n",
      "        1 1 0 0 0 0 0 0 0 0 0 0\n",
      "        2 0 1 0 0 0 0 0 0 0 0 0\n",
      "        3 0 0 1 0 0 0 0 0 0 0 0\n",
      "        4 0 0 0 1 0 0 0 0 0 0 0\n",
      "        5 0 0 0 0 1 0 0 0 0 0 0\n",
      "        6 0 0 0 0 0 1 0 0 0 0 0\n",
      "        7 0 0 0 0 0 0 1 0 0 0 0\n",
      "        8 0 0 0 0 0 0 0 1 0 0 0\n",
      "        9 0 0 0 0 0 0 0 0 1 0 0\n",
      "        10 0 0 0 0 0 0 0 0 0 1 0\n",
      "        11 0 0 0 0 0 0 0 0 0 0 1; \n",
      "param Q2:  1 2 3 4 5 6 7 8 9 10 11:=\n",
      "        1 5 0 0 0 0 0 0 0 0 0 0\n",
      "        2 0 5 0 0 0 0 0 0 0 0 0\n",
      "        3 0 0 5 0 0 0 0 0 0 0 0\n",
      "        4 0 0 0 5 0 0 0 0 0 0 0\n",
      "        5 0 0 0 0 5 0 0 0 0 0 0\n",
      "        6 0 0 0 0 0 5 0 0 0 0 0\n",
      "        7 0 0 0 0 0 0 5 0 0 0 0\n",
      "        8 0 0 0 0 0 0 0 5 0 0 0\n",
      "        9 0 0 0 0 0 0 0 0 5 0 0\n",
      "        10 0 0 0 0 0 0 0 0 0 5 0\n",
      "        11 0 0 0 0 0 0 0 0 0 0 5; \n",
      "param J:  1 2 3 4 5 6 7 8 9 10 11:=\n",
      "        1 -0.0 -0.0 -4.0 -2.0 -4.0 -4.0 -3.0 -3.0 -0.0 -4.0 -4.0\n",
      "        2 -4.0 -0.0 -0.0 -4.0 -2.0 -4.0 -4.0 -3.0 -3.0 -0.0 -4.0\n",
      "        3 -4.0 -4.0 -0.0 -0.0 -4.0 -2.0 -4.0 -4.0 -3.0 -3.0 -0.0\n",
      "        4 -0.0 -4.0 -4.0 -0.0 -0.0 -4.0 -2.0 -4.0 -4.0 -3.0 -3.0\n",
      "        5 -3.0 -0.0 -4.0 -4.0 -0.0 -0.0 -4.0 -2.0 -4.0 -4.0 -3.0\n",
      "        6 -3.0 -3.0 -0.0 -4.0 -4.0 -0.0 -0.0 -4.0 -2.0 -4.0 -4.0\n",
      "        7 -4.0 -3.0 -3.0 -0.0 -4.0 -4.0 -0.0 -0.0 -4.0 -2.0 -4.0\n",
      "        8 -4.0 -4.0 -3.0 -3.0 -0.0 -4.0 -4.0 -0.0 -0.0 -4.0 -2.0\n",
      "        9 -2.0 -4.0 -4.0 -3.0 -3.0 -0.0 -4.0 -4.0 -0.0 -0.0 -4.0\n",
      "        10 -4.0 -2.0 -4.0 -4.0 -3.0 -3.0 -0.0 -4.0 -4.0 -0.0 -0.0\n",
      "        11 -0.0 -4.0 -2.0 -4.0 -4.0 -3.0 -3.0 -0.0 -4.0 -4.0 -0.0; \n",
      "param H:  1 2 3 4 5 6 7 8 9 10 11:=\n",
      "        1 5 0 0 0 0 0 0 0 0 0 0\n",
      "        2 0 5 0 0 0 0 0 0 0 0 0\n",
      "        3 0 0 5 0 0 0 0 0 0 0 0\n",
      "        4 0 0 0 5 0 0 0 0 0 0 0\n",
      "        5 0 0 0 0 5 0 0 0 0 0 0\n",
      "        6 0 0 0 0 0 5 0 0 0 0 0\n",
      "        7 0 0 0 0 0 0 5 0 0 0 0\n",
      "        8 0 0 0 0 0 0 0 5 0 0 0\n",
      "        9 0 0 0 0 0 0 0 0 5 0 0\n",
      "        10 0 0 0 0 0 0 0 0 0 5 0\n",
      "        11 0 0 0 0 0 0 0 0 0 0 5;\n"
     ]
    }
   ],
   "source": [
    "print(attack.T_to_dat(T, level = 0))"
   ]
  },
  {
   "cell_type": "code",
   "execution_count": 8,
   "id": "9cc702a8-622d-4520-ba88-ba68f049dca3",
   "metadata": {},
   "outputs": [
    {
     "name": "stdout",
     "output_type": "stream",
     "text": [
      "[    0.00] starting timer\n",
      "We just have built the instance, start solving stay tuned!\n",
      "Solver script file: '/local_scratch/pbs.1413564.pbs02/tmpibcmpjv7.gurobi.script'\n",
      "Solver log file: 'my.log'\n",
      "Solver solution file: '/local_scratch/pbs.1413564.pbs02/tmp7ds7oqm3.gurobi.txt'\n",
      "Solver problem files: ('/local_scratch/pbs.1413564.pbs02/tmpdxnjkhlw.pyomo.lp',)\n",
      "feasible\n",
      "0\n",
      "Verifying that indeed aT = b mod p \n",
      " This should be 1 if the sekret keys are valid:\n",
      "\n",
      "1\n",
      "[+   7.40] task 1\n",
      "elapsed time: 7.4 s\n",
      "Value of a[2, 1, 2, 0, 0, 1, 1, 2, 1, 0, 1]\n",
      "Value of b[0, 3, 4, 1, 4, 1, 0, 4, 2, 0, 3]\n",
      "Value of aT[0 3 4 1 4 1 0 4 2 0 3]\n"
     ]
    },
    {
     "data": {
      "text/plain": [
       "[1, 7.396975413896143]"
      ]
     },
     "execution_count": 8,
     "metadata": {},
     "output_type": "execute_result"
    }
   ],
   "source": [
    "attack.forge_lin_sk(solvername = 'gurobi', ampl = False,verbose = True)"
   ]
  }
 ],
 "metadata": {
  "kernelspec": {
   "display_name": "Python 3 (ipykernel)",
   "language": "python",
   "name": "python3"
  },
  "language_info": {
   "codemirror_mode": {
    "name": "ipython",
    "version": 3
   },
   "file_extension": ".py",
   "mimetype": "text/x-python",
   "name": "python",
   "nbconvert_exporter": "python",
   "pygments_lexer": "ipython3",
   "version": "3.9.12"
  }
 },
 "nbformat": 4,
 "nbformat_minor": 5
}
