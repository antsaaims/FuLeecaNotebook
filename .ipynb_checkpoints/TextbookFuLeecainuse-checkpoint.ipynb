{
 "cells": [
  {
   "cell_type": "markdown",
   "id": "23ccb4e1-6dee-43f2-a777-76887d655bed",
   "metadata": {},
   "source": [
    " # Textbook FuLeeca\n",
    "    \n",
    "   The python module generate a key pair and write then in textfiles. Then it loads the public key, format it so that it can be fed into the Pyomo model. Finally, use the modules to attack the intsance and we can see that we get a valid secret key."
   ]
  },
  {
   "cell_type": "code",
   "execution_count": 1,
   "id": "053ff4ee-69ff-4e45-97a9-03a557364742",
   "metadata": {},
   "outputs": [],
   "source": [
    "#!pip install pyomo\n",
    "#!pip install hsnf==0.3.13"
   ]
  },
  {
   "cell_type": "code",
   "execution_count": 4,
   "id": "f5368a4e-710c-4412-a9af-cdce32d13e27",
   "metadata": {},
   "outputs": [
    {
     "name": "stdout",
     "output_type": "stream",
     "text": [
      "Solver you already have\n",
      "['base', 'gurobi', 'highs']\n"
     ]
    }
   ],
   "source": [
    "import TextbookFuLeecaAttack\n",
    "from datetime import datetime\n",
    "import pandas as pd"
   ]
  },
  {
   "cell_type": "code",
   "execution_count": 6,
   "id": "ad30ca98-d5ba-49b9-8956-a54a1426f9ca",
   "metadata": {},
   "outputs": [],
   "source": [
    "attack = TextbookFuLeecaAttack.attack(option = \"quadratic\")"
   ]
  },
  {
   "cell_type": "code",
   "execution_count": 7,
   "id": "e5d3b407-4019-4a73-9a68-827e34641cae",
   "metadata": {},
   "outputs": [
    {
     "name": "stdout",
     "output_type": "stream",
     "text": [
      "Hello, I am the python class used to attack FuLeeca,\n",
      " I can be used to generate a key pair for FuLeeca,\n",
      " I also can load a public key from a file,\n",
      " I format the public key so that it can be used in Pyomo,\n",
      ", I use Pyomo to attack the FuLeeca cryptosystem and you got to choose which solver to use!\n"
     ]
    }
   ],
   "source": [
    "print(attack)"
   ]
  },
  {
   "cell_type": "markdown",
   "id": "10f4cb18-c6b8-49c8-8b71-28432ea29845",
   "metadata": {},
   "source": [
    "## Trying the attack on the smallest toy example"
   ]
  },
  {
   "cell_type": "code",
   "execution_count": 8,
   "id": "c45e3b9b-bec6-4241-b0df-08761599d03f",
   "metadata": {},
   "outputs": [
    {
     "name": "stdout",
     "output_type": "stream",
     "text": [
      "p is5\n",
      "halfn is 11\n",
      "Alice's a value: [1 2 2 0 1 1 0 1 2 1 0]\n",
      "Alice's b value: [0 2 1 2 0 1 1 1 2 1 0]\n",
      "Alice's T value: \n",
      "[[2 1 0 3 2 3 2 2 3 2 1]\n",
      " [1 2 1 0 3 2 3 2 2 3 2]\n",
      " [2 1 2 1 0 3 2 3 2 2 3]\n",
      " [3 2 1 2 1 0 3 2 3 2 2]\n",
      " [2 3 2 1 2 1 0 3 2 3 2]\n",
      " [2 2 3 2 1 2 1 0 3 2 3]\n",
      " [3 2 2 3 2 1 2 1 0 3 2]\n",
      " [2 3 2 2 3 2 1 2 1 0 3]\n",
      " [3 2 3 2 2 3 2 1 2 1 0]\n",
      " [0 3 2 3 2 2 3 2 1 2 1]\n",
      " [1 0 3 2 3 2 2 3 2 1 2]]\n",
      "This should be 1 if the sekret keys are valid\n",
      "1\n"
     ]
    }
   ],
   "source": [
    "attack.generate_key(level =0,verbose =True)"
   ]
  },
  {
   "cell_type": "code",
   "execution_count": 9,
   "id": "be14a97b-ced4-49af-8e5d-7126acd961ac",
   "metadata": {},
   "outputs": [],
   "source": [
    "T = attack.get_T('T.csv')"
   ]
  },
  {
   "cell_type": "code",
   "execution_count": 10,
   "id": "1e3a8562-135e-487c-af6d-2062cb68349f",
   "metadata": {},
   "outputs": [
    {
     "name": "stdout",
     "output_type": "stream",
     "text": [
      "Task done, see your file at toyexample.dat\n",
      "param level:=0; \n",
      "param p:= 5; \n",
      "param uba:= 2; \n",
      "param halfn:= 11; \n",
      "param: i:\n",
      "       Mset:=\n",
      "      1 0\n",
      "      2 0\n",
      "      3 0\n",
      "      4 1\n",
      "      5 1\n",
      "      6 2\n",
      "      7 2\n",
      "      8 2\n",
      "      9 1\n",
      "      10 1\n",
      "      11 1; \n",
      "param T:  1 2 3 4 5 6 7 8 9 10 11:=\n",
      "        1 2 1 0 3 2 3 2 2 3 2 1\n",
      "        2 1 2 1 0 3 2 3 2 2 3 2\n",
      "        3 2 1 2 1 0 3 2 3 2 2 3\n",
      "        4 3 2 1 2 1 0 3 2 3 2 2\n",
      "        5 2 3 2 1 2 1 0 3 2 3 2\n",
      "        6 2 2 3 2 1 2 1 0 3 2 3\n",
      "        7 3 2 2 3 2 1 2 1 0 3 2\n",
      "        8 2 3 2 2 3 2 1 2 1 0 3\n",
      "        9 3 2 3 2 2 3 2 1 2 1 0\n",
      "        10 0 3 2 3 2 2 3 2 1 2 1\n",
      "        11 1 0 3 2 3 2 2 3 2 1 2;\n"
     ]
    }
   ],
   "source": [
    "print(attack.T_to_dat(T, level = 0))"
   ]
  },
  {
   "cell_type": "code",
   "execution_count": 11,
   "id": "9cc702a8-622d-4520-ba88-ba68f049dca3",
   "metadata": {},
   "outputs": [
    {
     "name": "stdout",
     "output_type": "stream",
     "text": [
      "[    0.00] starting timer\n",
      "We just have built the instance, start solving stay tuned!\n",
      "Solver script file: '/local_scratch/pbs.1522709.pbs02/tmps2d0c6x8.gurobi.script'\n",
      "Solver log file: 'my.log'\n",
      "Solver solution file: '/local_scratch/pbs.1522709.pbs02/tmp7o7_siwd.gurobi.txt'\n",
      "Solver problem files: ('/local_scratch/pbs.1522709.pbs02/tmpr77fk4q1.pyomo.lp',)\n",
      "feasible\n",
      "44.0\n",
      "Verifying that indeed aT = b mod p \n",
      " This should be 1 if the sekret keys are valid:\n",
      "\n",
      "1\n",
      "[+   1.81] task 1\n",
      "elapsed time: 1.8 s\n",
      "Value of a[0, 1, 2, 2, 0, 1, 1, 0, 1, 2, 1]\n",
      "Value of b[0, 0, 2, 1, 2, 0, 1, 1, 1, 2, 1]\n",
      "Value of aT[0 0 2 1 2 0 1 1 1 2 1]\n"
     ]
    },
    {
     "data": {
      "text/plain": [
       "[1, 1.8073687441647053]"
      ]
     },
     "execution_count": 11,
     "metadata": {},
     "output_type": "execute_result"
    }
   ],
   "source": [
    "attack.forge_lin_sk(solvername = 'gurobi', ampl = False,verbose = True)"
   ]
  }
 ],
 "metadata": {
  "kernelspec": {
   "display_name": "Python 3 (ipykernel)",
   "language": "python",
   "name": "python3"
  },
  "language_info": {
   "codemirror_mode": {
    "name": "ipython",
    "version": 3
   },
   "file_extension": ".py",
   "mimetype": "text/x-python",
   "name": "python",
   "nbconvert_exporter": "python",
   "pygments_lexer": "ipython3",
   "version": "3.9.12"
  }
 },
 "nbformat": 4,
 "nbformat_minor": 5
}
