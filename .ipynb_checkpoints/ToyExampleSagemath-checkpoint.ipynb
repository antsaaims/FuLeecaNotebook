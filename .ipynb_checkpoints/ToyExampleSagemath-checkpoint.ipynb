{
 "cells": [
  {
   "cell_type": "markdown",
   "id": "6a5e4e5c-9e2b-4772-8665-a72ccd2f7ede",
   "metadata": {},
   "source": [
    "# Toy Example for FuLeeca presented at my thesis defense\n",
    "\n",
    "This is the code for the Toy example I presented in my thesis and is implemented in the website https://sites.google.com/view/antsafuleecatoyexample, you can download this notebook and run it with a Sagemath Kernel."
   ]
  },
  {
   "cell_type": "markdown",
   "id": "92e6716e-b12f-4ec6-a0a4-26624c158fc3",
   "metadata": {},
   "source": [
    "## Key Generation"
   ]
  },
  {
   "cell_type": "code",
   "execution_count": null,
   "id": "2be4b1f9-d849-449b-acb4-a413b915ae58",
   "metadata": {},
   "outputs": [],
   "source": [
    "import numpy as np\n",
    "import random\n",
    "from scipy.linalg import circulant\n",
    "from functools import reduce\n",
    "\n",
    "def poly_sample_from_typical_set(S):\n",
    "    '''Given S, generate a random permutation of the element in S'''\n",
    "    my_list = [1, 2, 3, 4, 5]\n",
    "    shuffled_list = np.array(sorted(S, key= lambda x: random.random()))\n",
    "    return(shuffled_list)\n",
    "\n",
    "@interact\n",
    " \n",
    "def _(p=5, n = 22, S=('S', input_grid(1, 11, default=[0, 0, 0, 1, 1, 2, 2, -2, -1,-1,-1], to_value=lambda x: vector(flatten(x)))) ):\n",
    "    halfn = n/2\n",
    "    GFp = GF(p)\n",
    "    b_orig = (poly_sample_from_typical_set(S))\n",
    "    stop = 0\n",
    "    #print('Randomly generating b from the Typical Lee Set. \\n We get b =')\n",
    "    P.<x> =  PolynomialRing(IntegerModRing(p))\n",
    "    b = sum([b_orig[i]*x**i for i in range(halfn)]) \n",
    "    \n",
    "    modulus =  x**halfn -1\n",
    "    while not stop:\n",
    "        a_orig =poly_sample_from_typical_set(S)\n",
    "       \n",
    "        a = sum([a_orig[i]*x**i for i in range(halfn)]) \n",
    "        tmp = a.quo_rem(modulus) \n",
    "        r=[a,modulus,tmp[1]]\n",
    "        q=[0,0,tmp[0]]\n",
    "        i=2 \n",
    "        # While we have yet to reach a zero remainder continue divisions tacking on the new\n",
    "        # quotient and remainder to our lists q and r.\n",
    "        while r[i] != 0:\n",
    "           i=i+1\n",
    "           tmp = r[i-2].quo_rem(r[i-1]) \n",
    "           q.append(tmp[0])\n",
    "           r.append(tmp[1])\n",
    "        lc = r[i-1].coefficients()[-1]   \n",
    "        A = 1\n",
    "        B = -q[i-1]\n",
    "        for j in reversed(range(2,i-1)):\n",
    "           tmp = B\n",
    "           B = A-q[j]*B\n",
    "           A = tmp\n",
    "        u = A/lc\n",
    "        g = r[i-1]/lc #The gcd\n",
    "        if g ==1:\n",
    "          stop =1\n",
    "    t = ((u*b).quo_rem(modulus))[1] #ub mod x^3-1\n",
    "    t_coef = t.list()\n",
    "    while len(t_coef)<halfn:\n",
    "        t_coef.append(0)  \n",
    "    to_print = 'Randomly generating $b$ from the Typical Lee Set gives: $'\n",
    "    to_print = to_print + str(latex(b_orig)) + '.$ '\n",
    "    to_print =  to_print + \" <br> In polynomial notation, this gives $b =\"\n",
    "    to_print = to_print + latex(b) + '.$ '\n",
    "    to_print = to_print +  ' <br> Randomly generating $a$ from the Typical Lee Set until A is invertible, we get: $'\n",
    "    to_print = to_print + str(latex(a_orig)) + '.$ '\n",
    "    to_print =  to_print + \" <br>In polynomial notation, this gives $a= \"\n",
    "    to_print = to_print + latex(a) + '.$ '\n",
    "    to_print = to_print+ \" <br> You can verify that the inverse polynomial of $a$ with respect to $x^{\" +str(halfn) +\"} -1$ is $u =\"\n",
    "    to_print = to_print + latex(u) + '.$ '\n",
    "    to_print = to_print + \" <br> Finally, the public key is given by $T = \"\n",
    "    to_print = to_print + latex(t_coef) + '.$ '\n",
    "    to_print =  to_print + \" <br> In polynomial notation, this gives $a= \"\n",
    "    to_print = to_print + latex(t) + '.$ '\n",
    "    A= matrix.circulant(a_orig)\n",
    "    B= matrix.circulant(b_orig)\n",
    "    T= matrix.circulant(t_coef)\n",
    "    to_print = to_print + \" <br> In matrix form, the secret matrices are $A =\" + latex(A) +\"$ and $B = \" + latex(B) +\"$\"\n",
    "    to_print = to_print + \"<br> The public matrix is $T = \" +latex(T)\n",
    "    pretty_print(html(to_print))\n",
    "    print(\"a = \" +str(list(a_orig)) + \", b = \"+ str(list(b_orig)))\n",
    "    print(\"t = \" +str(t_coef ))"
   ]
  },
  {
   "cell_type": "markdown",
   "id": "5d577b2a-5905-4e13-a8e1-87a8208524d2",
   "metadata": {},
   "source": [
    "## Simple signature"
   ]
  },
  {
   "cell_type": "code",
   "execution_count": 195,
   "id": "4d77e945-32e5-4b76-8204-da77c8d81701",
   "metadata": {
    "tags": []
   },
   "outputs": [],
   "source": [
    "<!DOCTYPE HTML>\n",
    "<html>\n",
    "  <head>\n",
    "    <meta charset=\"utf-8\">\n",
    "    <meta name=\"viewport\" content=\"width=device-width\">\n",
    "    <title>SageMathCell</title>\n",
    "    <script src=\"https://sagecell.sagemath.org/static/embedded_sagecell.js\"></script>\n",
    "    <script>\n",
    "    // Make the div with id 'mycell' a Sage cell\n",
    "    sagecell.makeSagecell({inputLocation:  '#mycell',\n",
    "                           template:       sagecell.templates.minimal,\n",
    "                           evalButtonText: 'Activate'});\n",
    "    // Make *any* div with class 'compute' a Sage cell\n",
    "    sagecell.makeSagecell({inputLocation: 'div.compute',\n",
    "                           evalButtonText: 'Evaluate'});\n",
    "    </script>\n",
    "  </head>\n",
    "  <body>\n",
    " \n",
    "  <h2>Signature generation (Alice's point of view)</h2>\n",
    "  For our toy example, we use $p = 5, n=22$ and $S=  [0, 0, 0, 1, 1, 2, 2,-2, -1, -1, -1]  $ and target sign match $s = 8$. You can change those values of course! \n",
    "\n",
    "  Click the “Activate” button below to generate a signature for your message using your secret key.\n",
    "    <div id=\"mycell\"><script type=\"text/x-sage\">\n",
    "import numpy as np\n",
    "from scipy.linalg import circulant\n",
    "from math import floor\n",
    "def simple_FuLeeca_sign(my_message,a = [ 0 , 0 , 2, -1,  1 , 2 ,-2, -1, -1,  0,  1], b =  [ 1 , 0 ,-1  ,0 ,-1 ,-2  ,0  ,1 , 2 ,-1  ,2], p=5,n = 22,sm = 8,s = 1,salt_length = 2):\n",
    "    halfn = n//2\n",
    "    print(\"Our message is\")\n",
    "    print(my_message)\n",
    "    # Use hash function on SageMath\n",
    "\n",
    "    print(\"We are creating the simple signature corresponding to this message using FuLeeca\")\n",
    "    import hashlib\n",
    "    # a string to be hashed\n",
    "    # Convert the string to bytes\n",
    "    bytes_string = my_message.encode()\n",
    "    # Use the SHA256 hash function\n",
    "    hashed_string = hashlib.sha256(bytes_string).hexdigest()\n",
    "    k = int(hashed_string,base=16)\n",
    "    # Print the hashed string\n",
    "    print(\"The hash value using sha256 is\")\n",
    "    print(k)\n",
    "    print(\"Randomly generating a salt vector of length \" + str(salt_length))\n",
    "    # Import the random module\n",
    "    import random\n",
    "    stop = 0\n",
    "    while not stop:\n",
    "        # Generate a random salt number of 2 digits\n",
    "        salt = random.randint(10, 99)\n",
    "        # Print the salt number\n",
    "        print(\"The generated salt number is:\")\n",
    "        print(salt)\n",
    "        # String inputs\n",
    "        # Convert strings to integers\n",
    "\n",
    "\n",
    "        # Concatenate the integers\n",
    "        result = k* 10**salt_length + salt\n",
    "\n",
    "        # Print the result\n",
    "        print(\"Concatenated the hash value and the salt:\")\n",
    "        print(result)\n",
    "        # Import the required library\n",
    "        from random import seed, choice\n",
    "        # Set the seed\n",
    "        seed(result)\n",
    "        print(\"Input the m'|salt as a seed to a \")\n",
    "\n",
    "        # Generate a string of length 11 with entries in {-1, 1}\n",
    "        string = [int(choice([-1, 1])) for _ in range(n)]\n",
    "        # Print the generated string\n",
    "        print(\"Generated string:\")\n",
    "        print(string)\n",
    "        print(\"Generating a codeword of C by adding or substracting rows of G until we have s sign matches\")\n",
    "        #print(\"Start with a 0 vector\")\n",
    "        x =  np.zeros(halfn)\n",
    "        print(\"We are going to add the rows of Gsec = \")\n",
    "        A = (circulant([x  for x in a]).transpose())\n",
    "        \n",
    "        B = (circulant([x  for x in b]).transpose())\n",
    "        Gsec = np.hstack((A,B))\n",
    "        print(Gsec)\n",
    "        # Function to compute Lee weight of a\n",
    "        def hamming_weight(vector):\n",
    "            count = 0  # Initialize count variable\n",
    "\n",
    "            for num in vector:\n",
    "                if num!=0:  # Count the number of 1s in the vector\n",
    "                    count += 1    \n",
    "            return count\n",
    "        def sign_match(vec1, vec2):\n",
    "            '''Given two vectors, how many elements have matching sign'''\n",
    "            count = 0 \n",
    "            for i in range(len(vec1)):\n",
    "                if int(vec1[i])*int(vec2[i])>0:\n",
    "                    count+= 1\n",
    "            return(count)\n",
    "\n",
    "        for i in range(halfn):\n",
    "            xmt = sign_match(Gsec[i], string) - hamming_weight(Gsec[i])/2\n",
    "            x[i] = floor(xmt*s)\n",
    "        v = np.matmul(x, Gsec)%p\n",
    "        for i in range(len(v)):\n",
    "            v[i] = v[i]%p\n",
    "            if v[i] >(p-1)/2:\n",
    "                v[i] = v[i] - p\n",
    "        print(\"After computing the codeword\")\n",
    "        print(v)\n",
    "        print(\"number of sign match with c\")\n",
    "        sngmt = sign_match(v,string)\n",
    "        print(sngmt)\n",
    "        if sngmt>= sm:\n",
    "            stop = 1\n",
    "            print(\"We have enough sign match\")\n",
    "        else:\n",
    "            print(\"Not enough sign match, generate a new salt\")\n",
    "    print(\"We return the signature\")\n",
    "    print([salt, v[:halfn]])\n",
    "    print(\"For the messagee\")\n",
    "    print(my_message)\n",
    "    return([salt, list(v[:halfn])])\n",
    "@interact\n",
    "def _(p=5, n = 22, \n",
    "      a=('a', input_grid(1, 11, default= [ 0 , 0 , 2, -1,  1 , 2 ,-2, -1, -1,  0,  1], to_value=lambda x: vector(flatten(x)))) ,\n",
    "     b=('b', input_grid(1, 11, default=  [ 1 , 0 ,-1  ,0 ,-1 ,-2  ,0  ,1 , 2 ,-1  ,2], to_value=lambda x: vector(flatten(x)))) ,\n",
    "      sm = 8,s = 1,salt_length = 2,\n",
    "     message = 'Hey, I am Alice, I wrote this line'):\n",
    "    print(simple_FuLeeca_sign(my_message= message,a =a , b=b , p=p ,n=n  ,sm=sm ,s=s ,salt_length=salt_length))\n",
    "  \n",
    "</script></div>\n",
    "  </body>\n",
    "</html>"
   ]
  },
  {
   "cell_type": "code",
   "execution_count": 196,
   "id": "aa68b0ce-9a9d-4fe9-bac2-2fa519f3e9bd",
   "metadata": {
    "tags": []
   },
   "outputs": [
    {
     "name": "stdout",
     "output_type": "stream",
     "text": [
      "Our message is\n",
      "Hey, I am Alice, I wrote this line\n",
      "We are creating the simple signature corresponding to this message using FuLeeca\n",
      "The hash value using sha256 is\n",
      "57260036028945012603506028759542551320775545404206176303977846359572810668696\n",
      "Randomly generating a salt vector of length 2\n",
      "The generated salt number is:\n",
      "96\n",
      "Concatenated the hash value and the salt:\n",
      "5726003602894501260350602875954255132077554540420617630397784635957281066869696\n",
      "Input the m'|salt as a seed to a \n",
      "Generated string:\n",
      "[1, 1, 1, -1, 1, 1, -1, 1, 1, -1, 1, 1, 1, -1, -1, -1, -1, -1, -1, 1, -1, -1]\n",
      "Generating a codeword of C by adding or substracting rows of G until we have s sign matches\n",
      "We are going to add the rows of Gsec = \n",
      "[[ 0  0  2 -1  1  2 -2 -1 -1  0  1  1  0 -1  0 -1 -2  0  1  2 -1  2]\n",
      " [ 1  0  0  2 -1  1  2 -2 -1 -1  0  2  1  0 -1  0 -1 -2  0  1  2 -1]\n",
      " [ 0  1  0  0  2 -1  1  2 -2 -1 -1 -1  2  1  0 -1  0 -1 -2  0  1  2]\n",
      " [-1  0  1  0  0  2 -1  1  2 -2 -1  2 -1  2  1  0 -1  0 -1 -2  0  1]\n",
      " [-1 -1  0  1  0  0  2 -1  1  2 -2  1  2 -1  2  1  0 -1  0 -1 -2  0]\n",
      " [-2 -1 -1  0  1  0  0  2 -1  1  2  0  1  2 -1  2  1  0 -1  0 -1 -2]\n",
      " [ 2 -2 -1 -1  0  1  0  0  2 -1  1 -2  0  1  2 -1  2  1  0 -1  0 -1]\n",
      " [ 1  2 -2 -1 -1  0  1  0  0  2 -1 -1 -2  0  1  2 -1  2  1  0 -1  0]\n",
      " [-1  1  2 -2 -1 -1  0  1  0  0  2  0 -1 -2  0  1  2 -1  2  1  0 -1]\n",
      " [ 2 -1  1  2 -2 -1 -1  0  1  0  0 -1  0 -1 -2  0  1  2 -1  2  1  0]\n",
      " [ 0  2 -1  1  2 -2 -1 -1  0  1  0  0 -1  0 -1 -2  0  1  2 -1  2  1]]\n",
      "After computing the codeword\n",
      "[-1.  1.  0.  1. -2.  2.  1. -1. -1. -2.  2.  1.  0. -2.  0.  0. -1. -2.\n",
      "  1. -1.  1. -2.]\n",
      "number of sign match with c\n",
      "9\n",
      "We have enough sign match\n",
      "We return the signature\n",
      "[96, array([-1.,  1.,  0.,  1., -2.,  2.,  1., -1., -1., -2.,  2.])]\n",
      "For the messagee\n",
      "Hey, I am Alice, I wrote this line\n"
     ]
    },
    {
     "data": {
      "text/plain": [
       "[96, array([-1.,  1.,  0.,  1., -2.,  2.,  1., -1., -1., -2.,  2.])]"
      ]
     },
     "execution_count": 196,
     "metadata": {},
     "output_type": "execute_result"
    }
   ],
   "source": [
    "simple_FuLeeca_sign(\"Hey, I am Alice, I wrote this line\")"
   ]
  },
  {
   "cell_type": "markdown",
   "id": "063b9d91-95f5-4f94-840a-7eef1f3ae82a",
   "metadata": {
    "tags": []
   },
   "source": [
    "## Verification of signature"
   ]
  },
  {
   "cell_type": "code",
   "execution_count": 202,
   "id": "8926bb1d-d63f-4bd5-a5fb-5f035a06b5c7",
   "metadata": {
    "tags": []
   },
   "outputs": [],
   "source": [
    "import numpy as np\n",
    "from scipy.linalg import circulant\n",
    "from math import floor\n",
    "def verify_FuLeeca_sign(my_message, salt, y, t = [4, 1, 1, 3, 0, 0, 3, 0, 2, 2,0]  ,p = 5,n = 22,sm = 8,s = 1,salt_length  =2):\n",
    "    signature = [salt,y]\n",
    "    halfn = n//2\n",
    "    print(\"Our message is\")\n",
    "    print(my_message)\n",
    "    # Use hash function on SageMath\n",
    "    print(\"We are reconstracting the target sign using the salt and the message\")\n",
    "    import hashlib\n",
    "    # a string to be hashed\n",
    "    # Convert the string to bytes\n",
    "    bytes_string = my_message.encode()\n",
    "    # Use the SHA256 hash function\n",
    "    hashed_string = hashlib.sha256(bytes_string).hexdigest()\n",
    "    k = int(hashed_string,base=16)\n",
    "    # Print the hashed string\n",
    "    print(\"The hash value using sha256 is\")\n",
    "    print(k)\n",
    "    salt = signature[0]\n",
    "    # Print the salt number\n",
    "    print(\"The salt number from the signature is:\")\n",
    "    print(salt)\n",
    "    # String inputs\n",
    "    result = k* 10**salt_length + salt\n",
    "    # Print the result\n",
    "    print(\"Concatenated the hash value and the salt:\")\n",
    "    print(result)\n",
    "    # Import the required library\n",
    "    from random import seed, choice\n",
    "    # Set the seed\n",
    "    seed(result)\n",
    "    print(\"Input the m'|salt as a seed to a \")\n",
    "    # Generate a string of length 11 with entries in {-1, 1}\n",
    "    string = [int(choice([-1, 1])) for _ in range(n)]\n",
    "    # Print the generated string\n",
    "    print(\"Generated string:\")\n",
    "    print(string)\n",
    "    print(\"Reconstructing the codeword by multiplying writing v = y|yT\")\n",
    "    T = (circulant([x  for x in t]).transpose())\n",
    "    \n",
    "    v =  np.hstack((np.array(y), np.matmul(np.array(y),T)))\n",
    "    print(\"v = \" +str(v))\n",
    "    for i in range(len(v)):\n",
    "        v[i] = v[i]%p\n",
    "        if v[i] >(p-1)/2:\n",
    "            v[i] = v[i] - p\n",
    "    \n",
    "    \n",
    "    def sign_match(vec1, vec2):\n",
    "        '''Given two vectors, how many elements have matching sign'''\n",
    "        count = 0 \n",
    "        for i in range(len(vec1)):\n",
    "            if int(vec1[i])*int(vec2[i])>0:\n",
    "                count+= 1\n",
    "        return(count)\n",
    "\n",
    "     \n",
    "    print(\"After computing the codeword\")\n",
    "    print(v)\n",
    "    print(\"number of sign match with c\")\n",
    "    sngmt = sign_match(v,string)\n",
    "    print(sngmt)\n",
    "    if sngmt>= sm:\n",
    "        verdict = 1\n",
    "        print(\"We have enough sign match, valid signature\")\n",
    "    else:\n",
    "        print(\"Not enough sign match,invalid signature\")  \n",
    "        verdict = 0   \n",
    "    return(verdict)\n",
    "\n",
    "@interact\n",
    "def _(message ='Hey, I am Alice, I wrote this line', \n",
    "salt = 9 ,  y=('y', input_grid(1, 11, default=  [-1,  1,  0,  1, -2,  2,  1, -1, -1, -2,  2] , to_value=lambda x: vector(flatten(x)))) ,\n",
    "p=5, n = 22, t=('t', input_grid(1, 11, default=  [4, 1, 1, 3, 0, 0, 3, 0, 2, 2,0] , to_value=lambda x: vector(flatten(x)))) ,\n",
    "      sm = 8,s = 1,salt_length = 2):\n",
    "    print(verify_FuLeeca_sign(my_message=message, salt=salt, y=y, t = t  ,p = p,n = n,sm =sm,s = s, salt_length = salt_length))"
   ]
  },
  {
   "cell_type": "code",
   "execution_count": 203,
   "id": "e6821513-2654-41ef-88a2-26754926d34d",
   "metadata": {
    "tags": []
   },
   "outputs": [],
   "source": [
    "message  = 'Hey, I am Alice, I wrote this line'\n",
    "salt = 9 \n",
    "y  = [-1,  1,  0,  1, -2,  2,  1, -1, -1, -2,  2]"
   ]
  },
  {
   "cell_type": "code",
   "execution_count": 204,
   "id": "64481d00-5328-4d42-bfc5-9eaa351d1f63",
   "metadata": {},
   "outputs": [
    {
     "name": "stdout",
     "output_type": "stream",
     "text": [
      "Our message is\n",
      "Hey, I am Alice, I wrote this line\n",
      "We are reconstracting the target sign using the salt and the message\n",
      "The hash value using sha256 is\n",
      "57260036028945012603506028759542551320775545404206176303977846359572810668696\n",
      "The salt number from the signature is:\n",
      "9\n",
      "Concatenated the hash value and the salt:\n",
      "5726003602894501260350602875954255132077554540420617630397784635957281066869609\n",
      "Input the m'|salt as a seed to a \n",
      "Generated string:\n",
      "[-1, -1, -1, -1, -1, -1, 1, -1, -1, 1, 1, 1, -1, 1, -1, -1, -1, 1, -1, 1, 1, -1]\n",
      "Reconstructing the codeword by multiplying writing v = y|yT\n",
      "v = [ -1.   1.   0.   1.  -2.   2.   1.  -1.  -1.  -2.   2.   1.   0.   3.\n",
      "   5. -10.   9.  -2.  -4.   4.  -4.  -2.]\n",
      "After computing the codeword\n",
      "[-1.  1.  0.  1. -2.  2.  1. -1. -1. -2.  2.  1.  0. -2.  0.  0. -1. -2.\n",
      "  1. -1.  1. -2.]\n",
      "number of sign match with c\n",
      "10\n",
      "We have enough sign match, valid signature\n"
     ]
    },
    {
     "data": {
      "text/plain": [
       "1"
      ]
     },
     "execution_count": 204,
     "metadata": {},
     "output_type": "execute_result"
    }
   ],
   "source": [
    "verify_FuLeeca_sign(my_message, salt, y )"
   ]
  },
  {
   "cell_type": "code",
   "execution_count": null,
   "id": "121a20a2-4f78-4099-9a0a-b8e9e335a6ef",
   "metadata": {
    "tags": []
   },
   "outputs": [],
   "source": [
    "[1, 1, 1, -1, 1, 1, -1, 1, 1, -1, 1, 1, 1, -1, -1, -1, -1, -1, -1, 1, -1, -1]"
   ]
  },
  {
   "cell_type": "code",
   "execution_count": null,
   "id": "77ddc460-36db-4507-8403-a071fc13dd80",
   "metadata": {},
   "outputs": [],
   "source": [
    "After computing the codeword\n",
    "[-1. -2.  0. -2.  1. -1.  1.  0.  2.  1.  1. -2.  2. -1. -2.  0. -2. -1.\n",
    " -2.  2.  2. -1.]\n",
    "number of sign match with c\n",
    "12\n",
    "We have enough sign match\n",
    "We return the signature\n",
    "[96, array([-1., -2.,  0., -2.,  1., -1.,  1.,  0.,  2.,  1.,  1.])]\n",
    "For the messagee\n",
    "Hey, I am Alice, I wrote this line"
   ]
  },
  {
   "cell_type": "code",
   "execution_count": 167,
   "id": "1f923104-e612-4962-b070-ef3a3b1be075",
   "metadata": {
    "tags": []
   },
   "outputs": [],
   "source": [
    "GF = galois.GF(p)"
   ]
  },
  {
   "cell_type": "code",
   "execution_count": 176,
   "id": "0bb1b11b-8915-4722-8ca9-b4df8a6de96c",
   "metadata": {
    "tags": []
   },
   "outputs": [],
   "source": [
    "a = [ 0 , 0 , 2, -1,  1 , 2 ,-2, -1, -1,  0,  1]\n",
    "b = [ 1 , 0 ,-1  ,0 ,-1 ,-2  ,0  ,1 , 2 ,-1  ,2]\n",
    "t = [4, 1, 1, 3, 0, 0, 3, 0, 2, 2,0] "
   ]
  },
  {
   "cell_type": "code",
   "execution_count": 177,
   "id": "15f18b29-38b4-4799-a4fc-3cebd9ed01ff",
   "metadata": {
    "tags": []
   },
   "outputs": [],
   "source": [
    "\n",
    "A_orig = GF(circulant([x%p for x in a]).transpose())\n",
    "B_orig = GF(circulant([x%p for x in b]).transpose())\n",
    "T_orig = GF(circulant([x%p for x in t]).transpose())"
   ]
  },
  {
   "cell_type": "code",
   "execution_count": 192,
   "id": "8426bbaf-d3f7-4f11-bdaf-e7eee0a1f7bb",
   "metadata": {
    "tags": []
   },
   "outputs": [
    {
     "data": {
      "text/plain": [
       "GF([2, 1, 0, 3, 1, 2, 1, 1, 1, 2, 1], order=5)"
      ]
     },
     "execution_count": 192,
     "metadata": {},
     "output_type": "execute_result"
    }
   ],
   "source": [
    "np.matmul(GF(np.array([-1, -2,  0, -2,  1, -1,  1,  0,  2,  1,  1])%5), T_orig) "
   ]
  },
  {
   "cell_type": "code",
   "execution_count": null,
   "id": "9bb66036-1b5a-4f89-876c-7cfe4e91903b",
   "metadata": {},
   "outputs": [],
   "source": [
    "[-1. -2.  0. -2.  1. -1.  1.  0.  2.  1.  1. \n",
    " -2.  2. -1. -2.  0. -2. -1.\n",
    " -2.  2.  2. -1.]"
   ]
  }
 ],
 "metadata": {
  "kernelspec": {
   "display_name": "Python 3 (ipykernel)",
   "language": "python",
   "name": "python3"
  },
  "language_info": {
   "codemirror_mode": {
    "name": "ipython",
    "version": 3
   },
   "file_extension": ".py",
   "mimetype": "text/x-python",
   "name": "python",
   "nbconvert_exporter": "python",
   "pygments_lexer": "ipython3",
   "version": "3.7.9"
  }
 },
 "nbformat": 4,
 "nbformat_minor": 5
}
