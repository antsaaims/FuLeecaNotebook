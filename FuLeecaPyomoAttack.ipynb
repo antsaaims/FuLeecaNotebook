{
 "cells": [
  {
   "cell_type": "markdown",
   "id": "61101cf7-01b4-476c-a148-685b41fcb69b",
   "metadata": {},
   "source": [
    "# FuLeeca Attack modeling using Pyomo\n",
    "\n",
    "In this notebook, we are modelling the FuLeeca attack in Pyomo so that we will be able to use different solvers instead of just Gurobi.\n",
    "\n",
    "Solver that did give a forgesk for toyexample.\n",
    "\n",
    "- Highs 8.5 s\n",
    "- Gurobi (needs actual licence)\n",
    "- Couenne 4838.0 s (maybe we should not use this)\n",
    "\n",
    "\n",
    "Solvers that did give error\n",
    "\n",
    "- ipopt: max iter problem\n",
    "- cbc could not run the toy example after 1 hour\n",
    "- amplgsl does not woork\n",
    "- baron does not work \n",
    "- base does not work\n",
    "- conopt did not give correct output\n",
    "- copt did not work\n",
    "-  'ilogcp' it ios for scheduling so do not use it\n",
    "- cplex did not give an output\n",
    "- gcg took too long\n",
    "- gecode: not for continuous variable\n"
   ]
  },
  {
   "cell_type": "code",
   "execution_count": 1,
   "id": "bfe86d20",
   "metadata": {},
   "outputs": [],
   "source": [
    "import warnings\n",
    "warnings.filterwarnings(\"ignore\")"
   ]
  },
  {
   "cell_type": "code",
   "execution_count": null,
   "id": "59099a70-6ab6-41b4-a0c3-3f7db7df9758",
   "metadata": {},
   "outputs": [],
   "source": [
    "# #Loading the libraries to be used \n",
    "# from pyomo.environ import *\n",
    "# import matplotlib.pyplot as plt\n",
    "# import random \n",
    "# import numpy as np\n",
    "# import pandas as pd\n",
    "# from pyomo.common.timing import TicTocTimer\n",
    "# from amplpy import modules\n",
    "# from pyomo.opt import SolverFactory\n",
    "\n",
    "# model = AbstractModel()\n",
    "# model.level = Param()\n",
    "# model.halfn = Param()\n",
    "# model.p = Param()\n",
    "# model.uba = Param() #upper bound of a     \n",
    "# model.i = Set()\n",
    "# model.j = RangeSet(1, model.halfn)\n",
    "# model.T = Param(model.i,model.j, within=Reals)\n",
    "# model.Mset = Param(model.i, within=Reals)\n",
    "\n",
    "# def initval(model,i):\n",
    "#     return random.randint(-model.uba,model.uba) #initialization of the variable\n",
    "# def init0(model,i):\n",
    "#     return(0)\n",
    "# def init1(model,i,j):\n",
    "#     return(0)\n",
    "# model.a = Var(model.i, bounds=(-model.uba,model.uba), within= Reals, initialize=initval)\n",
    "# model.b = Var(model.i, bounds=(-model.uba,model.uba) , within= Reals, initialize=initval)\n",
    "# model.q = Var(model.i, within=Integers,initialize=init0)\n",
    "# model.Pa = Var(model.i,model.j,  bounds=(-1,1), within=Integers,initialize=init1) \n",
    "# model.Pb = Var(model.i,model.j,  bounds=(-1,1), within=Integers,initialize=init1) \n",
    "\n",
    "# def rule_baT(model,i):\n",
    "#         return(np.sum([model.a[j]*model.T[j,i] for j in model.j ]) == model.q[i]*model.p + model.b[i])#b =aT    \n",
    "# model.C1   = Constraint(model.i,rule=rule_baT)\n",
    "\n",
    "# def rule_a(model,i):\n",
    "#     return(sum([model.Mset[j]*model.Pa[j,i] for j in model.j]) == model.a[i])#building a\n",
    "# model.Ca = Constraint(model.i, rule = rule_a)\n",
    "# def rule_b(model,i):\n",
    "#     return(sum([model.Mset[j]*model.Pb[j,i] for j in model.j]) == model.b[i])#building a\n",
    "# model.Cb = Constraint(model.i, rule = rule_b)\n",
    "\n",
    "# def rule_cPa(model,i):\n",
    "#     return((sum([(model.Pa[j,i])**2  for j in model.j]))==1)#each column exactly one nonzero elements  \n",
    "# model.cPa = Constraint(model.i, rule = rule_cPa)\n",
    "# def rule_cPb(model,i):\n",
    "#     return((sum([(model.Pb[j,i])**2 for j in model.j])) ==1)#each column has exactly one nonzero elements  \n",
    "# model.cPb = Constraint(model.i, rule = rule_cPb)\n",
    "# def rule_rPa(model,i):\n",
    "#     return((sum([(model.Pa[i,j])**2 for j in model.j])) ==1)#each row exactly one nonzero elements  \n",
    "# model.rPa = Constraint(model.i, rule = rule_rPa)\n",
    "# def rule_rPb(model,i):\n",
    "#     return((sum([(model.Pb[i,j])**2 for j in model.j])) ==1)#each row has exactly one nonzero elements  \n",
    "# model.rPb = Constraint(model.i, rule = rule_rPb)\n",
    "\n",
    "# def rule_OF(model):\n",
    "#     return sum(model.q[i] for i in model.i)\n",
    "\n",
    "# model.obj = Objective(rule=rule_OF, sense=maximize)\n",
    "# #opt.options['max_iter'] = 100000\n",
    "\n",
    "# #['bonmin', 'cbc', 'conopt', 'couenne', 'cplex', 'filmint', 'filter', 'ipopt', 'knitro', 'l-bfgs-b', \n",
    "# #'lancelot', 'lgo', 'loqo', 'minlp', 'minos', 'minto', 'mosek', 'octeract', 'ooqp', 'path', 'raposa', 'snopt']"
   ]
  },
  {
   "cell_type": "code",
   "execution_count": null,
   "id": "f6c0106a",
   "metadata": {},
   "outputs": [],
   "source": [
    "print(modules.installed())"
   ]
  },
  {
   "cell_type": "code",
   "execution_count": null,
   "id": "aa0b02d4",
   "metadata": {},
   "outputs": [],
   "source": [
    "print(modules.find('highs'))"
   ]
  },
  {
   "cell_type": "code",
   "execution_count": null,
   "id": "31dfdd42",
   "metadata": {},
   "outputs": [],
   "source": [
    "modules.install('gurobi')"
   ]
  },
  {
   "cell_type": "code",
   "execution_count": null,
   "id": "f04f65a5-f7ac-4814-8f70-d4658000b27b",
   "metadata": {
    "tags": []
   },
   "outputs": [],
   "source": [
    "# def forge_sk(filename = \"toyexample.dat\", store_at = \"forgedsk.txt\", solvername = 'highs',verbose = False):\n",
    "#     opt = SolverFactory(modules.find(solvername), solve_io=\"nl\") #Couenne was good, ipopt did not give a result(always max iteration)\n",
    "#     timer = TicTocTimer()\n",
    "#     timer.tic('starting timer')\n",
    "#     instance = model.create_instance(filename)\n",
    "#     print('We just have built the instance, start solving stay tuned!')\n",
    "#     results = opt.solve(instance,keepfiles=True, logfile=\"my.log\")\n",
    "\n",
    "    \n",
    "#     if (results.solver.status == SolverStatus.ok) and (results.solver.termination_condition == TerminationCondition.optimal):\n",
    "#         print('feasible')\n",
    "#     elif (results.solver.termination_condition == TerminationCondition.infeasible):\n",
    "#         print('infeasible')\n",
    "#     else:\n",
    "#         print ('Solver Status:',  results.solver.status)\n",
    "#     print(value(instance.obj))\n",
    "#     a = [int(round(instance.a[i].value,0)) for i in instance.i]\n",
    "#     b = [int(round(instance.b[i].value,0)) for i in instance.i]\n",
    "#     sk = a+b\n",
    "#     T = [[instance.T[i,j] for j in instance.j] for i in instance.i]\n",
    "#     p = instance.p.value\n",
    "#     print('Verifying that indeed aT = b mod p \\n This should be 1 if the sekret keys are valid:\\n')\n",
    "#     isokay = prod(np.dot(a,T) %p == np.array(b)%p)\n",
    "#     print(isokay)\n",
    "#     #Write a and b in a file \n",
    "#     np.savetxt(store_at, sk, fmt=\"%d\", delimiter=\",\")\n",
    "#     dT = timer.toc('task 1')\n",
    "#     print(\"elapsed time: %0.1f s\" % dT)\n",
    "#     if verbose:\n",
    "#         print('Value of a' + str(a))\n",
    "#         print('Value of b' + str(b))\n",
    "#     return([isokay,dT])"
   ]
  },
  {
   "cell_type": "code",
   "execution_count": null,
   "id": "55bd7234-bc91-46f1-9204-8f0b4610fd8a",
   "metadata": {
    "tags": []
   },
   "outputs": [],
   "source": [
    "# forge_sk(solvername='gurobi')"
   ]
  },
  {
   "cell_type": "code",
   "execution_count": null,
   "id": "bd7a342f-e007-4427-9fd7-d4334b3bbe8a",
   "metadata": {
    "tags": []
   },
   "outputs": [],
   "source": [
    "#level 1 \n",
    "#forge_sk(filename = \"level1example.dat\", store_at = \"forgedlevel1sk.txt\", verbose = False)"
   ]
  },
  {
   "cell_type": "code",
   "execution_count": null,
   "id": "a95c9459-118f-4962-894a-ef26f27ef13b",
   "metadata": {},
   "outputs": [],
   "source": [
    "#Toyexample with Highs\n",
    "#forge_sk(filename = \"toyexample.dat\", store_at = \"toyhighssk.txt\", verbose = False)"
   ]
  },
  {
   "cell_type": "code",
   "execution_count": null,
   "id": "6ca7fc73",
   "metadata": {},
   "outputs": [],
   "source": [
    "listsolver = ['highs']"
   ]
  },
  {
   "cell_type": "code",
   "execution_count": null,
   "id": "d2dc779d-a393-41c2-80f6-a710e1e72931",
   "metadata": {},
   "outputs": [],
   "source": [
    "# usedtime = []\n",
    "# for solver in listsolver:\n",
    "#     print(\"forging the toyexample using \" +solver)\n",
    "#     try:\n",
    "#         usedtime.append([solver]+\n",
    "#                         forge_sk(filename = \"toyexample.dat\",\n",
    "#                                  store_at = \"toyhighs\"+solver+\"sk.txt\",\n",
    "#                                  solvername = solver, \n",
    "#                                  verbose = False))\n",
    "#     except:\n",
    "#         continue"
   ]
  },
  {
   "cell_type": "code",
   "execution_count": null,
   "id": "f986872b",
   "metadata": {},
   "outputs": [],
   "source": [
    "usedtime"
   ]
  },
  {
   "cell_type": "markdown",
   "id": "871aab7f",
   "metadata": {},
   "source": [
    "## Attack idea #2\n",
    "\n",
    "This is another mathematically equivalent formulation of the previous model. We are going to see how fast it is comparatively to the previous model.\n",
    "\n",
    "This is a linear model. Basically instead of using a = Pa Mset, we split a into a+ and a-. We will have mroe variables, and more constraints but will have all linear equations. We hope being able to solve this using Gurobi.\n",
    "\n"
   ]
  },
  {
   "cell_type": "code",
   "execution_count": 2,
   "id": "3a6950d0",
   "metadata": {},
   "outputs": [],
   "source": [
    "#Loading the libraries to be used \n",
    "from pyomo.environ import *\n",
    "import matplotlib.pyplot as plt\n",
    "import random \n",
    "import numpy as np\n",
    "import pandas as pd\n",
    "from pyomo.common.timing import TicTocTimer\n",
    "from amplpy import modules\n",
    "\n",
    "model = AbstractModel()\n",
    "model.level = Param()\n",
    "model.halfn = Param()\n",
    "model.p = Param()\n",
    "model.uba = Param() #upper bound of a     \n",
    "model.i = Set()\n",
    "model.j = RangeSet(1, model.halfn)\n",
    "model.T = Param(model.i,model.j, within=Reals)\n",
    "model.Mset = Param(model.i, within=Reals)\n",
    "\n",
    "def initval(model,i):\n",
    "    return random.randint(-model.uba,model.uba) #initialization of the variable\n",
    "def init0(model,i):\n",
    "    return(0)\n",
    "def init1(model,i,j):\n",
    "    return(0)\n",
    "model.a = Var(model.i, bounds=(-model.uba,model.uba), within= Reals, initialize=init0)\n",
    "model.ap = Var(model.i, bounds=(0,model.uba), within= Reals, initialize=init0)\n",
    "model.am = Var(model.i, bounds=(-model.uba,0), within= Reals, initialize=init0) # am\n",
    "model.b = Var(model.i, bounds=(-model.uba,model.uba) , within= Reals, initialize=init0)\n",
    "model.bp = Var(model.i, bounds=(0,model.uba) , within= Reals, initialize=init0)\n",
    "model.bm = Var(model.i, bounds=(-model.uba,0) , within= Reals, initialize=init0)\n",
    "model.q = Var(model.i, within=Integers,initialize=init0)\n",
    "model.Pap = Var(model.i,model.j,  bounds=(0,1), within=Integers,initialize=init1) \n",
    "model.Pbp = Var(model.i,model.j,  bounds=(0,1), within=Integers,initialize=init1) \n",
    "model.Pam = Var(model.i,model.j,  bounds=(0,1), within=Integers,initialize=init1) \n",
    "model.Pbm = Var(model.i,model.j,  bounds=(0,1), within=Integers,initialize=init1) \n",
    "\n",
    "def rule_baT(model,i): #b =aT\n",
    "        return(np.sum([model.a[j]*model.T[j,i] for j in model.j ]) == model.q[i]*model.p + model.b[i])#b =aT    \n",
    "model.C1   = Constraint(model.i,rule=rule_baT)\n",
    "\n",
    "def rule_am(model,i): #am = -Mset*Pam\n",
    "    return(sum([-model.Mset[j]*model.Pam[j,i] for j in model.j]) == model.am[i])#building a\n",
    "model.Cam = Constraint(model.i, rule = rule_am)\n",
    "def rule_ap(model,i): #ap = Mset*Pap\n",
    "    return(sum([model.Mset[j]*model.Pap[j,i] for j in model.j]) == model.ap[i])#building a\n",
    "model.Cap = Constraint(model.i, rule = rule_ap)\n",
    "\n",
    "def rule_sum_a(model,i): #ap = Mset*Pap\n",
    "    return(model.am[i]+ model.ap[i]== model.a[i])#building a\n",
    "model.sum_a = Constraint(model.i, rule = rule_sum_a)\n",
    "\n",
    "def rule_bm(model,i): #am = -Mset*Pam\n",
    "    return(sum([-model.Mset[j]*model.Pbm[j,i] for j in model.j]) == model.bm[i])#building a\n",
    "model.Cbm = Constraint(model.i, rule = rule_bm)\n",
    "def rule_bp(model,i): #ap = Mset*Pap\n",
    "    return(sum([model.Mset[j]*model.Pbp[j,i] for j in model.j]) == model.bp[i])#building a\n",
    "model.Cbp = Constraint(model.i, rule = rule_bp)\n",
    "\n",
    "def rule_sum_b(model,i): #ap = Mset*Pap\n",
    "    return(model.bm[i]+ model.bp[i]== model.b[i])#building a\n",
    "model.sum_b = Constraint(model.i, rule = rule_sum_b)\n",
    "\n",
    "\n",
    "\n",
    "def rule_cPa(model,i):\n",
    "    return((sum([(model.Pam[j,i])  for j in model.j])) + (sum([(model.Pap[j,i])  for j in model.j]))==1)#each column exactly one nonzero elements  \n",
    "model.cPa = Constraint(model.i, rule = rule_cPa)\n",
    "\n",
    "def rule_cPb(model,i):\n",
    "    return((sum([(model.Pbm[j,i]) for j in model.j])) + (sum([(model.Pbp[j,i]) for j in model.j]))==1)#each column has exactly one nonzero elements  \n",
    "model.cPb = Constraint(model.i, rule = rule_cPb)\n",
    "\n",
    "def rule_rPa(model,i):\n",
    "    return((sum([(model.Pam[i,j]) for j in model.j])) +(sum([(model.Pap[i,j]) for j in model.j])) ==1)#each row exactly one nonzero elements  \n",
    "model.rPa = Constraint(model.i, rule = rule_rPa)\n",
    "def rule_rPb(model,i):\n",
    "    return((sum([(model.Pbm[i,j]) for j in model.j])) + (sum([(model.Pbp[i,j]) for j in model.j]))==1)#each row has exactly one nonzero elements  \n",
    "model.rPb = Constraint(model.i, rule = rule_rPb)\n",
    "\n",
    "\n",
    "def rule_OF(model):\n",
    "    return sum(model.q[i] for i in model.i)\n",
    "\n",
    "model.obj = Objective(rule=rule_OF, sense=maximize)\n",
    "#opt.options['max_iter'] = 100000\n",
    "\n",
    "#['bonmin', 'cbc', 'conopt', 'couenne', 'cplex', 'filmint', 'filter', 'ipopt', 'knitro', 'l-bfgs-b', \n",
    "#'lancelot', 'lgo', 'loqo', 'minlp', 'minos', 'minto', 'mosek', 'octeract', 'ooqp', 'path', 'raposa', 'snopt']"
   ]
  },
  {
   "cell_type": "code",
   "execution_count": 3,
   "id": "11520ca8",
   "metadata": {},
   "outputs": [],
   "source": [
    "def forge_lin_sk(filename = \"toyexample.dat\", store_at = \"forgedsk.txt\", solvername = 'highs', ampl = True, verbose = False):\n",
    "    if ampl==True:\n",
    "        opt = SolverFactory(modules.find(solvername), solve_io=\"nl\") #Couenne was good, ipopt did not give a result(always max iteration)\n",
    "    else:\n",
    "        opt = SolverFactory(solvername)\n",
    "    if solvername == 'gurobi':\n",
    "        # put some option here to focus on feasiblility\n",
    "        opt.options['MIPFocus'] =1 #focus on feasibility\n",
    "        opt.options['ZeroObjNodes'] =5  #we want to run an heuristic search if the model did not find anything\n",
    "        opt.options['IntegralityFocus'] =1 #Please take the integrality seriously\n",
    "        opt.options['SubMIPCuts'] =2\n",
    "    timer = TicTocTimer()\n",
    "    timer.tic('starting timer')\n",
    "    instance = model.create_instance(filename)\n",
    "    print('We just have built the instance, start solving stay tuned!')\n",
    "    results = opt.solve(instance,keepfiles=True, logfile=\"my.log\")\n",
    "\n",
    "    \n",
    "    if (results.solver.status == SolverStatus.ok) and (results.solver.termination_condition == TerminationCondition.optimal):\n",
    "        print('feasible')\n",
    "    elif (results.solver.termination_condition == TerminationCondition.infeasible):\n",
    "        print('infeasible')\n",
    "    else:\n",
    "        print ('Solver Status:',  results.solver.status)\n",
    "    print(value(instance.obj))\n",
    "    a = [int(round(instance.a[i].value,0))%p for i in instance.i]\n",
    "    b = [int(round(instance.b[i].value,0))%p for i in instance.i]\n",
    "    sk = a+b\n",
    "    T = [[instance.T[i,j] for j in instance.j] for i in instance.i]\n",
    "    p = instance.p.value\n",
    "    print('Verifying that indeed aT = b mod p \\n This should be 1 if the sekret keys are valid:\\n')\n",
    "    prodat = np.dot(a,T) %p\n",
    "    isokay = prod(prodat == np.array(b))\n",
    "    print(isokay)\n",
    "    #Write a and b in a file \n",
    "    np.savetxt(store_at, sk, fmt=\"%d\", delimiter=\",\")\n",
    "    dT = timer.toc('task 1')\n",
    "    print(\"elapsed time: %0.1f s\" % dT)\n",
    "    if verbose:\n",
    "        print('Value of a' + str(a))\n",
    "        print('Value of b' + str(b))\n",
    "        print('Value of aT' + str(prodat))\n",
    "    return([isokay,dT])"
   ]
  },
  {
   "cell_type": "code",
   "execution_count": 4,
   "id": "c6cbcb3b",
   "metadata": {},
   "outputs": [
    {
     "name": "stdout",
     "output_type": "stream",
     "text": [
      "[    0.00] starting timer\n",
      "We just have built the instance, start solving stay tuned!\n",
      "Solver script file: 'C:\\Users\\18645\\AppData\\Local\\Temp\\tmp84ctnfrm.gurobi.script'\n",
      "Solver log file: 'my.log'\n",
      "Solver solution file: 'C:\\Users\\18645\\AppData\\Local\\Temp\\tmpockrzwbb.gurobi.txt'\n",
      "Solver problem files: ('C:\\\\Users\\\\18645\\\\AppData\\\\Local\\\\Temp\\\\tmpgy3trcdk.pyomo.lp',)\n",
      "feasible\n",
      "59.0\n",
      "Verifying that indeed aT = b mod p \n",
      " This should be 1 if the sekret keys are valid:\n",
      "\n",
      "1\n",
      "[+   0.91] task 1\n",
      "elapsed time: 0.9 s\n",
      "Value of a[0, 2, 1, 0, 1, 1, 0, 2, 2, 1, 1]\n",
      "Value of b[0, 0, 1, -2, -1, -1, -1, -2, -1, 0, -2]\n",
      "Value of aT[0 0 1 3 4 4 4 3 4 0 3]\n"
     ]
    },
    {
     "data": {
      "text/plain": [
       "[1, 0.9063051000000044]"
      ]
     },
     "execution_count": 4,
     "metadata": {},
     "output_type": "execute_result"
    }
   ],
   "source": [
    "forge_lin_sk(solvername ='gurobi', ampl = False,verbose = True)#Toy examnple"
   ]
  },
  {
   "cell_type": "code",
   "execution_count": 6,
   "id": "4db6a456",
   "metadata": {},
   "outputs": [],
   "source": [
    "#forge_lin_sk(solvername ='highs', ampl = 1,verbose = True) #does not work on my machine"
   ]
  },
  {
   "cell_type": "code",
   "execution_count": null,
   "id": "63227b82",
   "metadata": {
    "scrolled": true
   },
   "outputs": [
    {
     "name": "stdout",
     "output_type": "stream",
     "text": [
      "[    0.00] starting timer\n",
      "We just have built the instance, start solving stay tuned!\n",
      "Solver script file: 'C:\\Users\\18645\\AppData\\Local\\Temp\\tmpv8adjkvc.gurobi.script'\n",
      "Solver log file: 'my.log'\n",
      "Solver solution file: 'C:\\Users\\18645\\AppData\\Local\\Temp\\tmp459jkjg3.gurobi.txt'\n",
      "Solver problem files: ('C:\\\\Users\\\\18645\\\\AppData\\\\Local\\\\Temp\\\\tmpuhm4uuiw.pyomo.lp',)\n"
     ]
    }
   ],
   "source": [
    "forge_lin_sk(solvername ='gurobi', ampl = False, verbose = True, filename = 'level42example.dat', store_at = 'forgesk42.txt')"
   ]
  },
  {
   "cell_type": "code",
   "execution_count": null,
   "id": "aeb788f5",
   "metadata": {},
   "outputs": [],
   "source": []
  }
 ],
 "metadata": {
  "kernelspec": {
   "display_name": "Python 3 (ipykernel)",
   "language": "python",
   "name": "python3"
  },
  "language_info": {
   "codemirror_mode": {
    "name": "ipython",
    "version": 3
   },
   "file_extension": ".py",
   "mimetype": "text/x-python",
   "name": "python",
   "nbconvert_exporter": "python",
   "pygments_lexer": "ipython3",
   "version": "3.9.12"
  }
 },
 "nbformat": 4,
 "nbformat_minor": 5
}
