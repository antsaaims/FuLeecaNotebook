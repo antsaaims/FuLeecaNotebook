{
 "cells": [
  {
   "cell_type": "markdown",
   "id": "61101cf7-01b4-476c-a148-685b41fcb69b",
   "metadata": {},
   "source": [
    "# FuLeeca Attack modeling using Pyomo\n",
    "\n",
    "In this notebook, we are modelling the FuLeeca attack in Pyomo so that we will be able to use different solvers instead of just Gurobi.\n",
    "\n",
    "Solver that did give a forgesk for toyexample.\n",
    "\n",
    "- Highs 8.5 s\n",
    "- Gurobi (needs actual licence)\n",
    "- Couenne 4838.0 s (maybe we should not use this)\n",
    "\n",
    "\n",
    "Solvers that did give error\n",
    "\n",
    "- ipopt: max iter problem\n",
    "- cbc could not run the toy example after 1 hour\n",
    "- amplgsl does not woork\n",
    "- baron does not work \n",
    "- base does not work\n",
    "- conopt did not give correct output\n",
    "- copt did not work\n",
    "-  'ilogcp' it ios for scheduling so do not use it\n",
    "- cplex did not give an output\n",
    "- gcg took too long\n",
    "- gecode: not for continuous variable\n"
   ]
  },
  {
   "cell_type": "code",
   "execution_count": 13,
   "id": "bfe86d20",
   "metadata": {},
   "outputs": [],
   "source": [
    "import warnings\n",
    "warnings.filterwarnings(\"ignore\")"
   ]
  },
  {
   "cell_type": "code",
   "execution_count": 1,
   "id": "59099a70-6ab6-41b4-a0c3-3f7db7df9758",
   "metadata": {},
   "outputs": [],
   "source": [
    "#Loading the libraries to be used \n",
    "from pyomo.environ import *\n",
    "import matplotlib.pyplot as plt\n",
    "import random \n",
    "import numpy as np\n",
    "import pandas as pd\n",
    "from pyomo.common.timing import TicTocTimer\n",
    "from amplpy import modules\n",
    "\n",
    "model = AbstractModel()\n",
    "model.level = Param()\n",
    "model.halfn = Param()\n",
    "model.p = Param()\n",
    "model.uba = Param() #upper bound of a     \n",
    "model.i = Set()\n",
    "model.j = RangeSet(1, model.halfn)\n",
    "model.T = Param(model.i,model.j, within=Reals)\n",
    "model.Mset = Param(model.i, within=Reals)\n",
    "\n",
    "def initval(model,i):\n",
    "    return random.randint(-model.uba,model.uba) #initialization of the variable\n",
    "def init0(model,i):\n",
    "    return(0)\n",
    "def init1(model,i,j):\n",
    "    return(0)\n",
    "model.a = Var(model.i, bounds=(-model.uba,model.uba), within= Reals, initialize=initval)\n",
    "model.b = Var(model.i, bounds=(-model.uba,model.uba) , within= Reals, initialize=initval)\n",
    "model.q = Var(model.i, within=Integers,initialize=init0)\n",
    "model.Pa = Var(model.i,model.j,  bounds=(-1,1), within=Integers,initialize=init1) \n",
    "model.Pb = Var(model.i,model.j,  bounds=(-1,1), within=Integers,initialize=init1) \n",
    "\n",
    "def rule_baT(model,i):\n",
    "        return(np.sum([model.a[j]*model.T[j,i] for j in model.j ]) == model.q[i]*model.p + model.b[i])#b =aT    \n",
    "model.C1   = Constraint(model.i,rule=rule_baT)\n",
    "\n",
    "def rule_a(model,i):\n",
    "    return(sum([model.Mset[j]*model.Pa[j,i] for j in model.j]) == model.a[i])#building a\n",
    "model.Ca = Constraint(model.i, rule = rule_a)\n",
    "def rule_b(model,i):\n",
    "    return(sum([model.Mset[j]*model.Pb[j,i] for j in model.j]) == model.b[i])#building a\n",
    "model.Cb = Constraint(model.i, rule = rule_b)\n",
    "\n",
    "def rule_cPa(model,i):\n",
    "    return((sum([(model.Pa[j,i])**2  for j in model.j]))==1)#each column exactly one nonzero elements  \n",
    "model.cPa = Constraint(model.i, rule = rule_cPa)\n",
    "def rule_cPb(model,i):\n",
    "    return((sum([(model.Pb[j,i])**2 for j in model.j])) ==1)#each column has exactly one nonzero elements  \n",
    "model.cPb = Constraint(model.i, rule = rule_cPb)\n",
    "def rule_rPa(model,i):\n",
    "    return((sum([(model.Pa[i,j])**2 for j in model.j])) ==1)#each row exactly one nonzero elements  \n",
    "model.rPa = Constraint(model.i, rule = rule_rPa)\n",
    "def rule_rPb(model,i):\n",
    "    return((sum([(model.Pb[i,j])**2 for j in model.j])) ==1)#each row has exactly one nonzero elements  \n",
    "model.rPb = Constraint(model.i, rule = rule_rPb)\n",
    "\n",
    "def rule_OF(model):\n",
    "    return sum(model.q[i] for i in model.i)\n",
    "\n",
    "model.obj = Objective(rule=rule_OF, sense=maximize)\n",
    "#opt.options['max_iter'] = 100000\n",
    "\n",
    "#['bonmin', 'cbc', 'conopt', 'couenne', 'cplex', 'filmint', 'filter', 'ipopt', 'knitro', 'l-bfgs-b', \n",
    "#'lancelot', 'lgo', 'loqo', 'minlp', 'minos', 'minto', 'mosek', 'octeract', 'ooqp', 'path', 'raposa', 'snopt']"
   ]
  },
  {
   "cell_type": "code",
   "execution_count": 8,
   "id": "f6c0106a",
   "metadata": {},
   "outputs": [
    {
     "name": "stdout",
     "output_type": "stream",
     "text": [
      "['amplgsl', 'baron', 'base', 'cbc', 'coin', 'conopt', 'copt', 'cplex', 'gcg', 'gecode', 'gokestrel', 'gurobi', 'highs', 'ilogcp', 'knitro']\n"
     ]
    }
   ],
   "source": [
    "print(modules.installed())"
   ]
  },
  {
   "cell_type": "code",
   "execution_count": 2,
   "id": "f04f65a5-f7ac-4814-8f70-d4658000b27b",
   "metadata": {
    "tags": []
   },
   "outputs": [],
   "source": [
    "def forge_sk(filename = \"toyexample.dat\", store_at = \"forgedsk.txt\", solvername = 'highs',verbose = False):\n",
    "    opt = SolverFactory(modules.find(solvername), solve_io=\"nl\") #Couenne was good, ipopt did not give a result(always max iteration)\n",
    "    timer = TicTocTimer()\n",
    "    timer.tic('starting timer')\n",
    "    instance = model.create_instance(filename)\n",
    "    print('We just have built the instance, start solving stay tuned!')\n",
    "    results = opt.solve(instance,keepfiles=True, logfile=\"my.log\")\n",
    "\n",
    "    \n",
    "    if (results.solver.status == SolverStatus.ok) and (results.solver.termination_condition == TerminationCondition.optimal):\n",
    "        print('feasible')\n",
    "    elif (results.solver.termination_condition == TerminationCondition.infeasible):\n",
    "        print('infeasible')\n",
    "    else:\n",
    "        print ('Solver Status:',  results.solver.status)\n",
    "    print(value(instance.obj))\n",
    "    a = [int(round(instance.a[i].value,0)) for i in instance.i]\n",
    "    b = [int(round(instance.b[i].value,0)) for i in instance.i]\n",
    "    sk = a+b\n",
    "    T = [[instance.T[i,j] for j in instance.j] for i in instance.i]\n",
    "    p = instance.p.value\n",
    "    print('Verifying that indeed aT = b mod p \\n This should be 1 if the sekret keys are valid:\\n')\n",
    "    isokay = prod(np.dot(a,T) %p == np.array(b)%p)\n",
    "    print(isokay)\n",
    "    #Write a and b in a file \n",
    "    np.savetxt(store_at, sk, fmt=\"%d\", delimiter=\",\")\n",
    "    dT = timer.toc('task 1')\n",
    "    print(\"elapsed time: %0.1f s\" % dT)\n",
    "    if verbose:\n",
    "        print('Value of a' + str(a))\n",
    "        print('Value of b' + str(b))\n",
    "    return([isokay,dT])"
   ]
  },
  {
   "cell_type": "code",
   "execution_count": 14,
   "id": "55bd7234-bc91-46f1-9204-8f0b4610fd8a",
   "metadata": {
    "tags": []
   },
   "outputs": [],
   "source": [
    "#forge_sk()"
   ]
  },
  {
   "cell_type": "code",
   "execution_count": null,
   "id": "bd7a342f-e007-4427-9fd7-d4334b3bbe8a",
   "metadata": {
    "tags": []
   },
   "outputs": [
    {
     "name": "stdout",
     "output_type": "stream",
     "text": [
      "[    0.00] starting timer\n",
      "We just have built the instance, start solving stay tuned!\n",
      "Solver log file: 'my.log'\n",
      "Solver solution file: '/tmp/tmpeq19ebp5.pyomo.sol'\n",
      "Solver problem files: ('/tmp/tmpeq19ebp5.pyomo.nl',)\n"
     ]
    }
   ],
   "source": [
    "#level 1 \n",
    "#forge_sk(filename = \"level1example.dat\", store_at = \"forgedlevel1sk.txt\", verbose = False)"
   ]
  },
  {
   "cell_type": "code",
   "execution_count": 21,
   "id": "a95c9459-118f-4962-894a-ef26f27ef13b",
   "metadata": {},
   "outputs": [
    {
     "name": "stdout",
     "output_type": "stream",
     "text": [
      "[    0.00] starting timer\n",
      "We just have built the instance, start solving stay tuned!\n",
      "Solver log file: 'my.log'\n",
      "Solver solution file: '/tmp/tmp4jqwwfh2.pyomo.sol'\n",
      "Solver problem files: ('/tmp/tmp4jqwwfh2.pyomo.nl',)\n",
      "feasible\n",
      "59.00000000000001\n",
      "Verifying that indeed aT = b mod p \n",
      " This should be 1 if the sekret keys are valid:\n",
      "\n",
      "1\n",
      "[+   8.75] task 1\n",
      "elapsed time: 8.8 s\n"
     ]
    }
   ],
   "source": [
    "#Toyexample with Highs\n",
    "#forge_sk(filename = \"toyexample.dat\", store_at = \"toyhighssk.txt\", verbose = False)"
   ]
  },
  {
   "cell_type": "code",
   "execution_count": 5,
   "id": "6ca7fc73",
   "metadata": {},
   "outputs": [],
   "source": [
    "listsolver = ['highs']"
   ]
  },
  {
   "cell_type": "code",
   "execution_count": 6,
   "id": "d2dc779d-a393-41c2-80f6-a710e1e72931",
   "metadata": {},
   "outputs": [
    {
     "name": "stdout",
     "output_type": "stream",
     "text": [
      "forging the toyexample using highs\n",
      "[    0.00] starting timer\n",
      "We just have built the instance, start solving stay tuned!\n",
      "Solver log file: 'my.log'\n",
      "Solver solution file: '/tmp/tmpj4azcarl.pyomo.sol'\n",
      "Solver problem files: ('/tmp/tmpj4azcarl.pyomo.nl',)\n",
      "feasible\n",
      "59.00000000000001\n",
      "Verifying that indeed aT = b mod p \n",
      " This should be 1 if the sekret keys are valid:\n",
      "\n",
      "1\n",
      "[+  20.09] task 1\n",
      "elapsed time: 20.1 s\n"
     ]
    }
   ],
   "source": [
    "usedtime = []\n",
    "for solver in listsolver:\n",
    "    print(\"forging the toyexample using \" +solver)\n",
    "    try:\n",
    "        usedtime.append([solver]+\n",
    "                        forge_sk(filename = \"toyexample.dat\",\n",
    "                                 store_at = \"toyhighs\"+solver+\"sk.txt\",\n",
    "                                 solvername = solver, \n",
    "                                 verbose = False))\n",
    "    except:\n",
    "        continue"
   ]
  },
  {
   "cell_type": "code",
   "execution_count": 7,
   "id": "f986872b",
   "metadata": {},
   "outputs": [
    {
     "data": {
      "text/plain": [
       "[['highs', 1, 20.0866441160033]]"
      ]
     },
     "execution_count": 7,
     "metadata": {},
     "output_type": "execute_result"
    }
   ],
   "source": [
    "usedtime"
   ]
  },
  {
   "cell_type": "markdown",
   "id": "871aab7f",
   "metadata": {},
   "source": [
    "## Attack idea #2\n",
    "\n",
    "This is another mathematically equivalent formulation of the previous model. We are going to see how fast it is comparatively to the previous model.\n",
    "\n",
    "This is a linear model. Basically instead of using a = Pa Mset, we split a into a+ and a-. We will have mroe variables, and more constraints but will have all linear equations. We hope being able to solve this using Gurobi.\n",
    "\n"
   ]
  },
  {
   "cell_type": "code",
   "execution_count": 31,
   "id": "3a6950d0",
   "metadata": {},
   "outputs": [],
   "source": [
    "#Loading the libraries to be used \n",
    "from pyomo.environ import *\n",
    "import matplotlib.pyplot as plt\n",
    "import random \n",
    "import numpy as np\n",
    "import pandas as pd\n",
    "from pyomo.common.timing import TicTocTimer\n",
    "from amplpy import modules\n",
    "\n",
    "model = AbstractModel()\n",
    "model.level = Param()\n",
    "model.halfn = Param()\n",
    "model.p = Param()\n",
    "model.uba = Param() #upper bound of a     \n",
    "model.i = Set()\n",
    "model.j = RangeSet(1, model.halfn)\n",
    "model.T = Param(model.i,model.j, within=Reals)\n",
    "model.Mset = Param(model.i, within=Reals)\n",
    "\n",
    "def initval(model,i):\n",
    "    return random.randint(-model.uba,model.uba) #initialization of the variable\n",
    "def init0(model,i):\n",
    "    return(0)\n",
    "def init1(model,i,j):\n",
    "    return(0)\n",
    "model.a = Var(model.i, bounds=(-model.uba,model.uba), within= Reals, initialize=initval)\n",
    "model.ap = Var(model.i, bounds=(0,model.uba), within= Reals, initialize=init0)\n",
    "model.am = Var(model.i, bounds=(-model.uba,0), within= Reals, initialize=init0) # am\n",
    "model.b = Var(model.i, bounds=(-model.uba,model.uba) , within= Reals, initialize=initval)\n",
    "model.bp = Var(model.i, bounds=(0,model.uba) , within= Reals, initialize=init0)\n",
    "model.bm = Var(model.i, bounds=(-model.uba,0) , within= Reals, initialize=init0)\n",
    "model.q = Var(model.i, within=Integers,initialize=init0)\n",
    "model.Pap = Var(model.i,model.j,  bounds=(0,1), within=Integers,initialize=init1) \n",
    "model.Pbp = Var(model.i,model.j,  bounds=(0,1), within=Integers,initialize=init1) \n",
    "model.Pam = Var(model.i,model.j,  bounds=(0,1), within=Integers,initialize=init1) \n",
    "model.Pbm = Var(model.i,model.j,  bounds=(0,1), within=Integers,initialize=init1) \n",
    "\n",
    "def rule_baT(model,i): #b =aT\n",
    "        return(np.sum([model.a[j]*model.T[j,i] for j in model.j ]) == model.q[i]*model.p + model.b[i])#b =aT    \n",
    "model.C1   = Constraint(model.i,rule=rule_baT)\n",
    "\n",
    "def rule_am(model,i): #am = -Mset*Pam\n",
    "    return(sum([-model.Mset[j]*model.Pam[j,i] for j in model.j]) == model.am[i])#building a\n",
    "model.Cam = Constraint(model.i, rule = rule_am)\n",
    "def rule_ap(model,i): #ap = Mset*Pap\n",
    "    return(sum([model.Mset[j]*model.Pap[j,i] for j in model.j]) == model.ap[i])#building a\n",
    "model.Cap = Constraint(model.i, rule = rule_ap)\n",
    "\n",
    "def rule_sum_a(model,i): #ap = Mset*Pap\n",
    "    return(model.am[i]+ model.ap[i]== model.a[i])#building a\n",
    "model.sum_a = Constraint(model.i, rule = rule_sum_a)\n",
    "\n",
    "def rule_bm(model,i): #am = -Mset*Pam\n",
    "    return(sum([-model.Mset[j]*model.Pbm[j,i] for j in model.j]) == model.bm[i])#building a\n",
    "model.Cbm = Constraint(model.i, rule = rule_bm)\n",
    "def rule_bp(model,i): #ap = Mset*Pap\n",
    "    return(sum([model.Mset[j]*model.Pbp[j,i] for j in model.j]) == model.bp[i])#building a\n",
    "model.Cbp = Constraint(model.i, rule = rule_bp)\n",
    "\n",
    "def rule_sum_b(model,i): #ap = Mset*Pap\n",
    "    return(model.bm[i]+ model.bp[i]== model.b[i])#building a\n",
    "model.sum_b = Constraint(model.i, rule = rule_sum_b)\n",
    "\n",
    "\n",
    "\n",
    "def rule_cPa(model,i):\n",
    "    return((sum([(model.Pam[j,i])  for j in model.j])) + (sum([(model.Pap[j,i])  for j in model.j]))==1)#each column exactly one nonzero elements  \n",
    "model.cPa = Constraint(model.i, rule = rule_cPa)\n",
    "\n",
    "def rule_cPb(model,i):\n",
    "    return((sum([(model.Pbm[j,i]) for j in model.j])) + (sum([(model.Pbp[j,i]) for j in model.j]))==1)#each column has exactly one nonzero elements  \n",
    "model.cPb = Constraint(model.i, rule = rule_cPb)\n",
    "\n",
    "def rule_rPa(model,i):\n",
    "    return((sum([(model.Pam[i,j]) for j in model.j])) +(sum([(model.Pap[i,j]) for j in model.j])) ==1)#each row exactly one nonzero elements  \n",
    "model.rPa = Constraint(model.i, rule = rule_rPa)\n",
    "def rule_rPb(model,i):\n",
    "    return((sum([(model.Pbm[i,j]) for j in model.j])) + (sum([(model.Pbp[i,j]) for j in model.j]))==1)#each row has exactly one nonzero elements  \n",
    "model.rPb = Constraint(model.i, rule = rule_rPb)\n",
    "\n",
    "\n",
    "def rule_OF(model):\n",
    "    return sum(model.q[i] for i in model.i)\n",
    "\n",
    "model.obj = Objective(rule=rule_OF, sense=maximize)\n",
    "#opt.options['max_iter'] = 100000\n",
    "\n",
    "#['bonmin', 'cbc', 'conopt', 'couenne', 'cplex', 'filmint', 'filter', 'ipopt', 'knitro', 'l-bfgs-b', \n",
    "#'lancelot', 'lgo', 'loqo', 'minlp', 'minos', 'minto', 'mosek', 'octeract', 'ooqp', 'path', 'raposa', 'snopt']"
   ]
  },
  {
   "cell_type": "code",
   "execution_count": 47,
   "id": "11520ca8",
   "metadata": {},
   "outputs": [],
   "source": [
    "def forge_lin_sk(filename = \"toyexample.dat\", store_at = \"forgedsk.txt\", solvername = 'highs', ampl = True, verbose = False):\n",
    "    if ampl==True:\n",
    "        opt = SolverFactory(modules.find(solvername), solve_io=\"nl\") #Couenne was good, ipopt did not give a result(always max iteration)\n",
    "    else:\n",
    "        opt = SolverFactory(solvername)\n",
    "    timer = TicTocTimer()\n",
    "    timer.tic('starting timer')\n",
    "    instance = model.create_instance(filename)\n",
    "    print('We just have built the instance, start solving stay tuned!')\n",
    "    results = opt.solve(instance,keepfiles=True, logfile=\"my.log\")\n",
    "\n",
    "    \n",
    "    if (results.solver.status == SolverStatus.ok) and (results.solver.termination_condition == TerminationCondition.optimal):\n",
    "        print('feasible')\n",
    "    elif (results.solver.termination_condition == TerminationCondition.infeasible):\n",
    "        print('infeasible')\n",
    "    else:\n",
    "        print ('Solver Status:',  results.solver.status)\n",
    "    print(value(instance.obj))\n",
    "    a = [int(round(instance.a[i].value,0)) for i in instance.i]\n",
    "    b = [int(round(instance.b[i].value,0)) for i in instance.i]\n",
    "    sk = a+b\n",
    "    T = [[instance.T[i,j] for j in instance.j] for i in instance.i]\n",
    "    p = instance.p.value\n",
    "    print('Verifying that indeed aT = b mod p \\n This should be 1 if the sekret keys are valid:\\n')\n",
    "    prodat = np.dot(a,T) %p\n",
    "    isokay = prod(prodat == np.array(b)%p)\n",
    "    print(isokay)\n",
    "    #Write a and b in a file \n",
    "    np.savetxt(store_at, sk, fmt=\"%d\", delimiter=\",\")\n",
    "    dT = timer.toc('task 1')\n",
    "    print(\"elapsed time: %0.1f s\" % dT)\n",
    "    if verbose:\n",
    "        print('Value of a' + str(a))\n",
    "        print('Value of b' + str(b))\n",
    "        print('Value of aT' + str(prodat))\n",
    "    return([isokay,dT])"
   ]
  },
  {
   "cell_type": "code",
   "execution_count": 48,
   "id": "c6cbcb3b",
   "metadata": {},
   "outputs": [
    {
     "name": "stdout",
     "output_type": "stream",
     "text": [
      "[    0.00] starting timer\n",
      "We just have built the instance, start solving stay tuned!\n",
      "Solver script file: 'C:\\Users\\18645\\AppData\\Local\\Temp\\tmp4a2_ktky.gurobi.script'\n",
      "Solver log file: 'my.log'\n",
      "Solver solution file: 'C:\\Users\\18645\\AppData\\Local\\Temp\\tmpc640arkz.gurobi.txt'\n",
      "Solver problem files: ('C:\\\\Users\\\\18645\\\\AppData\\\\Local\\\\Temp\\\\tmpve2f5_ue.pyomo.lp',)\n",
      "feasible\n",
      "59.0\n",
      "Verifying that indeed aT = b mod p \n",
      " This should be 1 if the sekret keys are valid:\n",
      "\n",
      "1\n",
      "[+   0.39] task 1\n",
      "elapsed time: 0.4 s\n",
      "Value of a[0, 1, 1, 2, 1, 0, 1, 2, 1, 0, 2]\n",
      "Value of b[0, -2, -1, -2, 1, 0, -1, -1, -1, 0, -2]\n",
      "Value of aT[0 3 4 3 1 0 4 4 4 0 3]\n"
     ]
    },
    {
     "data": {
      "text/plain": [
       "[1, 0.3871392000000924]"
      ]
     },
     "execution_count": 48,
     "metadata": {},
     "output_type": "execute_result"
    }
   ],
   "source": [
    "forge_lin_sk(solvername ='gurobi', ampl = False,verbose = True)"
   ]
  },
  {
   "cell_type": "code",
   "execution_count": 49,
   "id": "63227b82",
   "metadata": {},
   "outputs": [
    {
     "name": "stdout",
     "output_type": "stream",
     "text": [
      "[    0.00] starting timer\n",
      "We just have built the instance, start solving stay tuned!\n",
      "Solver script file: 'C:\\Users\\18645\\AppData\\Local\\Temp\\tmpx8999vrv.gurobi.script'\n",
      "Solver log file: 'my.log'\n",
      "Solver solution file: 'C:\\Users\\18645\\AppData\\Local\\Temp\\tmp2bcqwn24.gurobi.txt'\n",
      "Solver problem files: ('C:\\\\Users\\\\18645\\\\AppData\\\\Local\\\\Temp\\\\tmphi5yvdr4.pyomo.lp',)\n",
      "WARNING: Loading a SolverResults object with a warning status into\n",
      "model.name=\"unknown\";\n",
      "    - termination condition: infeasibleOrUnbounded\n",
      "    - message from solver: Problem proven to be infeasible or unbounded.\n",
      "Solver Status: warning\n",
      "0\n",
      "Verifying that indeed aT = b mod p \n",
      " This should be 1 if the sekret keys are valid:\n",
      "\n",
      "0\n",
      "[+  50.15] task 1\n",
      "elapsed time: 50.1 s\n",
      "Value of a[10841, -10213, 624, 22694, -28180, -8738, -576, 15586, -28014, 24282, -13516, -9947, 21223, -1484, 13256, 27593, 30951, -22381, 30215, -9809, 15651, 1724, 3577, 5692, -14689, -9904, -19333, -32069, -4207, -11959, -26976, 6938, 19638, 932, -10734, 17942, 8892, -15846, 20472, -16627, -15227, 24204, 2914, 13615, 30315, 3064, 4118, 24007, -9667, -5806, 2729, 24067, -18641, 17276, 3508]\n",
      "Value of b[10469, 21725, -15235, -25314, -21118, 31603, 7747, -5415, -5220, -20530, 12267, 18692, -7442, -18653, -30279, 23763, 31097, 29283, 30767, -8929, 26046, 16277, -31637, 8471, -7067, -7327, -10204, 21535, 2252, -22428, -608, 7642, -13624, 19666, 9904, 17571, 2775, 3782, 5395, -23358, 8186, -17406, 17970, 31986, 1071, 3098, 19058, -16924, 25585, 8897, -15019, 9218, 191, -31825, -31052]\n",
      "Value of aT[16900 22108 24209 21460 11545 30115 58182 32450 32113 24868 18394 58800\n",
      "  4469 29938 41388 13094 59952 24811 20865 33277     6 61018 55525 51161\n",
      "  9513 59297 31888  1638 57023 61775   270 13032  1579 39350 31347  3148\n",
      " 44774 41754 60184 42866 55869 27505 50328 47862 47000 13037 16729 26017\n",
      " 52084 21757 45197 54526 53439 50684 29762]\n"
     ]
    },
    {
     "data": {
      "text/plain": [
       "[0, 50.145979400000215]"
      ]
     },
     "execution_count": 49,
     "metadata": {},
     "output_type": "execute_result"
    }
   ],
   "source": [
    "forge_lin_sk(solvername ='gurobi', ampl = False, verbose = True, filename = 'level42example.dat', store_at = 'forgesk42.txt')"
   ]
  },
  {
   "cell_type": "code",
   "execution_count": 35,
   "id": "f6252ece",
   "metadata": {},
   "outputs": [
    {
     "data": {
      "text/plain": [
       "['base', 'cbc', 'coin', 'highs']"
      ]
     },
     "execution_count": 35,
     "metadata": {},
     "output_type": "execute_result"
    }
   ],
   "source": [
    "modules.installed()"
   ]
  },
  {
   "cell_type": "code",
   "execution_count": null,
   "id": "aeb788f5",
   "metadata": {},
   "outputs": [],
   "source": []
  }
 ],
 "metadata": {
  "kernelspec": {
   "display_name": "Python 3 (ipykernel)",
   "language": "python",
   "name": "python3"
  },
  "language_info": {
   "codemirror_mode": {
    "name": "ipython",
    "version": 3
   },
   "file_extension": ".py",
   "mimetype": "text/x-python",
   "name": "python",
   "nbconvert_exporter": "python",
   "pygments_lexer": "ipython3",
   "version": "3.7.9"
  }
 },
 "nbformat": 4,
 "nbformat_minor": 5
}
