{
 "cells": [
  {
   "cell_type": "markdown",
   "id": "61101cf7-01b4-476c-a148-685b41fcb69b",
   "metadata": {},
   "source": [
    "# FuLeeca Attack modeling using Pyomo\n",
    "\n",
    "In this notebook, we are modelling the FuLeeca attack in Pyomo so that we will be able to use different solvers instead of just Gurobi."
   ]
  },
  {
   "cell_type": "code",
   "execution_count": 11,
   "id": "59099a70-6ab6-41b4-a0c3-3f7db7df9758",
   "metadata": {},
   "outputs": [],
   "source": [
    "#Loading the libraries to be used \n",
    "from pyomo.environ import *\n",
    "import matplotlib.pyplot as plt\n",
    "import random \n",
    "import numpy as np\n",
    "import pandas as pd\n",
    "from pyomo.common.timing import TicTocTimer\n",
    "from amplpy import modules\n",
    "\n",
    "model = AbstractModel()\n",
    "model.level = Param()\n",
    "model.halfn = Param()\n",
    "model.p = Param()\n",
    "model.uba = Param() #upper bound of a     \n",
    "model.i = Set()\n",
    "model.j = RangeSet(1, model.halfn)\n",
    "model.T = Param(model.i,model.j, within=Reals)\n",
    "model.Mset = Param(model.i, within=Reals)\n",
    "\n",
    "def initval(model,i):\n",
    "    return random.randint(-model.uba,model.uba) #initialization of the variable\n",
    "def init0(model,i):\n",
    "    return(0)\n",
    "def init1(model,i,j):\n",
    "    return(0)\n",
    "model.a = Var(model.i, bounds=(-model.uba,model.uba), within= Reals, initialize=initval)\n",
    "model.b = Var(model.i, bounds=(-model.uba,model.uba) , within= Reals, initialize=initval)\n",
    "model.q = Var(model.i, within=Integers,initialize=init0)\n",
    "model.Pa = Var(model.i,model.j,  bounds=(-1,1), within=Integers,initialize=init1) \n",
    "model.Pb = Var(model.i,model.j,  bounds=(-1,1), within=Integers,initialize=init1) \n",
    "\n",
    "def rule_baT(model,i):\n",
    "        return(np.sum([model.a[j]*model.T[j,i] for j in model.j ]) == model.q[i]*model.p + model.b[i])#b =aT    \n",
    "model.C1   = Constraint(model.i,rule=rule_baT)\n",
    "\n",
    "def rule_a(model,i):\n",
    "    return(sum([model.Mset[j]*model.Pa[j,i] for j in model.j]) == model.a[i])#building a\n",
    "model.Ca = Constraint(model.i, rule = rule_a)\n",
    "def rule_b(model,i):\n",
    "    return(sum([model.Mset[j]*model.Pb[j,i] for j in model.j]) == model.b[i])#building a\n",
    "model.Cb = Constraint(model.i, rule = rule_b)\n",
    "\n",
    "def rule_cPa(model,i):\n",
    "    return((sum([(model.Pa[j,i])**2  for j in model.j]))==1)#each column exactly one nonzero elements  \n",
    "model.cPa = Constraint(model.i, rule = rule_cPa)\n",
    "def rule_cPb(model,i):\n",
    "    return((sum([(model.Pb[j,i])**2 for j in model.j])) ==1)#each column has exactly one nonzero elements  \n",
    "model.cPb = Constraint(model.i, rule = rule_cPb)\n",
    "def rule_rPa(model,i):\n",
    "    return((sum([(model.Pa[i,j])**2 for j in model.j])) ==1)#each row exactly one nonzero elements  \n",
    "model.rPa = Constraint(model.i, rule = rule_rPa)\n",
    "def rule_rPb(model,i):\n",
    "    return((sum([(model.Pb[i,j])**2 for j in model.j])) ==1)#each row has exactly one nonzero elements  \n",
    "model.rPb = Constraint(model.i, rule = rule_rPb)\n",
    "\n",
    "def rule_OF(model):\n",
    "    return sum(model.q[i] for i in model.i)\n",
    "\n",
    "model.obj = Objective(rule=rule_OF, sense=maximize)\n",
    "opt = SolverFactory(modules.find(\"highs\"), solve_io=\"nl\") #Couenne was good, ipopt did not give a result\n",
    "#['bonmin', 'cbc', 'conopt', 'couenne', 'cplex', 'filmint', 'filter', 'ipopt', 'knitro', 'l-bfgs-b', \n",
    "#'lancelot', 'lgo', 'loqo', 'minlp', 'minos', 'minto', 'mosek', 'octeract', 'ooqp', 'path', 'raposa', 'snopt']"
   ]
  },
  {
   "cell_type": "code",
   "execution_count": 12,
   "id": "f6c0106a",
   "metadata": {},
   "outputs": [
    {
     "data": {
      "text/plain": [
       "['amplgsl',\n",
       " 'baron',\n",
       " 'base',\n",
       " 'coin',\n",
       " 'conopt',\n",
       " 'cplex',\n",
       " 'gecode',\n",
       " 'highs',\n",
       " 'lgo',\n",
       " 'loqo',\n",
       " 'minos',\n",
       " 'mosek',\n",
       " 'open',\n",
       " 'snopt']"
      ]
     },
     "execution_count": 12,
     "metadata": {},
     "output_type": "execute_result"
    }
   ],
   "source": [
    "modules.installed()"
   ]
  },
  {
   "cell_type": "code",
   "execution_count": 13,
   "id": "f04f65a5-f7ac-4814-8f70-d4658000b27b",
   "metadata": {
    "tags": []
   },
   "outputs": [],
   "source": [
    "def forge_sk(filename = \"toyexample.dat\", store_at = \"forgedsk.txt\", verbose = False):\n",
    "    timer = TicTocTimer()\n",
    "    timer.tic('starting timer')\n",
    "    instance = model.create_instance(filename)\n",
    "    print('We just have built the instance, start solving stay tuned!')\n",
    "    results = opt.solve(instance,keepfiles=True, logfile=\"my.log\")\n",
    "\n",
    "    \n",
    "    if (results.solver.status == SolverStatus.ok) and (results.solver.termination_condition == TerminationCondition.optimal):\n",
    "        print('feasible')\n",
    "    elif (results.solver.termination_condition == TerminationCondition.infeasible):\n",
    "        print('infeasible')\n",
    "    else:\n",
    "        print ('Solver Status:',  results.solver.status)\n",
    "    print(value(instance.obj))\n",
    "    a = [int(round(instance.a[i].value,0)) for i in instance.i]\n",
    "    b = [int(round(instance.b[i].value,0)) for i in instance.i]\n",
    "    sk = a+b\n",
    "    T = [[instance.T[i,j] for j in instance.j] for i in instance.i]\n",
    "    p = instance.p.value\n",
    "    print('Verifying that indeed aT = b mod p \\n This should be 1 if the sekret keys are valid:\\n')\n",
    "    print(prod(np.dot(a,T) %p == np.array(b)%p))\n",
    "    #Write a and b in a file \n",
    "    np.savetxt(store_at, sk, fmt=\"%d\", delimiter=\",\")\n",
    "    dT = timer.toc('task 1')\n",
    "    print(\"elapsed time: %0.1f s\" % dT)\n",
    "    if verbose:\n",
    "        print('Value of a' + str(a))\n",
    "        print('Value of b' + str(b))"
   ]
  },
  {
   "cell_type": "code",
   "execution_count": 14,
   "id": "55bd7234-bc91-46f1-9204-8f0b4610fd8a",
   "metadata": {
    "tags": []
   },
   "outputs": [],
   "source": [
    "#forge_sk()"
   ]
  },
  {
   "cell_type": "code",
   "execution_count": null,
   "id": "bd7a342f-e007-4427-9fd7-d4334b3bbe8a",
   "metadata": {
    "tags": []
   },
   "outputs": [
    {
     "name": "stdout",
     "output_type": "stream",
     "text": [
      "[    0.00] starting timer\n"
     ]
    }
   ],
   "source": [
    "#level 1 \n",
    "forge_sk(filename = \"level1example.dat\", store_at = \"forgedlevel1sk.txt\", verbose = False)"
   ]
  },
  {
   "cell_type": "code",
   "execution_count": 39,
   "id": "a95c9459-118f-4962-894a-ef26f27ef13b",
   "metadata": {},
   "outputs": [],
   "source": []
  },
  {
   "cell_type": "code",
   "execution_count": null,
   "id": "d2dc779d-a393-41c2-80f6-a710e1e72931",
   "metadata": {},
   "outputs": [],
   "source": []
  }
 ],
 "metadata": {
  "kernelspec": {
   "display_name": "Python 3 (ipykernel)",
   "language": "python",
   "name": "python3"
  },
  "language_info": {
   "codemirror_mode": {
    "name": "ipython",
    "version": 3
   },
   "file_extension": ".py",
   "mimetype": "text/x-python",
   "name": "python",
   "nbconvert_exporter": "python",
   "pygments_lexer": "ipython3",
   "version": "3.9.12"
  }
 },
 "nbformat": 4,
 "nbformat_minor": 5
}
