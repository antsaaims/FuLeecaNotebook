{
 "cells": [
  {
   "cell_type": "code",
   "execution_count": 1,
   "id": "06cb6560",
   "metadata": {},
   "outputs": [
    {
     "name": "stdout",
     "output_type": "stream",
     "text": [
      "Solver you already have\n",
      "['base', 'cbc', 'coin', 'gurobi', 'highs']\n"
     ]
    }
   ],
   "source": [
    "import attackfuleeca #importing the class\n",
    "from datetime import datetime\n",
    "import pandas as pd\n"
   ]
  },
  {
   "cell_type": "code",
   "execution_count": 2,
   "id": "3c53736c",
   "metadata": {},
   "outputs": [],
   "source": [
    "attack = attackfuleeca.attack()"
   ]
  },
  {
   "cell_type": "code",
   "execution_count": 3,
   "id": "80287650",
   "metadata": {},
   "outputs": [
    {
     "name": "stdout",
     "output_type": "stream",
     "text": [
      "Hello, I am the python class used to attack FuLeeca,\n",
      " I can be used to generate a key pair for FuLeeca,\n",
      " I also can load a public key from a file,\n",
      " I format the public key so that it can be used in Pyomo,\n",
      ", I use Pyomo to attack the FuLeeca cryptosystem and you got to choose which solver to use!\n"
     ]
    }
   ],
   "source": [
    "print(attack)"
   ]
  },
  {
   "cell_type": "code",
   "execution_count": 29,
   "id": "be4935b0",
   "metadata": {},
   "outputs": [],
   "source": [
    "#attack.generate_key(verbose =True)"
   ]
  },
  {
   "cell_type": "code",
   "execution_count": 6,
   "id": "0f75c125",
   "metadata": {},
   "outputs": [],
   "source": [
    "T = attack.get_T('T.csv')"
   ]
  },
  {
   "cell_type": "code",
   "execution_count": 7,
   "id": "07a19cb2",
   "metadata": {},
   "outputs": [
    {
     "data": {
      "text/plain": [
       "array([[4, 0, 4, 1, 0, 0, 4, 3, 0, 4, 4],\n",
       "       [4, 4, 0, 4, 1, 0, 0, 4, 3, 0, 4],\n",
       "       [4, 4, 4, 0, 4, 1, 0, 0, 4, 3, 0],\n",
       "       [0, 4, 4, 4, 0, 4, 1, 0, 0, 4, 3],\n",
       "       [3, 0, 4, 4, 4, 0, 4, 1, 0, 0, 4],\n",
       "       [4, 3, 0, 4, 4, 4, 0, 4, 1, 0, 0],\n",
       "       [0, 4, 3, 0, 4, 4, 4, 0, 4, 1, 0],\n",
       "       [0, 0, 4, 3, 0, 4, 4, 4, 0, 4, 1],\n",
       "       [1, 0, 0, 4, 3, 0, 4, 4, 4, 0, 4],\n",
       "       [4, 1, 0, 0, 4, 3, 0, 4, 4, 4, 0],\n",
       "       [0, 4, 1, 0, 0, 4, 3, 0, 4, 4, 4]], dtype=uint8)"
      ]
     },
     "execution_count": 7,
     "metadata": {},
     "output_type": "execute_result"
    }
   ],
   "source": [
    "T"
   ]
  },
  {
   "cell_type": "code",
   "execution_count": 8,
   "id": "04d6d517",
   "metadata": {},
   "outputs": [
    {
     "name": "stdout",
     "output_type": "stream",
     "text": [
      "Task done, see your file at toyexample.dat\n"
     ]
    },
    {
     "data": {
      "text/plain": [
       "'param level:=0; \\nparam p:= 5; \\nparam uba:= 2; \\nparam halfn:= 11; \\nparam: i:\\n       Mset:=\\n      1 0\\n      2 0\\n      3 0\\n      4 1\\n      5 1\\n      6 2\\n      7 2\\n      8 2\\n      9 1\\n      10 1\\n      11 1; \\nparam T:  1 2 3 4 5 6 7 8 9 10 11:=\\n        1 4 0 4 1 0 0 4 3 0 4 4\\n        2 4 4 0 4 1 0 0 4 3 0 4\\n        3 4 4 4 0 4 1 0 0 4 3 0\\n        4 0 4 4 4 0 4 1 0 0 4 3\\n        5 3 0 4 4 4 0 4 1 0 0 4\\n        6 4 3 0 4 4 4 0 4 1 0 0\\n        7 0 4 3 0 4 4 4 0 4 1 0\\n        8 0 0 4 3 0 4 4 4 0 4 1\\n        9 1 0 0 4 3 0 4 4 4 0 4\\n        10 4 1 0 0 4 3 0 4 4 4 0\\n        11 0 4 1 0 0 4 3 0 4 4 4;'"
      ]
     },
     "execution_count": 8,
     "metadata": {},
     "output_type": "execute_result"
    }
   ],
   "source": [
    "attack.T_to_dat(T)"
   ]
  },
  {
   "cell_type": "code",
   "execution_count": 3,
   "id": "54056196",
   "metadata": {
    "scrolled": false
   },
   "outputs": [
    {
     "name": "stdout",
     "output_type": "stream",
     "text": [
      "[    0.00] starting timer\n",
      "We just have built the instance, start solving stay tuned!\n",
      "Solver script file: 'C:\\Users\\18645\\AppData\\Local\\Temp\\tmpwc1a_ni6.gurobi.script'\n",
      "Solver log file: 'my.log'\n",
      "Solver solution file: 'C:\\Users\\18645\\AppData\\Local\\Temp\\tmpgztdm7_5.gurobi.txt'\n",
      "Solver problem files: ('C:\\\\Users\\\\18645\\\\AppData\\\\Local\\\\Temp\\\\tmp5re6yuon.pyomo.lp',)\n",
      "feasible\n",
      "53.0\n",
      "Verifying that indeed aT = b mod p \n",
      " This should be 1 if the sekret keys are valid:\n",
      "\n",
      "1\n",
      "[+  12.83] task 1\n",
      "elapsed time: 12.8 s\n"
     ]
    },
    {
     "data": {
      "text/plain": [
       "[1, 12.831060800000003]"
      ]
     },
     "execution_count": 3,
     "metadata": {},
     "output_type": "execute_result"
    }
   ],
   "source": [
    "attack.forge_lin_sk(solvername = 'gurobi', ampl = False,)"
   ]
  },
  {
   "cell_type": "code",
   "execution_count": null,
   "id": "a9dcbed6",
   "metadata": {},
   "outputs": [
    {
     "name": "stdout",
     "output_type": "stream",
     "text": [
      "This should be 1 if the sekret keys are valid\n",
      "1\n",
      "Task done, see your file at dat_files/20231007181445dat.csv.dat\n",
      "[    0.00] starting timer\n",
      "We just have built the instance, start solving stay tuned!\n",
      "Solver script file: 'C:\\Users\\18645\\AppData\\Local\\Temp\\tmpfpoof3qm.gurobi.script'\n",
      "Solver log file: 'my.log'\n",
      "Solver solution file: 'C:\\Users\\18645\\AppData\\Local\\Temp\\tmp2chxxsfo.gurobi.txt'\n",
      "Solver problem files: ('C:\\\\Users\\\\18645\\\\AppData\\\\Local\\\\Temp\\\\tmp1ab9_8h4.pyomo.lp',)\n",
      "feasible\n",
      "53.0\n",
      "Verifying that indeed aT = b mod p \n",
      " This should be 1 if the sekret keys are valid:\n",
      "\n",
      "1\n",
      "[+  12.84] task 1\n",
      "elapsed time: 12.8 s\n",
      "This should be 1 if the sekret keys are valid\n",
      "1\n",
      "Task done, see your file at dat_files/20231007181458dat.csv.dat\n",
      "[    0.00] starting timer\n",
      "We just have built the instance, start solving stay tuned!\n",
      "Solver script file: 'C:\\Users\\18645\\AppData\\Local\\Temp\\tmpxytpz3hr.gurobi.script'\n",
      "Solver log file: 'my.log'\n",
      "Solver solution file: 'C:\\Users\\18645\\AppData\\Local\\Temp\\tmpqq36v_9j.gurobi.txt'\n",
      "Solver problem files: ('C:\\\\Users\\\\18645\\\\AppData\\\\Local\\\\Temp\\\\tmpez4snbh8.pyomo.lp',)\n",
      "feasible\n",
      "53.0\n",
      "Verifying that indeed aT = b mod p \n",
      " This should be 1 if the sekret keys are valid:\n",
      "\n",
      "1\n",
      "[+  10.63] task 1\n",
      "elapsed time: 10.6 s\n",
      "This should be 1 if the sekret keys are valid\n",
      "1\n",
      "Task done, see your file at dat_files/20231007181508dat.csv.dat\n",
      "[    0.00] starting timer\n",
      "We just have built the instance, start solving stay tuned!\n",
      "Solver script file: 'C:\\Users\\18645\\AppData\\Local\\Temp\\tmp__pdq131.gurobi.script'\n",
      "Solver log file: 'my.log'\n",
      "Solver solution file: 'C:\\Users\\18645\\AppData\\Local\\Temp\\tmp_wrybb7g.gurobi.txt'\n",
      "Solver problem files: ('C:\\\\Users\\\\18645\\\\AppData\\\\Local\\\\Temp\\\\tmprq66xmgw.pyomo.lp',)\n",
      "feasible\n",
      "53.0\n",
      "Verifying that indeed aT = b mod p \n",
      " This should be 1 if the sekret keys are valid:\n",
      "\n",
      "1\n",
      "[+  10.55] task 1\n",
      "elapsed time: 10.5 s\n",
      "This should be 1 if the sekret keys are valid\n",
      "1\n",
      "Task done, see your file at dat_files/20231007181519dat.csv.dat\n",
      "[    0.00] starting timer\n",
      "We just have built the instance, start solving stay tuned!\n",
      "Solver script file: 'C:\\Users\\18645\\AppData\\Local\\Temp\\tmp00ksb130.gurobi.script'\n",
      "Solver log file: 'my.log'\n",
      "Solver solution file: 'C:\\Users\\18645\\AppData\\Local\\Temp\\tmpil8rch59.gurobi.txt'\n",
      "Solver problem files: ('C:\\\\Users\\\\18645\\\\AppData\\\\Local\\\\Temp\\\\tmps1ry8svy.pyomo.lp',)\n",
      "feasible\n",
      "53.0\n",
      "Verifying that indeed aT = b mod p \n",
      " This should be 1 if the sekret keys are valid:\n",
      "\n",
      "1\n",
      "[+  10.80] task 1\n",
      "elapsed time: 10.8 s\n",
      "This should be 1 if the sekret keys are valid\n",
      "1\n",
      "Task done, see your file at dat_files/20231007181530dat.csv.dat\n",
      "[    0.00] starting timer\n",
      "We just have built the instance, start solving stay tuned!\n",
      "Solver script file: 'C:\\Users\\18645\\AppData\\Local\\Temp\\tmps33c8ipl.gurobi.script'\n",
      "Solver log file: 'my.log'\n",
      "Solver solution file: 'C:\\Users\\18645\\AppData\\Local\\Temp\\tmp7gf7qqw0.gurobi.txt'\n",
      "Solver problem files: ('C:\\\\Users\\\\18645\\\\AppData\\\\Local\\\\Temp\\\\tmpwg9zebg1.pyomo.lp',)\n",
      "feasible\n",
      "53.0\n",
      "Verifying that indeed aT = b mod p \n",
      " This should be 1 if the sekret keys are valid:\n",
      "\n",
      "1\n",
      "[+  10.30] task 1\n",
      "elapsed time: 10.3 s\n",
      "This should be 1 if the sekret keys are valid\n",
      "1\n",
      "Task done, see your file at dat_files/20231007181540dat.csv.dat\n",
      "[    0.00] starting timer\n",
      "We just have built the instance, start solving stay tuned!\n",
      "Solver script file: 'C:\\Users\\18645\\AppData\\Local\\Temp\\tmp5hdfuyl1.gurobi.script'\n",
      "Solver log file: 'my.log'\n",
      "Solver solution file: 'C:\\Users\\18645\\AppData\\Local\\Temp\\tmpu4fn7pey.gurobi.txt'\n",
      "Solver problem files: ('C:\\\\Users\\\\18645\\\\AppData\\\\Local\\\\Temp\\\\tmpof7dizga.pyomo.lp',)\n",
      "feasible\n",
      "53.0\n",
      "Verifying that indeed aT = b mod p \n",
      " This should be 1 if the sekret keys are valid:\n",
      "\n",
      "1\n",
      "[+  10.14] task 1\n",
      "elapsed time: 10.1 s\n",
      "This should be 1 if the sekret keys are valid\n",
      "1\n",
      "Task done, see your file at dat_files/20231007181550dat.csv.dat\n",
      "[    0.00] starting timer\n",
      "We just have built the instance, start solving stay tuned!\n",
      "Solver script file: 'C:\\Users\\18645\\AppData\\Local\\Temp\\tmp3t9s3uvt.gurobi.script'\n",
      "Solver log file: 'my.log'\n",
      "Solver solution file: 'C:\\Users\\18645\\AppData\\Local\\Temp\\tmpm_45gim6.gurobi.txt'\n",
      "Solver problem files: ('C:\\\\Users\\\\18645\\\\AppData\\\\Local\\\\Temp\\\\tmpmrww_f6u.pyomo.lp',)\n",
      "feasible\n",
      "53.0\n",
      "Verifying that indeed aT = b mod p \n",
      " This should be 1 if the sekret keys are valid:\n",
      "\n",
      "1\n",
      "[+  10.25] task 1\n",
      "elapsed time: 10.2 s\n",
      "This should be 1 if the sekret keys are valid\n",
      "1\n",
      "Task done, see your file at dat_files/20231007181601dat.csv.dat\n",
      "[    0.00] starting timer\n",
      "We just have built the instance, start solving stay tuned!\n",
      "Solver script file: 'C:\\Users\\18645\\AppData\\Local\\Temp\\tmpqytre5q5.gurobi.script'\n",
      "Solver log file: 'my.log'\n",
      "Solver solution file: 'C:\\Users\\18645\\AppData\\Local\\Temp\\tmpqvjyc62a.gurobi.txt'\n",
      "Solver problem files: ('C:\\\\Users\\\\18645\\\\AppData\\\\Local\\\\Temp\\\\tmpadae530c.pyomo.lp',)\n",
      "feasible\n",
      "53.0\n",
      "Verifying that indeed aT = b mod p \n",
      " This should be 1 if the sekret keys are valid:\n",
      "\n",
      "1\n",
      "[+  10.23] task 1\n",
      "elapsed time: 10.2 s\n",
      "This should be 1 if the sekret keys are valid\n",
      "1\n",
      "Task done, see your file at dat_files/20231007181611dat.csv.dat\n",
      "[    0.00] starting timer\n",
      "We just have built the instance, start solving stay tuned!\n",
      "Solver script file: 'C:\\Users\\18645\\AppData\\Local\\Temp\\tmp9azt2rqc.gurobi.script'\n",
      "Solver log file: 'my.log'\n",
      "Solver solution file: 'C:\\Users\\18645\\AppData\\Local\\Temp\\tmpj8ofxsv9.gurobi.txt'\n",
      "Solver problem files: ('C:\\\\Users\\\\18645\\\\AppData\\\\Local\\\\Temp\\\\tmpmcyqywjr.pyomo.lp',)\n",
      "feasible\n",
      "53.0\n",
      "Verifying that indeed aT = b mod p \n",
      " This should be 1 if the sekret keys are valid:\n",
      "\n",
      "1\n",
      "[+  10.19] task 1\n",
      "elapsed time: 10.2 s\n",
      "This should be 1 if the sekret keys are valid\n",
      "1\n",
      "Task done, see your file at dat_files/20231007181621dat.csv.dat\n",
      "[    0.00] starting timer\n",
      "We just have built the instance, start solving stay tuned!\n",
      "Solver script file: 'C:\\Users\\18645\\AppData\\Local\\Temp\\tmp5k7rx7ct.gurobi.script'\n",
      "Solver log file: 'my.log'\n",
      "Solver solution file: 'C:\\Users\\18645\\AppData\\Local\\Temp\\tmpj76avk3v.gurobi.txt'\n",
      "Solver problem files: ('C:\\\\Users\\\\18645\\\\AppData\\\\Local\\\\Temp\\\\tmpfjawa6gy.pyomo.lp',)\n"
     ]
    }
   ],
   "source": [
    "for i in range(10):\n",
    "    s = datetime.now()\n",
    "    now = s.strftime(\"%Y%m%d%H%M%S\")\n",
    "    level = 0\n",
    "    pkfilename = 'generatedpk/' + now +'T.csv'\n",
    "    dat_name = 'dat_files/' + now + 'dat.csv'\n",
    "    skfilename = \"originalsk/\" + now + \"toysk.txt\"\n",
    "    forgedskname = \"forgedsk/\" + now + \"forgedsk.txt\"\n",
    "    infolist = [level, pkfilename, skfilename,forgedskname]\n",
    "    #generate the key \n",
    "    attack.generate_key(level = level, pkfilename = pkfilename, skfilename = skfilename)\n",
    "    T = attack.get_T(pkfilename)\n",
    "    #format the key\n",
    "    attack.T_to_dat(T, level=level, filename = dat_name)\n",
    "    #perform the attack\n",
    "    successlist = list(attack.forge_lin_sk(solvername = 'gurobi', ampl = False))\n",
    "    for k in successlist:\n",
    "        infolist.append(k)\n",
    "    attackdf = pd.DataFrame([infolist], columns =['Level', 'PKFilename',\n",
    "                                                'SKorigfilename', 'ForgeSKFilename', \n",
    "                                                'Succes','ElapsedTime'])\n",
    "    if i == 0:\n",
    "        attackdf.to_csv(\"attackdf.csv\",index=False,header=True,mode=\"a\") # Only make header = True at the first try, after that use False\n",
    "    else:\n",
    "        attackdf.to_csv(\"attackdf.csv\",index=False,header=False,mode=\"a\") # Only make header = True at the first try, after that use False"
   ]
  },
  {
   "cell_type": "code",
   "execution_count": 42,
   "id": "617ab20a",
   "metadata": {},
   "outputs": [],
   "source": []
  },
  {
   "cell_type": "code",
   "execution_count": null,
   "id": "8b51db30",
   "metadata": {},
   "outputs": [],
   "source": []
  }
 ],
 "metadata": {
  "kernelspec": {
   "display_name": "Python 3 (ipykernel)",
   "language": "python",
   "name": "python3"
  },
  "language_info": {
   "codemirror_mode": {
    "name": "ipython",
    "version": 3
   },
   "file_extension": ".py",
   "mimetype": "text/x-python",
   "name": "python",
   "nbconvert_exporter": "python",
   "pygments_lexer": "ipython3",
   "version": "3.7.9"
  }
 },
 "nbformat": 4,
 "nbformat_minor": 5
}
