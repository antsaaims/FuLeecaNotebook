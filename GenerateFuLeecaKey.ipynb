{
 "cells": [
  {
   "cell_type": "markdown",
   "id": "7f2433cc-a43d-4eef-9511-52a0f66817d4",
   "metadata": {},
   "source": [
    "# Generating the Public key file for FuLeeca"
   ]
  },
  {
   "cell_type": "code",
   "execution_count": 1,
   "id": "7f3e600d-be9d-4de8-92ae-a77fbd6fad36",
   "metadata": {},
   "outputs": [],
   "source": [
    "#importing the required library, all of the library here can be install using pip\n",
    "import pandas as pd\n",
    "import numpy as np\n",
    "import galois \n",
    "import random as rnd\n",
    "from scipy.linalg import circulant\n",
    "from functools import reduce\n",
    "from math import exp, floor\n",
    "rnd.seed(0)"
   ]
  },
  {
   "cell_type": "code",
   "execution_count": 2,
   "id": "a6a226ca-b5b5-4325-a2d6-f6121c12cf9d",
   "metadata": {
    "tags": []
   },
   "outputs": [],
   "source": [
    "#Level 1 FuLeeca From Actual authors\n",
    "mset1 = [65363, 65364, 65365, 65366, 65367, 65368, 65369, 65370, 65371, 65372, 65373, 65374, 65375, 65376, 65377, 65378, 65379, 65380, 65381, 65382, 65383, 65384, 65385, 65386, 65387, 65388, 65389, 65390, 65391, 65392, 65393, 65394, 65395, 65396, 65397, 65398, 65399, 65400, 65401, 65402, 65403, 65404, 65405, 65406, 65407, 65408, 65409, 65410, 65411, 65412, 65413, 65414, 65415, 65416, 65417, 65418, 65419, 65420, 65421, 65422, 65423, 65424, 65425, 65426, 65427, 65428, 65429, 65430, 65431, 65432, 65433, 65434, 65435, 65436, 65437, 65438, 65439, 65440, 65441, 65442, 65443, 65444, 65445, 65446, 65447, 65448, 65449, 65450, 65451, 65452, 65453, 65454, 65455, 65456, 65457, 65458, 65459, 65460, 65461, 65462, 65463, 65463, 65464, 65464, 65465, 65465, 65466, 65466, 65467, 65467, 65468, 65468, 65469, 65469, 65470, 65470, 65471, 65471, 65472, 65472, 65473, 65473, 65474, 65474, 65475, 65475, 65476, 65476, 65477, 65477, 65478, 65478, 65479, 65479, 65480, 65480, 65481, 65481, 65482, 65482, 65482, 65483, 65483, 65483, 65484, 65484, 65484, 65485, 65485, 65485, 65486, 65486, 65486, 65487, 65487, 65487, 65488, 65488, 65488, 65489, 65489, 65489, 65490, 65490, 65490, 65491, 65491, 65491, 65492, 65492, 65492, 65493, 65493, 65493, 65494, 65494, 65494, 65495, 65495, 65495, 65495, 65496, 65496, 65496, 65496, 65497, 65497, 65497, 65497, 65498, 65498, 65498, 65498, 65499, 65499, 65499, 65499, 65500, 65500, 65500, 65500, 65501, 65501, 65501, 65501, 65502, 65502, 65502, 65502, 65503, 65503, 65503, 65503, 65504, 65504, 65504, 65504, 65505, 65505, 65505, 65505, 65506, 65506, 65506, 65506, 65506, 65507, 65507, 65507, 65507, 65507, 65508, 65508, 65508, 65508, 65508, 65509, 65509, 65509, 65509, 65509, 65510, 65510, 65510, 65510, 65510, 65511, 65511, 65511, 65511, 65511, 65512, 65512, 65512, 65512, 65512, 65513, 65513, 65513, 65513, 65513, 65514, 65514, 65514, 65514, 65514, 65514, 65515, 65515, 65515, 65515, 65515, 65515, 65516, 65516, 65516, 65516, 65516, 65516, 65517, 65517, 65517, 65517, 65517, 65517, 65518, 65518, 65518, 65518, 65518, 65518, 65519, 65519, 65519, 65519, 65519, 65519, 65520, 65520, 65520, 65520, 65520, 65520, 1, 1, 1, 1, 1, 1, 2, 2, 2, 2, 2, 2, 3, 3, 3, 3, 3, 3, 4, 4, 4, 4, 4, 4, 5, 5, 5, 5, 5, 5, 6, 6, 6, 6, 6, 6, 7, 7, 7, 7, 7, 7, 8, 8, 8, 8, 8, 9, 9, 9, 9, 9, 10, 10, 10, 10, 10, 11, 11, 11, 11, 11, 12, 12, 12, 12, 12, 13, 13, 13, 13, 13, 14, 14, 14, 14, 14, 15, 15, 15, 15, 15, 16, 16, 16, 16, 17, 17, 17, 17, 18, 18, 18, 18, 19, 19, 19, 19, 20, 20, 20, 20, 21, 21, 21, 21, 22, 22, 22, 22, 23, 23, 23, 23, 24, 24, 24, 24, 25, 25, 25, 25, 26, 26, 26, 26, 27, 27, 27, 28, 28, 28, 29, 29, 29, 30, 30, 30, 31, 31, 31, 32, 32, 32, 33, 33, 33, 34, 34, 34, 35, 35, 35, 36, 36, 36, 37, 37, 37, 38, 38, 38, 39, 39, 39, 40, 40, 41, 41, 42, 42, 43, 43, 44, 44, 45, 45, 46, 46, 47, 47, 48, 48, 49, 49, 50, 50, 51, 51, 52, 52, 53, 53, 54, 54, 55, 55, 56, 56, 57, 57, 58, 58, 59, 60, 61, 62, 63, 64, 65, 66, 67, 68, 69, 70, 71, 72, 73, 74, 75, 76, 77, 78, 79, 80, 81, 82, 83, 84, 85, 86, 87, 88, 89, 90, 91, 92, 93, 94, 95, 96, 97, 98, 99, 100, 101, 102, 103, 104, 105, 106, 107, 108, 109, 110, 111, 112, 113, 114, 115, 116, 117, 118, 119, 120, 121, 122, 123, 124, 125, 126, 127, 128, 129, 130, 131, 132, 133, 134, 135, 136, 137, 138, 139, 140, 141, 142, 143, 144, 145, 146, 147, 148, 149, 150, 151, 152, 153, 154, 155, 156, 157, 158, 0, 0, 0, 0, 0, 0, 0, 0, 0, 0, 0, 0, 0, 0, 0, 0, 0, 0, 0, 0, 0, 0, 0, 0, 0, 0, 0, 0, 0, 0, 0, 0, 0, 0, 0, 0, 0, 0, 0, 0, 0, 0, 0, 0, 0, 0, 0, 0, 0, 0, 0, 0, 0]"
   ]
  },
  {
   "cell_type": "markdown",
   "id": "6e144fc1",
   "metadata": {},
   "source": [
    "This following pieces of code was originally written in Magma by Ryann Cartor. Objective: generating smaller instances that can be attacked. Ryann generated parameters for 14 different instances that we will be calling level halfn."
   ]
  },
  {
   "cell_type": "code",
   "execution_count": 3,
   "id": "5c3f0f71",
   "metadata": {},
   "outputs": [],
   "source": [
    "# #load \"~/Library/CloudStorage/Box-Box/magma/FuLeeca/TLS.magma\";\n",
    "# WHAT TO DO: Change size of halfn and then run MakeTLS()\n",
    "# Once we have TLS, we will need to use it to make a PK\n",
    "# With that new PK, we can try running the attack \n",
    "\n",
    "q =65521\n",
    "w =0.001437\n",
    "beta =0.021240595234768\n",
    "Z =94.1628598983449\n",
    "\n",
    "def pw(x,q =65521, beta =0.021240595234768,Z = 94.1628598983449): #probability of x occuring\n",
    "    '''Given x, how many times does x occures'''\n",
    "    return (1/Z)*exp(-1*beta*min(x, q-x));\n",
    "\n",
    "tau=0.25 #estimate of tau, which decides what goes in TLS\n",
    "\n",
    "def NumberInTLS(x, halfn,q =65521, beta =0.021240595234768,Z = 94.1628598983449,tau=0.25):\n",
    "    '''Given an element in the field,how many of it will be in the TLS'''\n",
    "    a=pw(x,q,beta,Z)*halfn\n",
    "    if a >= 1:\n",
    "        b=floor(a)\n",
    "    else:\n",
    "        if a >= tau:\n",
    "            b=1\n",
    "        else:\n",
    "            b=0\n",
    "    return b\n",
    "\n",
    "def MakeTLS(halfn,q =65521, beta =0.021240595234768,Z = 94.1628598983449,tau=0.25):\n",
    "    '''Given the value of halfn, generate the typical Lee Set'''\n",
    "    TLS=[]\n",
    "    for i in range(q):\n",
    "        TLS= TLS + [i for j in range(NumberInTLS(i,halfn,q,beta,Z,tau))]\n",
    "    if len(TLS)<halfn:\n",
    "        TLS =TLS + [0 for i in range(halfn-len(TLS))]\n",
    "    return TLS"
   ]
  },
  {
   "cell_type": "code",
   "execution_count": 4,
   "id": "95281ced",
   "metadata": {},
   "outputs": [],
   "source": [
    "#SmallInstancesHalfn = [2,3,4,5,6,11,21,42,83,165,331,659,991,1319] #used the generate the file \n",
    "SmallInstancesHalfn = [42,83,165,331,659,991,1319]#the ones that are interesting"
   ]
  },
  {
   "cell_type": "code",
   "execution_count": 6,
   "id": "851bd492",
   "metadata": {},
   "outputs": [],
   "source": [
    "#used to generate the Smaller instance\n",
    "# file = open('SmallInstancesTLS.txt','w')\n",
    "# file.write(\"This is the list of TLS for small instances generated using the code by Prof Ryann Cartor\\n\")\n",
    "# for x in SmallInstancesTLS:\n",
    "# \tfile.write(str(x[0])+':'+str(x[1])+\"\\n\")\n",
    "# file.close()"
   ]
  },
  {
   "cell_type": "code",
   "execution_count": 16,
   "id": "9e7416ed",
   "metadata": {},
   "outputs": [],
   "source": [
    "#SmallInstancesTLS = [[65521,halfn, MakeTLS(halfn)] for halfn in SmallInstancesHalfn]"
   ]
  },
  {
   "cell_type": "code",
   "execution_count": 5,
   "id": "cae8b30a-c14d-48b8-b7eb-4de99e6419f1",
   "metadata": {
    "tags": []
   },
   "outputs": [],
   "source": [
    "#Key Generation ALgorithm in Python\n",
    " # choose 0 for toy example, 1,3,5 for each corresponding NIST security level\n",
    "def generate_key(level =0, verbose = False, pkfilename = 'T.csv', skfilename = \"toysk.txt\", needvalue =False):\n",
    "    #Setting the parameters corresponding to the security level\n",
    "    if level == 0:\n",
    "        p = 5\n",
    "        mset = [0, 0, 0, 1, 1, 2, 2, 3, 4, 4, 4]        \n",
    "    elif level ==1:\n",
    "        p = 65521\n",
    "        mset = mset1\n",
    "    elif level in SmallInstancesHalfn:\n",
    "        p = 65521\n",
    "        mset =  MakeTLS(level)\n",
    "    else: \n",
    "        print(\"That level does not exists in this module\")\n",
    "        return(None)\n",
    "    print(\"p is \" + str(p))\n",
    "    #Define typical set based on param set\n",
    "    GF = galois.GF(p)\n",
    "    #Mset = np.array(mset) \n",
    "    Mset = np.array([min(abs(x - p),x) for x in mset])\n",
    "    halfn = len(Mset) \n",
    "    #uba = (p-1) #upper bound of a \n",
    "    def poly_transform_to_two_side(poly):\n",
    "        '''Transforms one sided shuffled\n",
    "        typical set to two sided \n",
    "        by flipping random entries''' \n",
    "        howtoflip = np.array([rnd.choice([1,-1]) for i in range(len(poly))])\n",
    "        return(np.array(poly)*howtoflip)\n",
    "    def poly_sample_from_typical_set():\n",
    "        '''Generate an element of the typical Lee set'''\n",
    "        #Init and shuffle range array\n",
    "        res = reduce(lambda acc, _: np.random.permutation(acc),\n",
    "                 range(len(Mset)), np.array(Mset))\n",
    "        poly = res.tolist()\n",
    "        #Use random bits to flip signs of coeffs. in key    \n",
    "        return(poly_transform_to_two_side(poly))\n",
    "    b_orig = poly_sample_from_typical_set()\n",
    "    stop = 0\n",
    "    while not stop:\n",
    "        a_orig = poly_sample_from_typical_set()\n",
    "        A_orig = GF(circulant([x%p for x in a_orig]).transpose())\n",
    "        D = np.linalg.det(A_orig)\n",
    "        if  D!=0:\n",
    "            stop = 1 \n",
    "            if verbose:\n",
    "                print(\"The determinant of A_orig is \"+ str(D))\n",
    "    \n",
    "    B_orig = GF(circulant([x%p for x in b_orig]).transpose())\n",
    "    # value for T\n",
    "    T = np.dot(np.linalg.inv(A_orig), B_orig) #Numpy does not know * as a matrix mutliplication\n",
    "    T = np.array(T) ## back to R, as we do not have any notion of order in Fp\n",
    "    if verbose:\n",
    "        print(\"Alice's a value: \" + str(a_orig))\n",
    "        print(\"Alice's b value: \" + str(b_orig))\n",
    "        print(\"Alice's T value: \")\n",
    "        print(T)\n",
    "    # If you are gonna publish your public key, use this \n",
    "    #Public key\n",
    "    np.savetxt(pkfilename, T, fmt=\"%d\", delimiter=\",\")\n",
    "    #Private key\n",
    "    sk = list(a_orig)+list(b_orig)\n",
    "    np.savetxt(skfilename, sk, fmt=\"%d\", delimiter=\",\")\n",
    "    print('This should be 1 if the sekret keys are valid')\n",
    "    print(np.prod((np.dot(a_orig,T)-b_orig) %p == 0))\n",
    "    if needvalue== True:\n",
    "        return([a_orig, b_orig,T])\n",
    "    return(None)"
   ]
  },
  {
   "cell_type": "code",
   "execution_count": 6,
   "id": "cc905877-cf29-44b9-9ea5-fe3d943091fc",
   "metadata": {
    "tags": []
   },
   "outputs": [
    {
     "name": "stdout",
     "output_type": "stream",
     "text": [
      "p is 5\n",
      "The determinant of A_orig is 4\n",
      "Alice's a value: [-1  2  1 -2  2 -1  1  1  0  0  0]\n",
      "Alice's b value: [-2 -1  2  0 -1 -1 -1  0 -2  1  0]\n",
      "Alice's T value: \n",
      "[[0 3 0 1 4 1 4 1 1 3 2]\n",
      " [2 0 3 0 1 4 1 4 1 1 3]\n",
      " [3 2 0 3 0 1 4 1 4 1 1]\n",
      " [1 3 2 0 3 0 1 4 1 4 1]\n",
      " [1 1 3 2 0 3 0 1 4 1 4]\n",
      " [4 1 1 3 2 0 3 0 1 4 1]\n",
      " [1 4 1 1 3 2 0 3 0 1 4]\n",
      " [4 1 4 1 1 3 2 0 3 0 1]\n",
      " [1 4 1 4 1 1 3 2 0 3 0]\n",
      " [0 1 4 1 4 1 1 3 2 0 3]\n",
      " [3 0 1 4 1 4 1 1 3 2 0]]\n",
      "This should be 1 if the sekret keys are valid\n",
      "1\n"
     ]
    }
   ],
   "source": [
    "key_dict = generate_key(verbose = True,needvalue=True) #Toyexample"
   ]
  },
  {
   "cell_type": "code",
   "execution_count": 9,
   "id": "0bd23a35-b60f-48f2-9a93-2b2139f70aac",
   "metadata": {
    "tags": []
   },
   "outputs": [
    {
     "name": "stdout",
     "output_type": "stream",
     "text": [
      "p is 65521\n",
      "This should be 1 if the sekret keys are valid\n",
      "1\n"
     ]
    }
   ],
   "source": [
    "level1key = generate_key(needvalue = 1, level =1, verbose = 0, pkfilename = 'Tlevel1.csv', skfilename = \"level1sk.txt\")"
   ]
  },
  {
   "cell_type": "markdown",
   "id": "0237cc26",
   "metadata": {},
   "source": [
    "## Generating a key pairs for the smaller instances from Ryann's code."
   ]
  },
  {
   "cell_type": "code",
   "execution_count": 11,
   "id": "0dec9a7e-f309-4747-9b28-9c8f9b15a73e",
   "metadata": {
    "jupyter": {
     "source_hidden": true
    },
    "tags": []
   },
   "outputs": [
    {
     "name": "stdout",
     "output_type": "stream",
     "text": [
      "p is 65521\n",
      "The determinant of A_orig is 58559\n",
      "Alice's a value: [ 13   8   2  21 -14 -12 -26 -11 -15   8  25  17 -17 -25  -1  -4  -5  23\n",
      "  14  22  27  -1  18   9   7  24 -11 -19  20  -2 -22   6  23   5 -19  -7\n",
      "  18  10 -15   4  -9 -21  16   0  24 -10 -13   3  -6 -20 -12  27  -3  26\n",
      " -16]\n",
      "Alice's b value: [ -1  -7  -6  -2  -3  19  -8 -17  -6  10   9 -21  14  -5 -26  18 -25  13\n",
      " -11  10  27   2 -27   1 -12  -5  11  22  23   3  26  20   0  23   9  24\n",
      "  19  13  12  22  25  20   7  -4 -16  16  18  -8 -14  15   4  15 -17 -21\n",
      "  24]\n",
      "Alice's T value: \n",
      "[[15721 45813 43846 ... 37663 28746 63171]\n",
      " [63171 15721 45813 ... 48794 37663 28746]\n",
      " [28746 63171 15721 ... 61022 48794 37663]\n",
      " ...\n",
      " [ 8930 25829 44651 ... 15721 45813 43846]\n",
      " [43846  8930 25829 ... 63171 15721 45813]\n",
      " [45813 43846  8930 ... 28746 63171 15721]]\n",
      "This should be 1 if the sekret keys are valid\n",
      "1\n"
     ]
    }
   ],
   "source": [
    "generate_key(level =42,  pkfilename = 'T42.csv', skfilename = \"toy42sk.txt\", verbose = 1)"
   ]
  },
  {
   "cell_type": "code",
   "execution_count": 21,
   "id": "1c912e74",
   "metadata": {},
   "outputs": [],
   "source": [
    "#MakeTLS(42)"
   ]
  },
  {
   "cell_type": "code",
   "execution_count": null,
   "id": "a4d7d79c",
   "metadata": {},
   "outputs": [],
   "source": []
  }
 ],
 "metadata": {
  "kernelspec": {
   "display_name": "Python 3 (ipykernel)",
   "language": "python",
   "name": "python3"
  },
  "language_info": {
   "codemirror_mode": {
    "name": "ipython",
    "version": 3
   },
   "file_extension": ".py",
   "mimetype": "text/x-python",
   "name": "python",
   "nbconvert_exporter": "python",
   "pygments_lexer": "ipython3",
   "version": "3.9.12"
  }
 },
 "nbformat": 4,
 "nbformat_minor": 5
}
