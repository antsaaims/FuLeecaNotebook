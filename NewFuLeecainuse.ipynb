{
 "cells": [
  {
   "cell_type": "markdown",
   "id": "23ccb4e1-6dee-43f2-a777-76887d655bed",
   "metadata": {},
   "source": [
    " # Full attack in use\n",
    "    \n",
    "    This is the test file for this Python module"
   ]
  },
  {
   "cell_type": "code",
   "execution_count": 5,
   "id": "053ff4ee-69ff-4e45-97a9-03a557364742",
   "metadata": {},
   "outputs": [],
   "source": [
    "#!pip install pyomo\n",
    "#!pip install hsnf==0.3.13"
   ]
  },
  {
   "cell_type": "code",
   "execution_count": 9,
   "id": "f5368a4e-710c-4412-a9af-cdce32d13e27",
   "metadata": {},
   "outputs": [
    {
     "name": "stdout",
     "output_type": "stream",
     "text": [
      "Solver you already have\n",
      "['base', 'gurobi', 'highs']\n"
     ]
    }
   ],
   "source": [
    "import attackfuleeca\n",
    "from datetime import datetime\n",
    "import pandas as pd"
   ]
  },
  {
   "cell_type": "code",
   "execution_count": 10,
   "id": "ad30ca98-d5ba-49b9-8956-a54a1426f9ca",
   "metadata": {},
   "outputs": [],
   "source": [
    "attack = attackfuleeca.attack()"
   ]
  },
  {
   "cell_type": "code",
   "execution_count": 12,
   "id": "e5d3b407-4019-4a73-9a68-827e34641cae",
   "metadata": {},
   "outputs": [
    {
     "name": "stdout",
     "output_type": "stream",
     "text": [
      "Hello, I am the python class used to attack FuLeeca,\n",
      " I can be used to generate a key pair for FuLeeca,\n",
      " I also can load a public key from a file,\n",
      " I format the public key so that it can be used in Pyomo,\n",
      ", I use Pyomo to attack the FuLeeca cryptosystem and you got to choose which solver to use!\n"
     ]
    }
   ],
   "source": [
    "print(attack)"
   ]
  },
  {
   "cell_type": "code",
   "execution_count": null,
   "id": "c45e3b9b-bec6-4241-b0df-08761599d03f",
   "metadata": {},
   "outputs": [],
   "source": [
    "attack.generate_key(verbose =True)"
   ]
  },
  {
   "cell_type": "code",
   "execution_count": null,
   "id": "be14a97b-ced4-49af-8e5d-7126acd961ac",
   "metadata": {},
   "outputs": [],
   "source": [
    "T = attack.get_T('T.csv')"
   ]
  },
  {
   "cell_type": "code",
   "execution_count": null,
   "id": "1e3a8562-135e-487c-af6d-2062cb68349f",
   "metadata": {},
   "outputs": [],
   "source": [
    "print(attack.T_to_dat(T, level = 0))"
   ]
  },
  {
   "cell_type": "code",
   "execution_count": null,
   "id": "9cc702a8-622d-4520-ba88-ba68f049dca3",
   "metadata": {},
   "outputs": [],
   "source": [
    "attack.forge_lin_sk(solvername = 'gurobi', ampl = False,verbose = True)"
   ]
  }
 ],
 "metadata": {
  "kernelspec": {
   "display_name": "Python 3 (ipykernel)",
   "language": "python",
   "name": "python3"
  },
  "language_info": {
   "codemirror_mode": {
    "name": "ipython",
    "version": 3
   },
   "file_extension": ".py",
   "mimetype": "text/x-python",
   "name": "python",
   "nbconvert_exporter": "python",
   "pygments_lexer": "ipython3",
   "version": "3.9.12"
  }
 },
 "nbformat": 4,
 "nbformat_minor": 5
}
