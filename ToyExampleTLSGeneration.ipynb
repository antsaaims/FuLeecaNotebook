{
 "cells": [
  {
   "cell_type": "markdown",
   "id": "e31ca205-d92c-403b-b1ce-a9e61aabad2c",
   "metadata": {},
   "source": [
    "# Generating the toy typical Lee set of the toy example"
   ]
  },
  {
   "cell_type": "code",
   "execution_count": 1,
   "id": "bf3c0b43-929e-4fdb-816d-040a33f75e94",
   "metadata": {},
   "outputs": [],
   "source": [
    "#Toy example parameters\n",
    "p = 457\n",
    "nlist = [70,140,210]"
   ]
  },
  {
   "cell_type": "code",
   "execution_count": 14,
   "id": "f51680ed-9183-4fff-b82e-4572307f0583",
   "metadata": {},
   "outputs": [],
   "source": [
    "# import the required libraries \n",
    "import random \n",
    "import matplotlib.pyplot as plt \n",
    "random.seed(10) #To make sure we will always get the same result\n",
    "TLSlist = [] \n",
    "for n in nlist:\n",
    "    # store the random numbers in a list \n",
    "    nums = [] \n",
    "    mu = 0\n",
    "    sigma = p/4\n",
    "\n",
    "    while len(nums)<(n//2): \n",
    "        temp = int(random.gauss(mu, sigma))  \n",
    "        if temp>-p/2 and temp< p/2:\n",
    "            nums.append(temp) \n",
    "    TLSlist.append(nums)"
   ]
  },
  {
   "cell_type": "code",
   "execution_count": 16,
   "id": "c25e05be-2855-4998-aee9-85555c8fef24",
   "metadata": {},
   "outputs": [
    {
     "data": {
      "text/plain": [
       "'[-108, -52, -68, -36, 82, -196, -38, -55, -100, -13, 0, 34, 0, 99, -119, -68, 63, -57, -112, -65, -154, 130, 144, -33, -26, -22, 61, 1, 90, -35, -162, 182, -56, 132, -38]'"
      ]
     },
     "execution_count": 16,
     "metadata": {},
     "output_type": "execute_result"
    }
   ],
   "source": [
    "str(TLSlist[0])"
   ]
  },
  {
   "cell_type": "code",
   "execution_count": 17,
   "id": "1d482450-94dc-431e-9ee6-0654ad300de2",
   "metadata": {},
   "outputs": [
    {
     "data": {
      "text/plain": [
       "'[16, -189, -111, 45, 67, -26, 16, -210, 4, -77, -118, 39, -51, -100, -45, -44, -33, 8, -50, 104, 179, 115, -39, -73, 44, -24, 156, 25, 51, -65, 18, -125, -170, 22, -128, -70, 99, 180, 5, -49, 87, 109, 59, -98, -56, 116, -124, 7, 139, 117, -73, -32, -24, -126, 8, -97, 69, -122, -72, -68, 4, 108, -26, 15, 141, 2, 47, 15, 97, 79]'"
      ]
     },
     "execution_count": 17,
     "metadata": {},
     "output_type": "execute_result"
    }
   ],
   "source": [
    "str(TLSlist[1])"
   ]
  },
  {
   "cell_type": "code",
   "execution_count": 18,
   "id": "050f61e7-4664-4883-b42a-847de49153c9",
   "metadata": {},
   "outputs": [
    {
     "data": {
      "text/plain": [
       "'[131, -6, -118, 31, -124, 0, -36, -38, -113, -147, -202, 47, 69, -127, -118, -95, -118, 62, -114, 103, -207, 89, -47, 72, 30, 93, -10, -30, -55, -212, -144, 37, 99, 65, 36, 13, 49, 0, -183, 42, -46, -130, -149, 78, -84, -30, -105, 120, -54, -56, -179, -148, 114, -120, 108, 51, 32, 20, -3, 126, 9, -160, -35, 172, -135, -5, -10, 122, -100, 154, -123, 13, -129, 18, -67, -169, 36, -110, 79, 182, -8, 203, 88, 10, -17, -47, 88, -9, -156, -14, 71, 25, 44, 67, 35, 185, 71, -22, -110, -53, 227, -36, 76, 7, 86]'"
      ]
     },
     "execution_count": 18,
     "metadata": {},
     "output_type": "execute_result"
    }
   ],
   "source": [
    "str(TLSlist[2])"
   ]
  },
  {
   "cell_type": "code",
   "execution_count": null,
   "id": "80f9d626-9a11-4624-aad6-637a9199a7a7",
   "metadata": {},
   "outputs": [],
   "source": []
  }
 ],
 "metadata": {
  "kernelspec": {
   "display_name": "Python 3 (ipykernel)",
   "language": "python",
   "name": "python3"
  },
  "language_info": {
   "codemirror_mode": {
    "name": "ipython",
    "version": 3
   },
   "file_extension": ".py",
   "mimetype": "text/x-python",
   "name": "python",
   "nbconvert_exporter": "python",
   "pygments_lexer": "ipython3",
   "version": "3.9.12"
  }
 },
 "nbformat": 4,
 "nbformat_minor": 5
}
